{
  "nbformat": 4,
  "nbformat_minor": 0,
  "metadata": {
    "colab": {
      "name": "3회차.ipynb",
      "provenance": [],
      "collapsed_sections": [],
      "include_colab_link": true
    },
    "kernelspec": {
      "name": "python3",
      "display_name": "Python 3"
    },
    "language_info": {
      "name": "python"
    }
  },
  "cells": [
    {
      "cell_type": "markdown",
      "metadata": {
        "id": "view-in-github",
        "colab_type": "text"
      },
      "source": [
        "<a href=\"https://colab.research.google.com/github/junheeyoon/Big-Data-analyst-Study/blob/master/%EC%8B%A4%EC%8A%B5%203%ED%9A%8C%EC%B0%A8.ipynb\" target=\"_parent\"><img src=\"https://colab.research.google.com/assets/colab-badge.svg\" alt=\"Open In Colab\"/></a>"
      ]
    },
    {
      "cell_type": "code",
      "metadata": {
        "id": "USBT7zu6rbhz",
        "colab": {
          "base_uri": "https://localhost:8080/"
        },
        "outputId": "cf4ce00f-f123-4bad-9f10-89ef82b37ffa"
      },
      "source": [
        "from google.colab import drive\n",
        "drive.mount('/content/drive')"
      ],
      "execution_count": 1,
      "outputs": [
        {
          "output_type": "stream",
          "text": [
            "Mounted at /content/drive\n"
          ],
          "name": "stdout"
        }
      ]
    },
    {
      "cell_type": "markdown",
      "metadata": {
        "id": "VBNOynE5hhrB"
      },
      "source": [
        "# 1. 문제 단답형 10문제"
      ]
    },
    {
      "cell_type": "markdown",
      "metadata": {
        "id": "ZzX5zSZohjrh"
      },
      "source": [
        "1. 주어진 데이터에서 마진을 최대화 하는 초평면을 구하는 방법으로 학습하는 알고리즘은? \n",
        "\n",
        "2. 긍정으로 예측한 범주에서 실제로 긍정인 비율을 무엇이라고 하는가? \n",
        "\n",
        "3. 1-특이도로 계산되며, 실제로 부정인 범주에서 긍정으로 잘못예측한 비율을 무엇이라고 하는가? \n",
        "\n",
        "4. 참긍정률이라고하며, 실제로 긍정인 범주에서 긍정으로 예측한 비율을 무엇이라고 하나.\n",
        "\n",
        "5. 스트리밍 데이터 흐름(Data Flow)을 비동기 방식으로 처리하는 분산형 로그 수집 기술\n",
        "\n",
        "6.  네트워크를 통해 센서 데이터 및 오디오, 비디오 등의 미디어 데이터를 실시간으로 수집하는 기술\n",
        "\n",
        "7. 기존의 변수를 조합해 만든 새로운 변수로 특정 의미를 갖는 작위적 의미의 변수는?\n",
        "\n",
        "8. 프라이버시보호모델 중 특정인임을 추론할 수 있는지 여부를 검토, 일정 확률수준 이상 비식별되도록 하는 기법은?\n",
        "\n",
        "9. 자연어 처리 기술을 이용해 인간의 언어로 쓰인 비정형  텍스트에서 유용한 정보를 추출하거나 다른 데이터와의 연관성을 파악하기 위한 방법은"
      ]
    },
    {
      "cell_type": "code",
      "metadata": {
        "colab": {
          "base_uri": "https://localhost:8080/"
        },
        "id": "wUOx9kcUhUpZ",
        "outputId": "88cf893f-4d1e-4884-fc3c-69cd33338447"
      },
      "source": [
        "print(\"1. SVM\")\n",
        "print(\"2. precision\")\n",
        "print(\"3. 거짓긍정률\")\n",
        "print(\"4. recall\")\n",
        "print(\"5. 플럼\")\n",
        "print(\"6. 센싱\")\n",
        "print(\"7. 파생변수\")\n",
        "print(\"8. k-익명성\")\n",
        "print(\"9. 텍스트마이닝\")"
      ],
      "execution_count": 3,
      "outputs": [
        {
          "output_type": "stream",
          "text": [
            "1. SVM\n",
            "2. precision\n",
            "3. 거짓긍정률\n",
            "4. recall\n",
            "5. 플럼\n",
            "6. 센싱\n",
            "7. 파생변수\n",
            "8. k-익명성\n",
            "9. 텍스트마이닝\n"
          ],
          "name": "stdout"
        }
      ]
    },
    {
      "cell_type": "markdown",
      "metadata": {
        "id": "XhIFQ_RQiqKa"
      },
      "source": [
        "2. 문제"
      ]
    },
    {
      "cell_type": "code",
      "metadata": {
        "id": "HJECI4yGikpb"
      },
      "source": [
        "import pandas as pd \n",
        "df = pd.read_csv('/content/drive/MyDrive/빅분기실기스터디/문제/data/CARD_SUBWAY_MONTH_202104.csv',index_col=False)"
      ],
      "execution_count": 4,
      "outputs": []
    },
    {
      "cell_type": "markdown",
      "metadata": {
        "id": "hK4q9uxZi85W"
      },
      "source": [
        "q1) 사용일자 - 호선 승차 총승객수의 상관관계가 가장높은 두 노선과 그 상관계수를 구하여라"
      ]
    },
    {
      "cell_type": "code",
      "metadata": {
        "id": "clEENT7arFCV"
      },
      "source": [
        "import numpy as np"
      ],
      "execution_count": 26,
      "outputs": []
    },
    {
      "cell_type": "code",
      "metadata": {
        "id": "HrRw_zrFrTZ8"
      },
      "source": [
        "df['총승객수'] = df['승차총승객수'] + df['하차총승객수']"
      ],
      "execution_count": 29,
      "outputs": []
    },
    {
      "cell_type": "code",
      "metadata": {
        "id": "x1WAEpxei0Xv"
      },
      "source": [
        "p = pd.pivot_table(df, values='총승객수', index='사용일자', columns='노선명', aggfunc=np.sum).reset_index()\n",
        "p = p.set_index('사용일자')"
      ],
      "execution_count": 38,
      "outputs": []
    },
    {
      "cell_type": "code",
      "metadata": {
        "id": "Jdbw0GL2jBy6"
      },
      "source": [
        "#p.corr()"
      ],
      "execution_count": 174,
      "outputs": []
    },
    {
      "cell_type": "code",
      "metadata": {
        "colab": {
          "base_uri": "https://localhost:8080/"
        },
        "id": "0mMkalT7lIK_",
        "outputId": "f7af07dd-fb72-4c41-df0a-a2dd587655fb"
      },
      "source": [
        "a = p.corr().abs()\n",
        "\n",
        "s = a.unstack()\n",
        "so = s.sort_values(kind=\"quicksort\")\n",
        "print(so[:-25])"
      ],
      "execution_count": 66,
      "outputs": [
        {
          "output_type": "stream",
          "text": [
            "노선명       노선명     \n",
            "9호선2~3단계  장항선         0.803507\n",
            "장항선       9호선2~3단계    0.803507\n",
            "7호선       장항선         0.808883\n",
            "장항선       7호선         0.808883\n",
            "5호선       장항선         0.810809\n",
            "                        ...   \n",
            "9호선       2호선         0.999296\n",
            "6호선       4호선         0.999494\n",
            "4호선       6호선         0.999494\n",
            "5호선       7호선         0.999516\n",
            "7호선       5호선         0.999516\n",
            "Length: 600, dtype: float64\n"
          ],
          "name": "stdout"
        }
      ]
    },
    {
      "cell_type": "code",
      "metadata": {
        "colab": {
          "base_uri": "https://localhost:8080/"
        },
        "id": "d2CHvTl2tc-1",
        "outputId": "fc9c6342-55ab-4c83-c1cb-24057b5ffdd0"
      },
      "source": [
        "print(\"5호선 7호선 0.999516\")"
      ],
      "execution_count": 67,
      "outputs": [
        {
          "output_type": "stream",
          "text": [
            "5호선 7호선 0.999516\n"
          ],
          "name": "stdout"
        }
      ]
    },
    {
      "cell_type": "markdown",
      "metadata": {
        "id": "RXK0truWvAhO"
      },
      "source": [
        "# 3. 문제 월별 각호선의 퇴근시간 (18~19시)의 승차 ,하차 인원의 합을 예측하라 지표 MSLE"
      ]
    },
    {
      "cell_type": "code",
      "metadata": {
        "colab": {
          "base_uri": "https://localhost:8080/"
        },
        "id": "BRWY_6a9u1DZ",
        "outputId": "323e8c56-1f12-452e-8437-676e5b40fefa"
      },
      "source": [
        "from google.colab import drive\n",
        "drive.mount('/content/drive/')\n",
        "import pandas as pd \n",
        "train = pd.read_csv('/content/drive/MyDrive/빅분기실기스터디/문제/data/train_3rd.csv')\n",
        "test = pd.read_csv('/content/drive/MyDrive/빅분기실기스터디/문제/data/test_3rd.csv')\n",
        "sub = pd.read_csv('/content/drive/MyDrive/빅분기실기스터디/문제/data/submisson.csv')"
      ],
      "execution_count": 68,
      "outputs": [
        {
          "output_type": "stream",
          "text": [
            "Drive already mounted at /content/drive/; to attempt to forcibly remount, call drive.mount(\"/content/drive/\", force_remount=True).\n"
          ],
          "name": "stdout"
        }
      ]
    },
    {
      "cell_type": "code",
      "metadata": {
        "id": "xgBX_5w6vqhG"
      },
      "source": [
        "train['퇴근시간대인원'] = train['18시-19시 승차인원'] + train['18시-19시 하차인원']"
      ],
      "execution_count": 161,
      "outputs": []
    },
    {
      "cell_type": "code",
      "metadata": {
        "id": "zd_9apr7w2R2"
      },
      "source": [
        "t = train.groupby(['사용월', '호선명'], as_index=False).sum()"
      ],
      "execution_count": 162,
      "outputs": []
    },
    {
      "cell_type": "code",
      "metadata": {
        "id": "E4a3hH9_5kvV"
      },
      "source": [
        "x = test.groupby(['사용월', '호선명'], as_index=False).sum()"
      ],
      "execution_count": 163,
      "outputs": []
    },
    {
      "cell_type": "code",
      "metadata": {
        "id": "NUr2RPZaxRPA"
      },
      "source": [
        "x_train = t.iloc[:,1:-1]\n",
        "x_train = x_train.drop(['18시-19시 승차인원', '18시-19시 하차인원'], axis=1)"
      ],
      "execution_count": 164,
      "outputs": []
    },
    {
      "cell_type": "code",
      "metadata": {
        "id": "AxeSoepz5eXb"
      },
      "source": [
        "x_test = x.iloc[:,1:]"
      ],
      "execution_count": 165,
      "outputs": []
    },
    {
      "cell_type": "code",
      "metadata": {
        "id": "tbAHS4eRw1hN"
      },
      "source": [
        "y_train = t['퇴근시간대인원']"
      ],
      "execution_count": 166,
      "outputs": []
    },
    {
      "cell_type": "code",
      "metadata": {
        "id": "xA_4cLOq2sY_"
      },
      "source": [
        "from sklearn.preprocessing import LabelEncoder\n",
        "le = LabelEncoder()\n",
        "x_train['호선명'] = le.fit_transform(x_train['호선명'])"
      ],
      "execution_count": 167,
      "outputs": []
    },
    {
      "cell_type": "code",
      "metadata": {
        "id": "90gbk8c52tuR"
      },
      "source": [
        "x_test['호선명'] = le.transform(x_test['호선명'])"
      ],
      "execution_count": 168,
      "outputs": []
    },
    {
      "cell_type": "code",
      "metadata": {
        "id": "3QZ5VsJa8Jlz"
      },
      "source": [
        "from sklearn import ensemble "
      ],
      "execution_count": 169,
      "outputs": []
    },
    {
      "cell_type": "code",
      "metadata": {
        "id": "AVv3wWVB85fz"
      },
      "source": [
        "MLA = [\n",
        "    \n",
        "    #linear\n",
        "    LinearRegression(),\n",
        "\n",
        "    #Ensemble Methods\n",
        "    ensemble.AdaBoostRegressor(),\n",
        "    ensemble.BaggingRegressor(),\n",
        "    ensemble.ExtraTreesRegressor(),\n",
        "    ensemble.GradientBoostingRegressor(),\n",
        "    ensemble.RandomForestRegressor(),\n",
        "\n",
        "    #xgboost\n",
        "    XGBRegressor()\n",
        "]"
      ],
      "execution_count": 170,
      "outputs": []
    },
    {
      "cell_type": "code",
      "metadata": {
        "id": "RcEa4VI789ar"
      },
      "source": [
        "MLA_columns = ['MLA Name', 'MLA MSLE']\n",
        "MLA_compare = pd.DataFrame(columns = MLA_columns)"
      ],
      "execution_count": 171,
      "outputs": []
    },
    {
      "cell_type": "code",
      "metadata": {
        "colab": {
          "base_uri": "https://localhost:8080/"
        },
        "id": "pfwqThFl8_ZY",
        "outputId": "6fe8cd72-fab3-42bd-9410-507b5b1af2b5"
      },
      "source": [
        "row_index = 0\n",
        "for i in MLA:\n",
        "    model = i\n",
        "    model.fit(x_train,y_train)\n",
        "    y_predict = model.predict(x_test)\n",
        "    MLA_compare.loc[row_index, 'MLA Name'] = str(model).split('(')[0]\n",
        "    MLA_compare.loc[row_index, 'MLA MSLE'] = mean_squared_log_error(ans['퇴근시간대인원'], y_predict)\n",
        "    row_index += 1"
      ],
      "execution_count": 172,
      "outputs": [
        {
          "output_type": "stream",
          "text": [
            "[12:56:20] WARNING: /workspace/src/objective/regression_obj.cu:152: reg:linear is now deprecated in favor of reg:squarederror.\n"
          ],
          "name": "stdout"
        }
      ]
    },
    {
      "cell_type": "code",
      "metadata": {
        "colab": {
          "base_uri": "https://localhost:8080/",
          "height": 266
        },
        "id": "sXXDFuO18nuv",
        "outputId": "44cffb67-5d94-45f9-debe-d9805da1f4a1"
      },
      "source": [
        "MLA_compare.sort_values(by=['MLA MSLE'], ascending=True)"
      ],
      "execution_count": 173,
      "outputs": [
        {
          "output_type": "execute_result",
          "data": {
            "text/html": [
              "<div>\n",
              "<style scoped>\n",
              "    .dataframe tbody tr th:only-of-type {\n",
              "        vertical-align: middle;\n",
              "    }\n",
              "\n",
              "    .dataframe tbody tr th {\n",
              "        vertical-align: top;\n",
              "    }\n",
              "\n",
              "    .dataframe thead th {\n",
              "        text-align: right;\n",
              "    }\n",
              "</style>\n",
              "<table border=\"1\" class=\"dataframe\">\n",
              "  <thead>\n",
              "    <tr style=\"text-align: right;\">\n",
              "      <th></th>\n",
              "      <th>MLA Name</th>\n",
              "      <th>MLA MSLE</th>\n",
              "    </tr>\n",
              "  </thead>\n",
              "  <tbody>\n",
              "    <tr>\n",
              "      <th>3</th>\n",
              "      <td>ExtraTreesRegressor</td>\n",
              "      <td>0.000883648</td>\n",
              "    </tr>\n",
              "    <tr>\n",
              "      <th>5</th>\n",
              "      <td>RandomForestRegressor</td>\n",
              "      <td>0.00195345</td>\n",
              "    </tr>\n",
              "    <tr>\n",
              "      <th>2</th>\n",
              "      <td>BaggingRegressor</td>\n",
              "      <td>0.0025974</td>\n",
              "    </tr>\n",
              "    <tr>\n",
              "      <th>0</th>\n",
              "      <td>LinearRegression</td>\n",
              "      <td>0.00642341</td>\n",
              "    </tr>\n",
              "    <tr>\n",
              "      <th>4</th>\n",
              "      <td>GradientBoostingRegressor</td>\n",
              "      <td>0.00811826</td>\n",
              "    </tr>\n",
              "    <tr>\n",
              "      <th>6</th>\n",
              "      <td>XGBRegressor</td>\n",
              "      <td>0.0095992</td>\n",
              "    </tr>\n",
              "    <tr>\n",
              "      <th>1</th>\n",
              "      <td>AdaBoostRegressor</td>\n",
              "      <td>0.305609</td>\n",
              "    </tr>\n",
              "  </tbody>\n",
              "</table>\n",
              "</div>"
            ],
            "text/plain": [
              "                    MLA Name     MLA MSLE\n",
              "3        ExtraTreesRegressor  0.000883648\n",
              "5      RandomForestRegressor   0.00195345\n",
              "2           BaggingRegressor    0.0025974\n",
              "0           LinearRegression   0.00642341\n",
              "4  GradientBoostingRegressor   0.00811826\n",
              "6               XGBRegressor    0.0095992\n",
              "1          AdaBoostRegressor     0.305609"
            ]
          },
          "metadata": {
            "tags": []
          },
          "execution_count": 173
        }
      ]
    }
  ]
}