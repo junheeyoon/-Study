{
  "nbformat": 4,
  "nbformat_minor": 0,
  "metadata": {
    "colab": {
      "name": "4회차.ipynb",
      "provenance": [],
      "authorship_tag": "ABX9TyM1kv5e9I1yETuInMGLQNvp",
      "include_colab_link": true
    },
    "kernelspec": {
      "name": "python3",
      "display_name": "Python 3"
    },
    "language_info": {
      "name": "python"
    },
    "accelerator": "GPU"
  },
  "cells": [
    {
      "cell_type": "markdown",
      "metadata": {
        "id": "view-in-github",
        "colab_type": "text"
      },
      "source": [
        "<a href=\"https://colab.research.google.com/github/junheeyoon/Big-Data-analyst-Study/blob/master/%EC%8B%A4%EC%8A%B5%204%ED%9A%8C%EC%B0%A8.ipynb\" target=\"_parent\"><img src=\"https://colab.research.google.com/assets/colab-badge.svg\" alt=\"Open In Colab\"/></a>"
      ]
    },
    {
      "cell_type": "code",
      "metadata": {
        "colab": {
          "base_uri": "https://localhost:8080/"
        },
        "id": "L6IZ5_opBrgv",
        "outputId": "8d46a34d-ff29-4f89-f408-3f9e8fb62619"
      },
      "source": [
        "from google.colab import drive\n",
        "drive.mount('/content/drive/')"
      ],
      "execution_count": 1,
      "outputs": [
        {
          "output_type": "stream",
          "text": [
            "Mounted at /content/drive/\n"
          ],
          "name": "stdout"
        }
      ]
    },
    {
      "cell_type": "markdown",
      "metadata": {
        "id": "BMDfY8yXB_Oq"
      },
      "source": [
        "1. 문제"
      ]
    },
    {
      "cell_type": "markdown",
      "metadata": {
        "id": "ICCeX69eCEOt"
      },
      "source": [
        " - 1. 분석 주체 유형을 분류할 때 데이터 분석 방법과 다양한 분석 구조의 활용은 충분히 이해하고\n",
        "있으나, 조직 내 분석 대상이 무엇인지 인지하지 못하는 유형은 무엇인가?\n",
        " - 2. 문제가 주어지고 이에 대한 해법을 찾기 위하여 각 과정이 체계적으로 단계화되어 수행하는\n",
        "분석과제 발굴 방식을 무엇이라 하는가?\n",
        " - 3. 단층 신경망인 퍼셉트론에서 최종 목표값은 활성함수에 의해 결정되는데 다양한 활성함수 중\n",
        "출력값이 여러 개로 주어지고, 목표치가 다범주인 경우 각 범주에 속할 사후확률을 제공하는\n",
        "함수는 무엇인가?\n",
        " - 4. 모형을 개발하여 운영상황에서 실제 테스트를 할 때 모형 개발 데이터를 통해서는 높은 적중\n",
        "률을 보이지만 테스트 데이터에서는 적중률이 떨어져 적중률을 유지하지 못하는 것을 무엇이\n",
        "라고 하는가?\n",
        " - 5. 앙상블 기법 중 부트스트랩 표본을 구성하는 재표본 과정에서 분류가 잘못된 데이터에 더 큰\n",
        "가중치를 주어 표본을 추출하는 기법은?\n",
        " - 6. 원 데이터 집합으로부터 크기가 같은 표본을 여러 번 단순 임의 복원 추출하여 각 표본에 대해\n",
        "분류기를 생성한 후 그 결과를 앙상블하는 방법은?\n",
        " - 7. 한 변수를 단조 증가 함수로 변환하여 다른 변수를 나타낼 수 있는 정도를 나타내며 두 변수의\n",
        "션형 관계의 크기 뿐만 아니라 비선형적인 관계도 나타낼 수 있는 상관계수는 무엇인가?\n",
        " - 8. 입력층이 직접 출력층에 연결되는 단층신경망에서 활성함수를 (????)로 사용하면 로지스틱 회\n",
        "귀 모형과 작동원리가 유사해진다.\n",
        " - 9. 데이터가 가지고 있는 특성을 파악하기 위해 해당 변수의 분포등을 시각화하여 분석하는 분석\n",
        "방식은 무엇인가?"
      ]
    },
    {
      "cell_type": "code",
      "metadata": {
        "colab": {
          "base_uri": "https://localhost:8080/"
        },
        "id": "SPWbSDw3ByOM",
        "outputId": "59fe0f29-73db-49d0-f061-817ad08e6068"
      },
      "source": [
        "print(\"1. insight(통찰)\")\n",
        "print(\"2. 하향식 접근 방식\")\n",
        "print(\"3. softmax(소프트맥스)\")\n",
        "print(\"4. overfitting(과대적합/과적합)\")\n",
        "print(\"5. boosting(부스팅)\")\n",
        "print(\"6. bagging(배깅)\")\n",
        "print(\"7. spearman correlation(스피어만 상관계수)\")\n",
        "print(\"8. sigmoid(시그모이드 함수)\")\n",
        "print(\"9. EDA(탐색적 자료[데이터] 분석)\")"
      ],
      "execution_count": 2,
      "outputs": [
        {
          "output_type": "stream",
          "text": [
            "1. insight(통찰)\n",
            "2. 하향식 접근 방식\n",
            "3. softmax(소프트맥스)\n",
            "4. overfitting(과대적합/과적합)\n",
            "5. boosting(부스팅)\n",
            "6. bagging(배깅)\n",
            "7. spearman correlation(스피어만 상관계수)\n",
            "8. sigmoid(시그모이드 함수)\n",
            "9. EDA(탐색적 자료[데이터] 분석)\n"
          ],
          "name": "stdout"
        }
      ]
    },
    {
      "cell_type": "markdown",
      "metadata": {
        "id": "_4dUPxHmDoA8"
      },
      "source": [
        "2. 문제"
      ]
    },
    {
      "cell_type": "code",
      "metadata": {
        "id": "BlISWqg4DiFM"
      },
      "source": [
        "import pandas as pd \n",
        "df = pd.read_csv('/content/drive/MyDrive/빅분기실기스터디/문제/data/titanic.csv', encoding='cp949')"
      ],
      "execution_count": 42,
      "outputs": []
    },
    {
      "cell_type": "markdown",
      "metadata": {
        "id": "t7XFQ4OgDujF"
      },
      "source": [
        "## 1. 타이타닉 데이터, '나이'에 대해서, z-score nomalization 할 것\n",
        "\n",
        " - zscore 값은 AgeZscore 컬럼으로(Null 값 제거)\n",
        " - 최종 결과는 PassengerId(index), AgeZscore을 출력할 것 "
      ]
    },
    {
      "cell_type": "code",
      "metadata": {
        "id": "cDyY8lwRDv4R"
      },
      "source": [
        "from scipy.stats import zscore"
      ],
      "execution_count": 5,
      "outputs": []
    },
    {
      "cell_type": "code",
      "metadata": {
        "id": "45jzlcqEEyuL"
      },
      "source": [
        "new_df = df[['PassengerId', 'Age']]"
      ],
      "execution_count": 14,
      "outputs": []
    },
    {
      "cell_type": "code",
      "metadata": {
        "id": "fAX-UOl3FTcf"
      },
      "source": [
        "new_df = new_df.dropna()"
      ],
      "execution_count": 15,
      "outputs": []
    },
    {
      "cell_type": "code",
      "metadata": {
        "id": "4rft1RM8D6Um"
      },
      "source": [
        "new_df['AgeZscore'] = zscore(new_df['Age'])"
      ],
      "execution_count": 16,
      "outputs": []
    },
    {
      "cell_type": "code",
      "metadata": {
        "colab": {
          "base_uri": "https://localhost:8080/",
          "height": 450
        },
        "id": "zRQDvAHQEBPy",
        "outputId": "b6094115-2005-4f3c-c6cf-2b8b1fee5848"
      },
      "source": [
        "new_df[['PassengerId', 'AgeZscore']].set_index('PassengerId')"
      ],
      "execution_count": 19,
      "outputs": [
        {
          "output_type": "execute_result",
          "data": {
            "text/html": [
              "<div>\n",
              "<style scoped>\n",
              "    .dataframe tbody tr th:only-of-type {\n",
              "        vertical-align: middle;\n",
              "    }\n",
              "\n",
              "    .dataframe tbody tr th {\n",
              "        vertical-align: top;\n",
              "    }\n",
              "\n",
              "    .dataframe thead th {\n",
              "        text-align: right;\n",
              "    }\n",
              "</style>\n",
              "<table border=\"1\" class=\"dataframe\">\n",
              "  <thead>\n",
              "    <tr style=\"text-align: right;\">\n",
              "      <th></th>\n",
              "      <th>AgeZscore</th>\n",
              "    </tr>\n",
              "    <tr>\n",
              "      <th>PassengerId</th>\n",
              "      <th></th>\n",
              "    </tr>\n",
              "  </thead>\n",
              "  <tbody>\n",
              "    <tr>\n",
              "      <th>1</th>\n",
              "      <td>-0.530377</td>\n",
              "    </tr>\n",
              "    <tr>\n",
              "      <th>2</th>\n",
              "      <td>0.571831</td>\n",
              "    </tr>\n",
              "    <tr>\n",
              "      <th>3</th>\n",
              "      <td>-0.254825</td>\n",
              "    </tr>\n",
              "    <tr>\n",
              "      <th>4</th>\n",
              "      <td>0.365167</td>\n",
              "    </tr>\n",
              "    <tr>\n",
              "      <th>5</th>\n",
              "      <td>0.365167</td>\n",
              "    </tr>\n",
              "    <tr>\n",
              "      <th>...</th>\n",
              "      <td>...</td>\n",
              "    </tr>\n",
              "    <tr>\n",
              "      <th>886</th>\n",
              "      <td>0.640719</td>\n",
              "    </tr>\n",
              "    <tr>\n",
              "      <th>887</th>\n",
              "      <td>-0.185937</td>\n",
              "    </tr>\n",
              "    <tr>\n",
              "      <th>888</th>\n",
              "      <td>-0.737041</td>\n",
              "    </tr>\n",
              "    <tr>\n",
              "      <th>890</th>\n",
              "      <td>-0.254825</td>\n",
              "    </tr>\n",
              "    <tr>\n",
              "      <th>891</th>\n",
              "      <td>0.158503</td>\n",
              "    </tr>\n",
              "  </tbody>\n",
              "</table>\n",
              "<p>714 rows × 1 columns</p>\n",
              "</div>"
            ],
            "text/plain": [
              "             AgeZscore\n",
              "PassengerId           \n",
              "1            -0.530377\n",
              "2             0.571831\n",
              "3            -0.254825\n",
              "4             0.365167\n",
              "5             0.365167\n",
              "...                ...\n",
              "886           0.640719\n",
              "887          -0.185937\n",
              "888          -0.737041\n",
              "890          -0.254825\n",
              "891           0.158503\n",
              "\n",
              "[714 rows x 1 columns]"
            ]
          },
          "metadata": {
            "tags": []
          },
          "execution_count": 19
        }
      ]
    },
    {
      "cell_type": "markdown",
      "metadata": {
        "id": "CTNTi5naGiN4"
      },
      "source": [
        "## 2. 타이타닉 데이터, 'Name(이름), Cabin'을 제외한 나머지 feature들의 correlation 구하기\n",
        "  - Category 요소들의 encoding은 좋은 방법으로 알아서 할 것\n",
        "  - 'Survived'와 상관계수 가장 높은 feature와 가장 낮은 feature 찾기"
      ]
    },
    {
      "cell_type": "code",
      "metadata": {
        "id": "J1ZSyYLBERdC"
      },
      "source": [
        "df = df.drop(['Name', 'Cabin'], axis=1)"
      ],
      "execution_count": 43,
      "outputs": []
    },
    {
      "cell_type": "code",
      "metadata": {
        "colab": {
          "base_uri": "https://localhost:8080/"
        },
        "id": "hGzYPAG_IOFG",
        "outputId": "84c76cc5-20f2-4bd1-e0b0-588997578d22"
      },
      "source": [
        "df.dtypes"
      ],
      "execution_count": 44,
      "outputs": [
        {
          "output_type": "execute_result",
          "data": {
            "text/plain": [
              "PassengerId      int64\n",
              "Survived         int64\n",
              "Pclass           int64\n",
              "Sex             object\n",
              "Age            float64\n",
              "SibSp            int64\n",
              "Parch            int64\n",
              "Ticket          object\n",
              "Fare           float64\n",
              "Embarked        object\n",
              "dtype: object"
            ]
          },
          "metadata": {
            "tags": []
          },
          "execution_count": 44
        }
      ]
    },
    {
      "cell_type": "code",
      "metadata": {
        "id": "elF9_pdZJDkE"
      },
      "source": [
        "df = df.dropna()"
      ],
      "execution_count": 45,
      "outputs": []
    },
    {
      "cell_type": "code",
      "metadata": {
        "id": "gk1WCyR9GnrY"
      },
      "source": [
        "from sklearn.preprocessing import LabelEncoder\n",
        "\n",
        "le = LabelEncoder()\n",
        "df['Sex'] = le.fit_transform(df['Sex'])\n",
        "df['Ticket'] = le.fit_transform(df['Ticket'])\n",
        "df['Embarked'] = le.fit_transform(df['Embarked'])"
      ],
      "execution_count": 46,
      "outputs": []
    },
    {
      "cell_type": "code",
      "metadata": {
        "colab": {
          "base_uri": "https://localhost:8080/"
        },
        "id": "YsRvkotDJtd9",
        "outputId": "da25b090-3719-492d-a390-d096f376fec4"
      },
      "source": [
        "df.corr()['Survived'].abs().sort_values(ascending=False)[1:2]"
      ],
      "execution_count": 59,
      "outputs": [
        {
          "output_type": "execute_result",
          "data": {
            "text/plain": [
              "Sex    0.536762\n",
              "Name: Survived, dtype: float64"
            ]
          },
          "metadata": {
            "tags": []
          },
          "execution_count": 59
        }
      ]
    },
    {
      "cell_type": "code",
      "metadata": {
        "id": "y1W5_ltnJ0S6"
      },
      "source": [
        ""
      ],
      "execution_count": null,
      "outputs": []
    }
  ]
}