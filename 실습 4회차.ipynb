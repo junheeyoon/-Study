{
  "nbformat": 4,
  "nbformat_minor": 0,
  "metadata": {
    "colab": {
      "name": "4회차 문제 - 출제자 윤준희.ipynb",
      "provenance": [],
      "collapsed_sections": [],
      "include_colab_link": true
    },
    "kernelspec": {
      "name": "python3",
      "display_name": "Python 3"
    },
    "language_info": {
      "name": "python"
    }
  },
  "cells": [
    {
      "cell_type": "markdown",
      "metadata": {
        "id": "view-in-github",
        "colab_type": "text"
      },
      "source": [
        "<a href=\"https://colab.research.google.com/github/junheeyoon/Big-Data-analyst-Study/blob/master/%EC%8B%A4%EC%8A%B5%204%ED%9A%8C%EC%B0%A8.ipynb\" target=\"_parent\"><img src=\"https://colab.research.google.com/assets/colab-badge.svg\" alt=\"Open In Colab\"/></a>"
      ]
    },
    {
      "cell_type": "code",
      "metadata": {
        "id": "VbSYKbz7o0ki",
        "colab": {
          "base_uri": "https://localhost:8080/"
        },
        "outputId": "d06e55c7-6a1e-483b-9291-f072bd537cfb"
      },
      "source": [
        "from google.colab import drive\n",
        "drive.mount('/content/drive/')"
      ],
      "execution_count": 1,
      "outputs": [
        {
          "output_type": "stream",
          "text": [
            "Mounted at /content/drive/\n"
          ],
          "name": "stdout"
        }
      ]
    },
    {
      "cell_type": "markdown",
      "metadata": {
        "id": "omeRQahepe-O"
      },
      "source": [
        "빅데이터 실기 예시 문제 안내 \n",
        "\n",
        "https://www.dataq.or.kr/www/board/view.do?bbsKey=eyJiYnNhdHRyU2VxIjoxLCJiYnNTZXEiOjUwOTM0M30=&boardKind=notice\n",
        "\n",
        "* 공지된 파이썬 패키지로 활용 가능한 문제로 내기 \n",
        "* 크롤링 문제 발제 시, 웹 주소 명시하기\n",
        "* 캐글 데이터 및 기타 공개된 데이터 활용시, 문제 폴더내에 data폴더 만들어서 다운로드 받아놓기 "
      ]
    },
    {
      "cell_type": "markdown",
      "metadata": {
        "id": "POpDE5Tio4jb"
      },
      "source": [
        "1. 문제"
      ]
    },
    {
      "cell_type": "markdown",
      "metadata": {
        "id": "1i95kHB3aQ1X"
      },
      "source": [
        " - 1. 분석 주체 유형을 분류할 때 데이터 분석 방법과 다양한 분석 구조의 활용은 충분히 이해하고\n",
        "있으나, 조직 내 분석 대상이 무엇인지 인지하지 못하는 유형은 무엇인가?\n",
        " - 2. 문제가 주어지고 이에 대한 해법을 찾기 위하여 각 과정이 체계적으로 단계화되어 수행하는\n",
        "분석과제 발굴 방식을 무엇이라 하는가?\n",
        " - 3. 단층 신경망인 퍼셉트론에서 최종 목표값은 활성함수에 의해 결정되는데 다양한 활성함수 중\n",
        "출력값이 여러 개로 주어지고, 목표치가 다범주인 경우 각 범주에 속할 사후확률을 제공하는\n",
        "함수는 무엇인가?\n",
        " - 4. 모형을 개발하여 운영상황에서 실제 테스트를 할 때 모형 개발 데이터를 통해서는 높은 적중\n",
        "률을 보이지만 테스트 데이터에서는 적중률이 떨어져 적중률을 유지하지 못하는 것을 무엇이\n",
        "라고 하는가?\n",
        " - 5. 앙상블 기법 중 부트스트랩 표본을 구성하는 재표본 과정에서 분류가 잘못된 데이터에 더 큰\n",
        "가중치를 주어 표본을 추출하는 기법은?\n",
        " - 6. 원 데이터 집합으로부터 크기가 같은 표본을 여러 번 단순 임의 복원 추출하여 각 표본에 대해\n",
        "분류기를 생성한 후 그 결과를 앙상블하는 방법은?\n",
        " - 7. 한 변수를 단조 증가 함수로 변환하여 다른 변수를 나타낼 수 있는 정도를 나타내며 두 변수의\n",
        "션형 관계의 크기 뿐만 아니라 비선형적인 관계도 나타낼 수 있는 상관계수는 무엇인가?\n",
        " - 8. 입력층이 직접 출력층에 연결되는 단층신경망에서 활성함수를 (????)로 사용하면 로지스틱 회\n",
        "귀 모형과 작동원리가 유사해진다.\n",
        " - 9. 데이터가 가지고 있는 특성을 파악하기 위해 해당 변수의 분포등을 시각화하여 분석하는 분석\n",
        "방식은 무엇인가?"
      ]
    },
    {
      "cell_type": "code",
      "metadata": {
        "id": "-jlNAyeoo5wc"
      },
      "source": [
        "# 3시간 후 답을 올려주세요!"
      ],
      "execution_count": null,
      "outputs": []
    },
    {
      "cell_type": "markdown",
      "metadata": {
        "id": "l2ctNC_ZpAxI"
      },
      "source": [
        "2. 문제"
      ]
    },
    {
      "cell_type": "code",
      "metadata": {
        "id": "99itznD7Z0r4"
      },
      "source": [
        "import pandas as pd \n",
        "df = pd.read_csv('/content/drive/MyDrive/빅분기실기스터디/문제/data/titanic.csv', encoding='cp949')"
      ],
      "execution_count": 11,
      "outputs": []
    },
    {
      "cell_type": "markdown",
      "metadata": {
        "id": "mv5p7fWMXTHi"
      },
      "source": [
        "## 1. 타이타닉 데이터, '나이'에 대해서, z-score nomalization 할 것\n",
        "\n",
        " - AgeZscore 컬럼으로 출력(Null 값 제거)"
      ]
    },
    {
      "cell_type": "markdown",
      "metadata": {
        "id": "0hHp_p3oZl4u"
      },
      "source": [
        "## 2. 타이타닉 데이터, '이름'을 제외한 나머지 feature들의 correlation 구하기\n",
        "  - Category 요소들의 encoding은 좋은 방법으로 알아서 할 것\n",
        "  - 'Survived'와 상관계수 가장 높은 feature와 가장 낮은 feature 찾기"
      ]
    },
    {
      "cell_type": "code",
      "metadata": {
        "id": "4f1u94c-pC14"
      },
      "source": [
        "# 3시간 후 답을 올려주세요! "
      ],
      "execution_count": null,
      "outputs": []
    },
    {
      "cell_type": "markdown",
      "metadata": {
        "id": "PKRqN9dwpDwa"
      },
      "source": [
        "3. 문제"
      ]
    },
    {
      "cell_type": "code",
      "metadata": {
        "id": "I114Co86deWj"
      },
      "source": [
        "import pandas as pd \n",
        "df = pd.read_csv('/content/drive/MyDrive/빅분기실기스터디/문제/data/boston.csv',encoding='cp949')"
      ],
      "execution_count": 13,
      "outputs": []
    },
    {
      "cell_type": "markdown",
      "metadata": {
        "id": "8pluRtT9cnan"
      },
      "source": [
        "**데이터: Boston Housing data**\n",
        "\n",
        "![image](https://wikidocs.net/images/page/49966/1.png)"
      ]
    },
    {
      "cell_type": "markdown",
      "metadata": {
        "id": "Y0UxhxeSc5ov"
      },
      "source": [
        "# Regression\n",
        "집 가격 MEDV를 예측하기 위한 회귀 모형 분석, MSE(Mean Squared Error)를 모델의 평가지표로 사용"
      ]
    },
    {
      "cell_type": "code",
      "metadata": {
        "id": "R2XGpI-8pFo4"
      },
      "source": [
        "# 3시간 후 분석한 결과를 올려주세요! "
      ],
      "execution_count": null,
      "outputs": []
    }
  ]
}