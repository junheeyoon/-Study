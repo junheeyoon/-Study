{
  "nbformat": 4,
  "nbformat_minor": 0,
  "metadata": {
    "colab": {
      "name": "Data Processing Study.ipynb",
      "provenance": [],
      "authorship_tag": "ABX9TyM7fD0rSlkLHN5JH7nIOopd",
      "include_colab_link": true
    },
    "kernelspec": {
      "name": "python3",
      "display_name": "Python 3"
    },
    "language_info": {
      "name": "python"
    }
  },
  "cells": [
    {
      "cell_type": "markdown",
      "metadata": {
        "id": "view-in-github",
        "colab_type": "text"
      },
      "source": [
        "<a href=\"https://colab.research.google.com/github/junheeyoon/Big-Data-analyst-Study/blob/master/Data_Processing_Study.ipynb\" target=\"_parent\"><img src=\"https://colab.research.google.com/assets/colab-badge.svg\" alt=\"Open In Colab\"/></a>"
      ]
    },
    {
      "cell_type": "markdown",
      "metadata": {
        "id": "PM6puDuNJlap"
      },
      "source": [
        "#빅데이터 분석기사 실기 스터디"
      ]
    },
    {
      "cell_type": "markdown",
      "metadata": {
        "id": "ulQY7C4vQAEd"
      },
      "source": [
        "# 0. 환경 세팅"
      ]
    },
    {
      "cell_type": "code",
      "metadata": {
        "id": "-rxtTSZCO0EW"
      },
      "source": [
        "import numpy as np\n",
        "import pandas as pd\n",
        "import sklearn\n",
        "import tensorflow as tf"
      ],
      "execution_count": 2,
      "outputs": []
    },
    {
      "cell_type": "code",
      "metadata": {
        "id": "y9IX0UFYJ5rZ",
        "colab": {
          "base_uri": "https://localhost:8080/"
        },
        "outputId": "e7bbbabb-412b-4894-ac51-6f313298505c"
      },
      "source": [
        "from google.colab import drive\n",
        "drive.mount('/content/drive')"
      ],
      "execution_count": 1,
      "outputs": [
        {
          "output_type": "stream",
          "text": [
            "Mounted at /content/drive\n"
          ],
          "name": "stdout"
        }
      ]
    },
    {
      "cell_type": "markdown",
      "metadata": {
        "id": "GHORxmtOLLjx"
      },
      "source": [
        "#1. 데이터 탐색"
      ]
    },
    {
      "cell_type": "code",
      "metadata": {
        "id": "Mie2I0I0LPAJ"
      },
      "source": [
        "path_to_data = \"/content/drive/My Drive/데이터분석/mtcars.csv\"\n",
        "df = pd.read_csv(path_to_data)"
      ],
      "execution_count": 6,
      "outputs": []
    },
    {
      "cell_type": "code",
      "metadata": {
        "colab": {
          "base_uri": "https://localhost:8080/",
          "height": 197
        },
        "id": "90I7FexwLXkX",
        "outputId": "4d6a5003-8a85-44ae-cb1a-2229ac35a2b0"
      },
      "source": [
        "df.head()"
      ],
      "execution_count": 7,
      "outputs": [
        {
          "output_type": "execute_result",
          "data": {
            "text/html": [
              "<div>\n",
              "<style scoped>\n",
              "    .dataframe tbody tr th:only-of-type {\n",
              "        vertical-align: middle;\n",
              "    }\n",
              "\n",
              "    .dataframe tbody tr th {\n",
              "        vertical-align: top;\n",
              "    }\n",
              "\n",
              "    .dataframe thead th {\n",
              "        text-align: right;\n",
              "    }\n",
              "</style>\n",
              "<table border=\"1\" class=\"dataframe\">\n",
              "  <thead>\n",
              "    <tr style=\"text-align: right;\">\n",
              "      <th></th>\n",
              "      <th>Unnamed: 0</th>\n",
              "      <th>mpg</th>\n",
              "      <th>cyl</th>\n",
              "      <th>disp</th>\n",
              "      <th>hp</th>\n",
              "      <th>drat</th>\n",
              "      <th>wt</th>\n",
              "      <th>qsec</th>\n",
              "      <th>vs</th>\n",
              "      <th>am</th>\n",
              "      <th>gear</th>\n",
              "      <th>carb</th>\n",
              "    </tr>\n",
              "  </thead>\n",
              "  <tbody>\n",
              "    <tr>\n",
              "      <th>0</th>\n",
              "      <td>Mazda RX4</td>\n",
              "      <td>21.0</td>\n",
              "      <td>6</td>\n",
              "      <td>160.0</td>\n",
              "      <td>110</td>\n",
              "      <td>3.90</td>\n",
              "      <td>2.620</td>\n",
              "      <td>16.46</td>\n",
              "      <td>0</td>\n",
              "      <td>1</td>\n",
              "      <td>4</td>\n",
              "      <td>4</td>\n",
              "    </tr>\n",
              "    <tr>\n",
              "      <th>1</th>\n",
              "      <td>Mazda RX4 Wag</td>\n",
              "      <td>21.0</td>\n",
              "      <td>6</td>\n",
              "      <td>160.0</td>\n",
              "      <td>110</td>\n",
              "      <td>3.90</td>\n",
              "      <td>2.875</td>\n",
              "      <td>17.02</td>\n",
              "      <td>0</td>\n",
              "      <td>1</td>\n",
              "      <td>4</td>\n",
              "      <td>4</td>\n",
              "    </tr>\n",
              "    <tr>\n",
              "      <th>2</th>\n",
              "      <td>Datsun 710</td>\n",
              "      <td>22.8</td>\n",
              "      <td>4</td>\n",
              "      <td>108.0</td>\n",
              "      <td>93</td>\n",
              "      <td>3.85</td>\n",
              "      <td>2.320</td>\n",
              "      <td>18.61</td>\n",
              "      <td>1</td>\n",
              "      <td>1</td>\n",
              "      <td>4</td>\n",
              "      <td>1</td>\n",
              "    </tr>\n",
              "    <tr>\n",
              "      <th>3</th>\n",
              "      <td>Hornet 4 Drive</td>\n",
              "      <td>21.4</td>\n",
              "      <td>6</td>\n",
              "      <td>258.0</td>\n",
              "      <td>110</td>\n",
              "      <td>3.08</td>\n",
              "      <td>3.215</td>\n",
              "      <td>19.44</td>\n",
              "      <td>1</td>\n",
              "      <td>0</td>\n",
              "      <td>3</td>\n",
              "      <td>1</td>\n",
              "    </tr>\n",
              "    <tr>\n",
              "      <th>4</th>\n",
              "      <td>Hornet Sportabout</td>\n",
              "      <td>18.7</td>\n",
              "      <td>8</td>\n",
              "      <td>360.0</td>\n",
              "      <td>175</td>\n",
              "      <td>3.15</td>\n",
              "      <td>3.440</td>\n",
              "      <td>17.02</td>\n",
              "      <td>0</td>\n",
              "      <td>0</td>\n",
              "      <td>3</td>\n",
              "      <td>2</td>\n",
              "    </tr>\n",
              "  </tbody>\n",
              "</table>\n",
              "</div>"
            ],
            "text/plain": [
              "          Unnamed: 0   mpg  cyl   disp   hp  ...   qsec  vs  am  gear  carb\n",
              "0          Mazda RX4  21.0    6  160.0  110  ...  16.46   0   1     4     4\n",
              "1      Mazda RX4 Wag  21.0    6  160.0  110  ...  17.02   0   1     4     4\n",
              "2         Datsun 710  22.8    4  108.0   93  ...  18.61   1   1     4     1\n",
              "3     Hornet 4 Drive  21.4    6  258.0  110  ...  19.44   1   0     3     1\n",
              "4  Hornet Sportabout  18.7    8  360.0  175  ...  17.02   0   0     3     2\n",
              "\n",
              "[5 rows x 12 columns]"
            ]
          },
          "metadata": {
            "tags": []
          },
          "execution_count": 7
        }
      ]
    },
    {
      "cell_type": "code",
      "metadata": {
        "colab": {
          "base_uri": "https://localhost:8080/"
        },
        "id": "Xz-U-QKmLeZc",
        "outputId": "42c38c9b-d462-4828-b180-340ed5e53293"
      },
      "source": [
        "df.info"
      ],
      "execution_count": 9,
      "outputs": [
        {
          "output_type": "execute_result",
          "data": {
            "text/plain": [
              "<bound method DataFrame.info of              Unnamed: 0   mpg  cyl   disp   hp  ...   qsec  vs  am  gear  carb\n",
              "0             Mazda RX4  21.0    6  160.0  110  ...  16.46   0   1     4     4\n",
              "1         Mazda RX4 Wag  21.0    6  160.0  110  ...  17.02   0   1     4     4\n",
              "2            Datsun 710  22.8    4  108.0   93  ...  18.61   1   1     4     1\n",
              "3        Hornet 4 Drive  21.4    6  258.0  110  ...  19.44   1   0     3     1\n",
              "4     Hornet Sportabout  18.7    8  360.0  175  ...  17.02   0   0     3     2\n",
              "5               Valiant  18.1    6  225.0  105  ...  20.22   1   0     3     1\n",
              "6            Duster 360  14.3    8  360.0  245  ...  15.84   0   0     3     4\n",
              "7             Merc 240D  24.4    4  146.7   62  ...  20.00   1   0     4     2\n",
              "8              Merc 230  22.8    4  140.8   95  ...  22.90   1   0     4     2\n",
              "9              Merc 280  19.2    6  167.6  123  ...  18.30   1   0     4     4\n",
              "10            Merc 280C  17.8    6  167.6  123  ...  18.90   1   0     4     4\n",
              "11           Merc 450SE  16.4    8  275.8  180  ...  17.40   0   0     3     3\n",
              "12           Merc 450SL  17.3    8  275.8  180  ...  17.60   0   0     3     3\n",
              "13          Merc 450SLC  15.2    8  275.8  180  ...  18.00   0   0     3     3\n",
              "14   Cadillac Fleetwood  10.4    8  472.0  205  ...  17.98   0   0     3     4\n",
              "15  Lincoln Continental  10.4    8  460.0  215  ...  17.82   0   0     3     4\n",
              "16    Chrysler Imperial  14.7    8  440.0  230  ...  17.42   0   0     3     4\n",
              "17             Fiat 128  32.4    4   78.7   66  ...  19.47   1   1     4     1\n",
              "18          Honda Civic  30.4    4   75.7   52  ...  18.52   1   1     4     2\n",
              "19       Toyota Corolla  33.9    4   71.1   65  ...  19.90   1   1     4     1\n",
              "20        Toyota Corona  21.5    4  120.1   97  ...  20.01   1   0     3     1\n",
              "21     Dodge Challenger  15.5    8  318.0  150  ...  16.87   0   0     3     2\n",
              "22          AMC Javelin  15.2    8  304.0  150  ...  17.30   0   0     3     2\n",
              "23           Camaro Z28  13.3    8  350.0  245  ...  15.41   0   0     3     4\n",
              "24     Pontiac Firebird  19.2    8  400.0  175  ...  17.05   0   0     3     2\n",
              "25            Fiat X1-9  27.3    4   79.0   66  ...  18.90   1   1     4     1\n",
              "26        Porsche 914-2  26.0    4  120.3   91  ...  16.70   0   1     5     2\n",
              "27         Lotus Europa  30.4    4   95.1  113  ...  16.90   1   1     5     2\n",
              "28       Ford Pantera L  15.8    8  351.0  264  ...  14.50   0   1     5     4\n",
              "29         Ferrari Dino  19.7    6  145.0  175  ...  15.50   0   1     5     6\n",
              "30        Maserati Bora  15.0    8  301.0  335  ...  14.60   0   1     5     8\n",
              "31           Volvo 142E  21.4    4  121.0  109  ...  18.60   1   1     4     2\n",
              "\n",
              "[32 rows x 12 columns]>"
            ]
          },
          "metadata": {
            "tags": []
          },
          "execution_count": 9
        }
      ]
    },
    {
      "cell_type": "code",
      "metadata": {
        "id": "BXfEk60jMRtT"
      },
      "source": [
        "MinQsec = min(df['qsec'])\n",
        "MaxQsec = max(df['qsec'])"
      ],
      "execution_count": 16,
      "outputs": []
    },
    {
      "cell_type": "code",
      "metadata": {
        "id": "n-jJG08SOeua"
      },
      "source": [
        "df['minmax'] = (df['qsec'] - MinQsec) / (MaxQsec - MinQsec) "
      ],
      "execution_count": 20,
      "outputs": []
    },
    {
      "cell_type": "code",
      "metadata": {
        "id": "jr7hrZIlP-5M",
        "outputId": "29102d19-75c6-456c-ab8a-8b5211223bba",
        "colab": {
          "base_uri": "https://localhost:8080/",
          "height": 316
        }
      },
      "source": [
        "df[df['minmax'] > 0.5]"
      ],
      "execution_count": 23,
      "outputs": [
        {
          "output_type": "execute_result",
          "data": {
            "text/html": [
              "<div>\n",
              "<style scoped>\n",
              "    .dataframe tbody tr th:only-of-type {\n",
              "        vertical-align: middle;\n",
              "    }\n",
              "\n",
              "    .dataframe tbody tr th {\n",
              "        vertical-align: top;\n",
              "    }\n",
              "\n",
              "    .dataframe thead th {\n",
              "        text-align: right;\n",
              "    }\n",
              "</style>\n",
              "<table border=\"1\" class=\"dataframe\">\n",
              "  <thead>\n",
              "    <tr style=\"text-align: right;\">\n",
              "      <th></th>\n",
              "      <th>Unnamed: 0</th>\n",
              "      <th>mpg</th>\n",
              "      <th>cyl</th>\n",
              "      <th>disp</th>\n",
              "      <th>hp</th>\n",
              "      <th>drat</th>\n",
              "      <th>wt</th>\n",
              "      <th>qsec</th>\n",
              "      <th>vs</th>\n",
              "      <th>am</th>\n",
              "      <th>gear</th>\n",
              "      <th>carb</th>\n",
              "      <th>minmax</th>\n",
              "    </tr>\n",
              "  </thead>\n",
              "  <tbody>\n",
              "    <tr>\n",
              "      <th>3</th>\n",
              "      <td>Hornet 4 Drive</td>\n",
              "      <td>21.4</td>\n",
              "      <td>6</td>\n",
              "      <td>258.0</td>\n",
              "      <td>110</td>\n",
              "      <td>3.08</td>\n",
              "      <td>3.215</td>\n",
              "      <td>19.44</td>\n",
              "      <td>1</td>\n",
              "      <td>0</td>\n",
              "      <td>3</td>\n",
              "      <td>1</td>\n",
              "      <td>0.588095</td>\n",
              "    </tr>\n",
              "    <tr>\n",
              "      <th>5</th>\n",
              "      <td>Valiant</td>\n",
              "      <td>18.1</td>\n",
              "      <td>6</td>\n",
              "      <td>225.0</td>\n",
              "      <td>105</td>\n",
              "      <td>2.76</td>\n",
              "      <td>3.460</td>\n",
              "      <td>20.22</td>\n",
              "      <td>1</td>\n",
              "      <td>0</td>\n",
              "      <td>3</td>\n",
              "      <td>1</td>\n",
              "      <td>0.680952</td>\n",
              "    </tr>\n",
              "    <tr>\n",
              "      <th>7</th>\n",
              "      <td>Merc 240D</td>\n",
              "      <td>24.4</td>\n",
              "      <td>4</td>\n",
              "      <td>146.7</td>\n",
              "      <td>62</td>\n",
              "      <td>3.69</td>\n",
              "      <td>3.190</td>\n",
              "      <td>20.00</td>\n",
              "      <td>1</td>\n",
              "      <td>0</td>\n",
              "      <td>4</td>\n",
              "      <td>2</td>\n",
              "      <td>0.654762</td>\n",
              "    </tr>\n",
              "    <tr>\n",
              "      <th>8</th>\n",
              "      <td>Merc 230</td>\n",
              "      <td>22.8</td>\n",
              "      <td>4</td>\n",
              "      <td>140.8</td>\n",
              "      <td>95</td>\n",
              "      <td>3.92</td>\n",
              "      <td>3.150</td>\n",
              "      <td>22.90</td>\n",
              "      <td>1</td>\n",
              "      <td>0</td>\n",
              "      <td>4</td>\n",
              "      <td>2</td>\n",
              "      <td>1.000000</td>\n",
              "    </tr>\n",
              "    <tr>\n",
              "      <th>10</th>\n",
              "      <td>Merc 280C</td>\n",
              "      <td>17.8</td>\n",
              "      <td>6</td>\n",
              "      <td>167.6</td>\n",
              "      <td>123</td>\n",
              "      <td>3.92</td>\n",
              "      <td>3.440</td>\n",
              "      <td>18.90</td>\n",
              "      <td>1</td>\n",
              "      <td>0</td>\n",
              "      <td>4</td>\n",
              "      <td>4</td>\n",
              "      <td>0.523810</td>\n",
              "    </tr>\n",
              "    <tr>\n",
              "      <th>17</th>\n",
              "      <td>Fiat 128</td>\n",
              "      <td>32.4</td>\n",
              "      <td>4</td>\n",
              "      <td>78.7</td>\n",
              "      <td>66</td>\n",
              "      <td>4.08</td>\n",
              "      <td>2.200</td>\n",
              "      <td>19.47</td>\n",
              "      <td>1</td>\n",
              "      <td>1</td>\n",
              "      <td>4</td>\n",
              "      <td>1</td>\n",
              "      <td>0.591667</td>\n",
              "    </tr>\n",
              "    <tr>\n",
              "      <th>19</th>\n",
              "      <td>Toyota Corolla</td>\n",
              "      <td>33.9</td>\n",
              "      <td>4</td>\n",
              "      <td>71.1</td>\n",
              "      <td>65</td>\n",
              "      <td>4.22</td>\n",
              "      <td>1.835</td>\n",
              "      <td>19.90</td>\n",
              "      <td>1</td>\n",
              "      <td>1</td>\n",
              "      <td>4</td>\n",
              "      <td>1</td>\n",
              "      <td>0.642857</td>\n",
              "    </tr>\n",
              "    <tr>\n",
              "      <th>20</th>\n",
              "      <td>Toyota Corona</td>\n",
              "      <td>21.5</td>\n",
              "      <td>4</td>\n",
              "      <td>120.1</td>\n",
              "      <td>97</td>\n",
              "      <td>3.70</td>\n",
              "      <td>2.465</td>\n",
              "      <td>20.01</td>\n",
              "      <td>1</td>\n",
              "      <td>0</td>\n",
              "      <td>3</td>\n",
              "      <td>1</td>\n",
              "      <td>0.655952</td>\n",
              "    </tr>\n",
              "    <tr>\n",
              "      <th>25</th>\n",
              "      <td>Fiat X1-9</td>\n",
              "      <td>27.3</td>\n",
              "      <td>4</td>\n",
              "      <td>79.0</td>\n",
              "      <td>66</td>\n",
              "      <td>4.08</td>\n",
              "      <td>1.935</td>\n",
              "      <td>18.90</td>\n",
              "      <td>1</td>\n",
              "      <td>1</td>\n",
              "      <td>4</td>\n",
              "      <td>1</td>\n",
              "      <td>0.523810</td>\n",
              "    </tr>\n",
              "  </tbody>\n",
              "</table>\n",
              "</div>"
            ],
            "text/plain": [
              "        Unnamed: 0   mpg  cyl   disp   hp  ...  vs  am  gear  carb    minmax\n",
              "3   Hornet 4 Drive  21.4    6  258.0  110  ...   1   0     3     1  0.588095\n",
              "5          Valiant  18.1    6  225.0  105  ...   1   0     3     1  0.680952\n",
              "7        Merc 240D  24.4    4  146.7   62  ...   1   0     4     2  0.654762\n",
              "8         Merc 230  22.8    4  140.8   95  ...   1   0     4     2  1.000000\n",
              "10       Merc 280C  17.8    6  167.6  123  ...   1   0     4     4  0.523810\n",
              "17        Fiat 128  32.4    4   78.7   66  ...   1   1     4     1  0.591667\n",
              "19  Toyota Corolla  33.9    4   71.1   65  ...   1   1     4     1  0.642857\n",
              "20   Toyota Corona  21.5    4  120.1   97  ...   1   0     3     1  0.655952\n",
              "25       Fiat X1-9  27.3    4   79.0   66  ...   1   1     4     1  0.523810\n",
              "\n",
              "[9 rows x 13 columns]"
            ]
          },
          "metadata": {
            "tags": []
          },
          "execution_count": 23
        }
      ]
    },
    {
      "cell_type": "code",
      "metadata": {
        "id": "9JHfgXX4P_17"
      },
      "source": [
        ""
      ],
      "execution_count": null,
      "outputs": []
    }
  ]
}