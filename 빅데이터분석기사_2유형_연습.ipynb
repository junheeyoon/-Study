{
  "nbformat": 4,
  "nbformat_minor": 0,
  "metadata": {
    "colab": {
      "name": "빅데이터분석기사 2유형 연습.ipynb",
      "provenance": [],
      "authorship_tag": "ABX9TyP/DuYsLpNNfIVspKwVfqGJ",
      "include_colab_link": true
    },
    "kernelspec": {
      "name": "python3",
      "display_name": "Python 3"
    },
    "language_info": {
      "name": "python"
    }
  },
  "cells": [
    {
      "cell_type": "markdown",
      "metadata": {
        "id": "view-in-github",
        "colab_type": "text"
      },
      "source": [
        "<a href=\"https://colab.research.google.com/github/junheeyoon/Big-Data-analyst-Study/blob/master/%EB%B9%85%EB%8D%B0%EC%9D%B4%ED%84%B0%EB%B6%84%EC%84%9D%EA%B8%B0%EC%82%AC_2%EC%9C%A0%ED%98%95_%EC%97%B0%EC%8A%B5.ipynb\" target=\"_parent\"><img src=\"https://colab.research.google.com/assets/colab-badge.svg\" alt=\"Open In Colab\"/></a>"
      ]
    },
    {
      "cell_type": "code",
      "metadata": {
        "id": "Gshdt949Wuv9",
        "colab": {
          "base_uri": "https://localhost:8080/"
        },
        "outputId": "7030c152-1eb9-4694-917c-3dcc02ece8fe"
      },
      "source": [
        "from google.colab import drive\n",
        "drive.mount('/content/drive')"
      ],
      "execution_count": 4,
      "outputs": [
        {
          "output_type": "stream",
          "text": [
            "Mounted at /content/drive\n"
          ],
          "name": "stdout"
        }
      ]
    },
    {
      "cell_type": "code",
      "metadata": {
        "colab": {
          "base_uri": "https://localhost:8080/"
        },
        "id": "d71t9JPJWTQU",
        "outputId": "11f5b0ec-be6c-4dde-92cf-148a1703d776"
      },
      "source": [
        "# 현재 경로 확인\n",
        "import os\n",
        "print(os.path.abspath(os.curdir))\n",
        "\n",
        "# Root 경로 설정\n",
        "import os\n",
        "os.chdir('/content/drive/MyDrive/데이터분석')\n",
        "print(os.path.abspath(os.curdir))"
      ],
      "execution_count": 5,
      "outputs": [
        {
          "output_type": "stream",
          "text": [
            "/content\n",
            "/content/drive/MyDrive/데이터분석\n"
          ],
          "name": "stdout"
        }
      ]
    },
    {
      "cell_type": "markdown",
      "metadata": {
        "id": "lEK3OeBnYGQb"
      },
      "source": [
        "#<문제 정의>"
      ]
    },
    {
      "cell_type": "markdown",
      "metadata": {
        "id": "JizcuiRQYD4K"
      },
      "source": [
        "- 고객 3,500명에 대한 학습용 데이터(y_train.csv, X_train.csv)를 이용하여 성별예측 모형을 만든\n",
        "후, 이를 평가용 데이터(X_test.csv)에 적용하여 얻은 2,482명 고객의 성별 예측값(남자일 확률)을\n",
        "다음과 같은 형식의 CSV 파일로 생성하시오.(제출한 모델의 성능은 ROC-AUC 평가지표에 따라\n",
        "채점) "
      ]
    },
    {
      "cell_type": "markdown",
      "metadata": {
        "id": "6mXDNSQcYMvx"
      },
      "source": [
        "제출형식\n",
        " - custid, gender\n",
        " - 3500, 0.267\n",
        " - 3501, 0.578\n",
        " - 3502, 0.885"
      ]
    },
    {
      "cell_type": "markdown",
      "metadata": {
        "id": "gszjGoj3Y6dt"
      },
      "source": [
        "유의사항\n",
        " - 성능이 우수한 예측모형을 구축하기 위해서는 적절한 데이터 전처리, Feature Engineering, 분류\n",
        "알고리즘 사용, 초매개변수 최적화, 모형 앙상블 등이 수반되어야 한다."
      ]
    },
    {
      "cell_type": "code",
      "metadata": {
        "colab": {
          "base_uri": "https://localhost:8080/",
          "height": 405
        },
        "id": "c5Jf2g5kWUKU",
        "outputId": "b8e3d152-9946-41fa-d1dc-a0fcf1dc954a"
      },
      "source": [
        "import pandas as pd\n",
        "path_to_X_train = './data/2유형/X_train.csv'\n",
        "path_to_X_test = './data/2유형/X_test.csv'\n",
        "path_to_y_train = './data/2유형/y_train.csv'\n",
        "X_train = pd.read_csv(path_to_X_train, encoding='cp949')\n",
        "X_test = pd.read_csv(path_to_X_test, encoding='cp949')\n",
        "y_train = pd.read_csv(path_to_y_train, encoding='cp949')\n",
        "\n",
        "# DataFrame type 확인\n",
        "X_train.iloc[:,1:]"
      ],
      "execution_count": 69,
      "outputs": [
        {
          "output_type": "execute_result",
          "data": {
            "text/html": [
              "<div>\n",
              "<style scoped>\n",
              "    .dataframe tbody tr th:only-of-type {\n",
              "        vertical-align: middle;\n",
              "    }\n",
              "\n",
              "    .dataframe tbody tr th {\n",
              "        vertical-align: top;\n",
              "    }\n",
              "\n",
              "    .dataframe thead th {\n",
              "        text-align: right;\n",
              "    }\n",
              "</style>\n",
              "<table border=\"1\" class=\"dataframe\">\n",
              "  <thead>\n",
              "    <tr style=\"text-align: right;\">\n",
              "      <th></th>\n",
              "      <th>총구매액</th>\n",
              "      <th>최대구매액</th>\n",
              "      <th>환불금액</th>\n",
              "      <th>주구매상품</th>\n",
              "      <th>주구매지점</th>\n",
              "      <th>내점일수</th>\n",
              "      <th>내점당구매건수</th>\n",
              "      <th>주말방문비율</th>\n",
              "      <th>구매주기</th>\n",
              "    </tr>\n",
              "  </thead>\n",
              "  <tbody>\n",
              "    <tr>\n",
              "      <th>0</th>\n",
              "      <td>68282840</td>\n",
              "      <td>11264000</td>\n",
              "      <td>6860000.0</td>\n",
              "      <td>기타</td>\n",
              "      <td>강남점</td>\n",
              "      <td>19</td>\n",
              "      <td>3.894737</td>\n",
              "      <td>0.527027</td>\n",
              "      <td>17</td>\n",
              "    </tr>\n",
              "    <tr>\n",
              "      <th>1</th>\n",
              "      <td>2136000</td>\n",
              "      <td>2136000</td>\n",
              "      <td>300000.0</td>\n",
              "      <td>스포츠</td>\n",
              "      <td>잠실점</td>\n",
              "      <td>2</td>\n",
              "      <td>1.500000</td>\n",
              "      <td>0.000000</td>\n",
              "      <td>1</td>\n",
              "    </tr>\n",
              "    <tr>\n",
              "      <th>2</th>\n",
              "      <td>3197000</td>\n",
              "      <td>1639000</td>\n",
              "      <td>NaN</td>\n",
              "      <td>남성 캐주얼</td>\n",
              "      <td>관악점</td>\n",
              "      <td>2</td>\n",
              "      <td>2.000000</td>\n",
              "      <td>0.000000</td>\n",
              "      <td>1</td>\n",
              "    </tr>\n",
              "    <tr>\n",
              "      <th>3</th>\n",
              "      <td>16077620</td>\n",
              "      <td>4935000</td>\n",
              "      <td>NaN</td>\n",
              "      <td>기타</td>\n",
              "      <td>광주점</td>\n",
              "      <td>18</td>\n",
              "      <td>2.444444</td>\n",
              "      <td>0.318182</td>\n",
              "      <td>16</td>\n",
              "    </tr>\n",
              "    <tr>\n",
              "      <th>4</th>\n",
              "      <td>29050000</td>\n",
              "      <td>24000000</td>\n",
              "      <td>NaN</td>\n",
              "      <td>보석</td>\n",
              "      <td>본  점</td>\n",
              "      <td>2</td>\n",
              "      <td>1.500000</td>\n",
              "      <td>0.000000</td>\n",
              "      <td>85</td>\n",
              "    </tr>\n",
              "    <tr>\n",
              "      <th>...</th>\n",
              "      <td>...</td>\n",
              "      <td>...</td>\n",
              "      <td>...</td>\n",
              "      <td>...</td>\n",
              "      <td>...</td>\n",
              "      <td>...</td>\n",
              "      <td>...</td>\n",
              "      <td>...</td>\n",
              "      <td>...</td>\n",
              "    </tr>\n",
              "    <tr>\n",
              "      <th>3495</th>\n",
              "      <td>3175200</td>\n",
              "      <td>3042900</td>\n",
              "      <td>NaN</td>\n",
              "      <td>골프</td>\n",
              "      <td>본  점</td>\n",
              "      <td>1</td>\n",
              "      <td>2.000000</td>\n",
              "      <td>1.000000</td>\n",
              "      <td>0</td>\n",
              "    </tr>\n",
              "    <tr>\n",
              "      <th>3496</th>\n",
              "      <td>29628600</td>\n",
              "      <td>7200000</td>\n",
              "      <td>6049600.0</td>\n",
              "      <td>시티웨어</td>\n",
              "      <td>부산본점</td>\n",
              "      <td>8</td>\n",
              "      <td>1.625000</td>\n",
              "      <td>0.461538</td>\n",
              "      <td>40</td>\n",
              "    </tr>\n",
              "    <tr>\n",
              "      <th>3497</th>\n",
              "      <td>75000</td>\n",
              "      <td>75000</td>\n",
              "      <td>NaN</td>\n",
              "      <td>주방용품</td>\n",
              "      <td>창원점</td>\n",
              "      <td>1</td>\n",
              "      <td>1.000000</td>\n",
              "      <td>0.000000</td>\n",
              "      <td>0</td>\n",
              "    </tr>\n",
              "    <tr>\n",
              "      <th>3498</th>\n",
              "      <td>1875000</td>\n",
              "      <td>1000000</td>\n",
              "      <td>NaN</td>\n",
              "      <td>화장품</td>\n",
              "      <td>본  점</td>\n",
              "      <td>2</td>\n",
              "      <td>1.000000</td>\n",
              "      <td>0.000000</td>\n",
              "      <td>39</td>\n",
              "    </tr>\n",
              "    <tr>\n",
              "      <th>3499</th>\n",
              "      <td>263101550</td>\n",
              "      <td>34632000</td>\n",
              "      <td>5973000.0</td>\n",
              "      <td>기타</td>\n",
              "      <td>본  점</td>\n",
              "      <td>38</td>\n",
              "      <td>2.421053</td>\n",
              "      <td>0.467391</td>\n",
              "      <td>8</td>\n",
              "    </tr>\n",
              "  </tbody>\n",
              "</table>\n",
              "<p>3500 rows × 9 columns</p>\n",
              "</div>"
            ],
            "text/plain": [
              "           총구매액     최대구매액       환불금액   주구매상품  ... 내점일수   내점당구매건수    주말방문비율  구매주기\n",
              "0      68282840  11264000  6860000.0      기타  ...   19  3.894737  0.527027    17\n",
              "1       2136000   2136000   300000.0     스포츠  ...    2  1.500000  0.000000     1\n",
              "2       3197000   1639000        NaN  남성 캐주얼  ...    2  2.000000  0.000000     1\n",
              "3      16077620   4935000        NaN      기타  ...   18  2.444444  0.318182    16\n",
              "4      29050000  24000000        NaN      보석  ...    2  1.500000  0.000000    85\n",
              "...         ...       ...        ...     ...  ...  ...       ...       ...   ...\n",
              "3495    3175200   3042900        NaN      골프  ...    1  2.000000  1.000000     0\n",
              "3496   29628600   7200000  6049600.0    시티웨어  ...    8  1.625000  0.461538    40\n",
              "3497      75000     75000        NaN    주방용품  ...    1  1.000000  0.000000     0\n",
              "3498    1875000   1000000        NaN     화장품  ...    2  1.000000  0.000000    39\n",
              "3499  263101550  34632000  5973000.0      기타  ...   38  2.421053  0.467391     8\n",
              "\n",
              "[3500 rows x 9 columns]"
            ]
          },
          "metadata": {
            "tags": []
          },
          "execution_count": 69
        }
      ]
    },
    {
      "cell_type": "code",
      "metadata": {
        "colab": {
          "base_uri": "https://localhost:8080/",
          "height": 405
        },
        "id": "n82hT2aCW_xq",
        "outputId": "177c8ebd-44e7-4357-89d6-2d3a7f1baec4"
      },
      "source": [
        "X_test.iloc[:,1:]"
      ],
      "execution_count": 70,
      "outputs": [
        {
          "output_type": "execute_result",
          "data": {
            "text/html": [
              "<div>\n",
              "<style scoped>\n",
              "    .dataframe tbody tr th:only-of-type {\n",
              "        vertical-align: middle;\n",
              "    }\n",
              "\n",
              "    .dataframe tbody tr th {\n",
              "        vertical-align: top;\n",
              "    }\n",
              "\n",
              "    .dataframe thead th {\n",
              "        text-align: right;\n",
              "    }\n",
              "</style>\n",
              "<table border=\"1\" class=\"dataframe\">\n",
              "  <thead>\n",
              "    <tr style=\"text-align: right;\">\n",
              "      <th></th>\n",
              "      <th>총구매액</th>\n",
              "      <th>최대구매액</th>\n",
              "      <th>환불금액</th>\n",
              "      <th>주구매상품</th>\n",
              "      <th>주구매지점</th>\n",
              "      <th>내점일수</th>\n",
              "      <th>내점당구매건수</th>\n",
              "      <th>주말방문비율</th>\n",
              "      <th>구매주기</th>\n",
              "    </tr>\n",
              "  </thead>\n",
              "  <tbody>\n",
              "    <tr>\n",
              "      <th>0</th>\n",
              "      <td>70900400</td>\n",
              "      <td>22000000</td>\n",
              "      <td>4050000.0</td>\n",
              "      <td>골프</td>\n",
              "      <td>부산본점</td>\n",
              "      <td>13</td>\n",
              "      <td>1.461538</td>\n",
              "      <td>0.789474</td>\n",
              "      <td>26</td>\n",
              "    </tr>\n",
              "    <tr>\n",
              "      <th>1</th>\n",
              "      <td>310533100</td>\n",
              "      <td>38558000</td>\n",
              "      <td>48034700.0</td>\n",
              "      <td>농산물</td>\n",
              "      <td>잠실점</td>\n",
              "      <td>90</td>\n",
              "      <td>2.433333</td>\n",
              "      <td>0.369863</td>\n",
              "      <td>3</td>\n",
              "    </tr>\n",
              "    <tr>\n",
              "      <th>2</th>\n",
              "      <td>305264140</td>\n",
              "      <td>14825000</td>\n",
              "      <td>30521000.0</td>\n",
              "      <td>가공식품</td>\n",
              "      <td>본  점</td>\n",
              "      <td>101</td>\n",
              "      <td>14.623762</td>\n",
              "      <td>0.083277</td>\n",
              "      <td>3</td>\n",
              "    </tr>\n",
              "    <tr>\n",
              "      <th>3</th>\n",
              "      <td>7594080</td>\n",
              "      <td>5225000</td>\n",
              "      <td>NaN</td>\n",
              "      <td>주방용품</td>\n",
              "      <td>부산본점</td>\n",
              "      <td>5</td>\n",
              "      <td>2.000000</td>\n",
              "      <td>0.000000</td>\n",
              "      <td>47</td>\n",
              "    </tr>\n",
              "    <tr>\n",
              "      <th>4</th>\n",
              "      <td>1795790</td>\n",
              "      <td>1411200</td>\n",
              "      <td>NaN</td>\n",
              "      <td>수산품</td>\n",
              "      <td>청량리점</td>\n",
              "      <td>3</td>\n",
              "      <td>2.666667</td>\n",
              "      <td>0.125000</td>\n",
              "      <td>8</td>\n",
              "    </tr>\n",
              "    <tr>\n",
              "      <th>...</th>\n",
              "      <td>...</td>\n",
              "      <td>...</td>\n",
              "      <td>...</td>\n",
              "      <td>...</td>\n",
              "      <td>...</td>\n",
              "      <td>...</td>\n",
              "      <td>...</td>\n",
              "      <td>...</td>\n",
              "      <td>...</td>\n",
              "    </tr>\n",
              "    <tr>\n",
              "      <th>2477</th>\n",
              "      <td>82581500</td>\n",
              "      <td>23976000</td>\n",
              "      <td>NaN</td>\n",
              "      <td>골프</td>\n",
              "      <td>부산본점</td>\n",
              "      <td>8</td>\n",
              "      <td>1.750000</td>\n",
              "      <td>0.642857</td>\n",
              "      <td>40</td>\n",
              "    </tr>\n",
              "    <tr>\n",
              "      <th>2478</th>\n",
              "      <td>480000</td>\n",
              "      <td>480000</td>\n",
              "      <td>NaN</td>\n",
              "      <td>섬유잡화</td>\n",
              "      <td>광주점</td>\n",
              "      <td>1</td>\n",
              "      <td>1.000000</td>\n",
              "      <td>0.000000</td>\n",
              "      <td>0</td>\n",
              "    </tr>\n",
              "    <tr>\n",
              "      <th>2479</th>\n",
              "      <td>260003790</td>\n",
              "      <td>25750000</td>\n",
              "      <td>NaN</td>\n",
              "      <td>남성 캐주얼</td>\n",
              "      <td>본  점</td>\n",
              "      <td>19</td>\n",
              "      <td>3.736842</td>\n",
              "      <td>0.915493</td>\n",
              "      <td>18</td>\n",
              "    </tr>\n",
              "    <tr>\n",
              "      <th>2480</th>\n",
              "      <td>88991520</td>\n",
              "      <td>18120000</td>\n",
              "      <td>NaN</td>\n",
              "      <td>육류</td>\n",
              "      <td>본  점</td>\n",
              "      <td>5</td>\n",
              "      <td>3.600000</td>\n",
              "      <td>0.444444</td>\n",
              "      <td>60</td>\n",
              "    </tr>\n",
              "    <tr>\n",
              "      <th>2481</th>\n",
              "      <td>623700</td>\n",
              "      <td>209000</td>\n",
              "      <td>NaN</td>\n",
              "      <td>가공식품</td>\n",
              "      <td>영등포점</td>\n",
              "      <td>2</td>\n",
              "      <td>5.000000</td>\n",
              "      <td>0.000000</td>\n",
              "      <td>31</td>\n",
              "    </tr>\n",
              "  </tbody>\n",
              "</table>\n",
              "<p>2482 rows × 9 columns</p>\n",
              "</div>"
            ],
            "text/plain": [
              "           총구매액     최대구매액        환불금액   주구매상품  ... 내점일수    내점당구매건수    주말방문비율  구매주기\n",
              "0      70900400  22000000   4050000.0      골프  ...   13   1.461538  0.789474    26\n",
              "1     310533100  38558000  48034700.0     농산물  ...   90   2.433333  0.369863     3\n",
              "2     305264140  14825000  30521000.0    가공식품  ...  101  14.623762  0.083277     3\n",
              "3       7594080   5225000         NaN    주방용품  ...    5   2.000000  0.000000    47\n",
              "4       1795790   1411200         NaN     수산품  ...    3   2.666667  0.125000     8\n",
              "...         ...       ...         ...     ...  ...  ...        ...       ...   ...\n",
              "2477   82581500  23976000         NaN      골프  ...    8   1.750000  0.642857    40\n",
              "2478     480000    480000         NaN    섬유잡화  ...    1   1.000000  0.000000     0\n",
              "2479  260003790  25750000         NaN  남성 캐주얼  ...   19   3.736842  0.915493    18\n",
              "2480   88991520  18120000         NaN      육류  ...    5   3.600000  0.444444    60\n",
              "2481     623700    209000         NaN    가공식품  ...    2   5.000000  0.000000    31\n",
              "\n",
              "[2482 rows x 9 columns]"
            ]
          },
          "metadata": {
            "tags": []
          },
          "execution_count": 70
        }
      ]
    },
    {
      "cell_type": "code",
      "metadata": {
        "colab": {
          "base_uri": "https://localhost:8080/",
          "height": 405
        },
        "id": "uZImqiIc7E-R",
        "outputId": "04e0434b-f271-49c4-a9c9-0531b6461202"
      },
      "source": [
        "X_test_custid = X_test.iloc[:,:1]\n",
        "X_test_custid"
      ],
      "execution_count": 72,
      "outputs": [
        {
          "output_type": "execute_result",
          "data": {
            "text/html": [
              "<div>\n",
              "<style scoped>\n",
              "    .dataframe tbody tr th:only-of-type {\n",
              "        vertical-align: middle;\n",
              "    }\n",
              "\n",
              "    .dataframe tbody tr th {\n",
              "        vertical-align: top;\n",
              "    }\n",
              "\n",
              "    .dataframe thead th {\n",
              "        text-align: right;\n",
              "    }\n",
              "</style>\n",
              "<table border=\"1\" class=\"dataframe\">\n",
              "  <thead>\n",
              "    <tr style=\"text-align: right;\">\n",
              "      <th></th>\n",
              "      <th>cust_id</th>\n",
              "    </tr>\n",
              "  </thead>\n",
              "  <tbody>\n",
              "    <tr>\n",
              "      <th>0</th>\n",
              "      <td>3500</td>\n",
              "    </tr>\n",
              "    <tr>\n",
              "      <th>1</th>\n",
              "      <td>3501</td>\n",
              "    </tr>\n",
              "    <tr>\n",
              "      <th>2</th>\n",
              "      <td>3502</td>\n",
              "    </tr>\n",
              "    <tr>\n",
              "      <th>3</th>\n",
              "      <td>3503</td>\n",
              "    </tr>\n",
              "    <tr>\n",
              "      <th>4</th>\n",
              "      <td>3504</td>\n",
              "    </tr>\n",
              "    <tr>\n",
              "      <th>...</th>\n",
              "      <td>...</td>\n",
              "    </tr>\n",
              "    <tr>\n",
              "      <th>2477</th>\n",
              "      <td>5977</td>\n",
              "    </tr>\n",
              "    <tr>\n",
              "      <th>2478</th>\n",
              "      <td>5978</td>\n",
              "    </tr>\n",
              "    <tr>\n",
              "      <th>2479</th>\n",
              "      <td>5979</td>\n",
              "    </tr>\n",
              "    <tr>\n",
              "      <th>2480</th>\n",
              "      <td>5980</td>\n",
              "    </tr>\n",
              "    <tr>\n",
              "      <th>2481</th>\n",
              "      <td>5981</td>\n",
              "    </tr>\n",
              "  </tbody>\n",
              "</table>\n",
              "<p>2482 rows × 1 columns</p>\n",
              "</div>"
            ],
            "text/plain": [
              "      cust_id\n",
              "0        3500\n",
              "1        3501\n",
              "2        3502\n",
              "3        3503\n",
              "4        3504\n",
              "...       ...\n",
              "2477     5977\n",
              "2478     5978\n",
              "2479     5979\n",
              "2480     5980\n",
              "2481     5981\n",
              "\n",
              "[2482 rows x 1 columns]"
            ]
          },
          "metadata": {
            "tags": []
          },
          "execution_count": 72
        }
      ]
    },
    {
      "cell_type": "code",
      "metadata": {
        "colab": {
          "base_uri": "https://localhost:8080/",
          "height": 405
        },
        "id": "vA8F2g3IXD1_",
        "outputId": "6d3cbcff-f396-4225-a62a-64894a30b9c7"
      },
      "source": [
        "y_train.iloc[:,1:]"
      ],
      "execution_count": 73,
      "outputs": [
        {
          "output_type": "execute_result",
          "data": {
            "text/html": [
              "<div>\n",
              "<style scoped>\n",
              "    .dataframe tbody tr th:only-of-type {\n",
              "        vertical-align: middle;\n",
              "    }\n",
              "\n",
              "    .dataframe tbody tr th {\n",
              "        vertical-align: top;\n",
              "    }\n",
              "\n",
              "    .dataframe thead th {\n",
              "        text-align: right;\n",
              "    }\n",
              "</style>\n",
              "<table border=\"1\" class=\"dataframe\">\n",
              "  <thead>\n",
              "    <tr style=\"text-align: right;\">\n",
              "      <th></th>\n",
              "      <th>gender</th>\n",
              "    </tr>\n",
              "  </thead>\n",
              "  <tbody>\n",
              "    <tr>\n",
              "      <th>0</th>\n",
              "      <td>0</td>\n",
              "    </tr>\n",
              "    <tr>\n",
              "      <th>1</th>\n",
              "      <td>0</td>\n",
              "    </tr>\n",
              "    <tr>\n",
              "      <th>2</th>\n",
              "      <td>1</td>\n",
              "    </tr>\n",
              "    <tr>\n",
              "      <th>3</th>\n",
              "      <td>1</td>\n",
              "    </tr>\n",
              "    <tr>\n",
              "      <th>4</th>\n",
              "      <td>0</td>\n",
              "    </tr>\n",
              "    <tr>\n",
              "      <th>...</th>\n",
              "      <td>...</td>\n",
              "    </tr>\n",
              "    <tr>\n",
              "      <th>3495</th>\n",
              "      <td>1</td>\n",
              "    </tr>\n",
              "    <tr>\n",
              "      <th>3496</th>\n",
              "      <td>1</td>\n",
              "    </tr>\n",
              "    <tr>\n",
              "      <th>3497</th>\n",
              "      <td>0</td>\n",
              "    </tr>\n",
              "    <tr>\n",
              "      <th>3498</th>\n",
              "      <td>0</td>\n",
              "    </tr>\n",
              "    <tr>\n",
              "      <th>3499</th>\n",
              "      <td>0</td>\n",
              "    </tr>\n",
              "  </tbody>\n",
              "</table>\n",
              "<p>3500 rows × 1 columns</p>\n",
              "</div>"
            ],
            "text/plain": [
              "      gender\n",
              "0          0\n",
              "1          0\n",
              "2          1\n",
              "3          1\n",
              "4          0\n",
              "...      ...\n",
              "3495       1\n",
              "3496       1\n",
              "3497       0\n",
              "3498       0\n",
              "3499       0\n",
              "\n",
              "[3500 rows x 1 columns]"
            ]
          },
          "metadata": {
            "tags": []
          },
          "execution_count": 73
        }
      ]
    },
    {
      "cell_type": "code",
      "metadata": {
        "id": "sjw9hmDi2mvX"
      },
      "source": [
        "y_train = y_train.iloc[:,1:]"
      ],
      "execution_count": 74,
      "outputs": []
    },
    {
      "cell_type": "code",
      "metadata": {
        "id": "UTNrqlBmXJ7R"
      },
      "source": [
        "from sklearn.preprocessing import LabelEncoder"
      ],
      "execution_count": 75,
      "outputs": []
    },
    {
      "cell_type": "code",
      "metadata": {
        "id": "bVIhNMd9s3P-"
      },
      "source": [
        "le = LabelEncoder()\n",
        "X_train['주구매상품'] = le.fit_transform(X_train.iloc[:,1:]['주구매상품'])\n",
        "X_train['주구매지점'] = le.fit_transform(X_train.iloc[:,1:]['주구매지점'])\n",
        "X_test['주구매상품'] = le.fit_transform(X_test.iloc[:,1:]['주구매상품'])\n",
        "X_test['주구매지점'] = le.fit_transform(X_test.iloc[:,1:]['주구매지점'])"
      ],
      "execution_count": 76,
      "outputs": []
    },
    {
      "cell_type": "code",
      "metadata": {
        "colab": {
          "base_uri": "https://localhost:8080/",
          "height": 405
        },
        "id": "b3_8WzSLuB1y",
        "outputId": "81f049f8-c5b1-4f9b-e900-ee912d07bdf5"
      },
      "source": [
        "X_train.iloc[:,1:]"
      ],
      "execution_count": 77,
      "outputs": [
        {
          "output_type": "execute_result",
          "data": {
            "text/html": [
              "<div>\n",
              "<style scoped>\n",
              "    .dataframe tbody tr th:only-of-type {\n",
              "        vertical-align: middle;\n",
              "    }\n",
              "\n",
              "    .dataframe tbody tr th {\n",
              "        vertical-align: top;\n",
              "    }\n",
              "\n",
              "    .dataframe thead th {\n",
              "        text-align: right;\n",
              "    }\n",
              "</style>\n",
              "<table border=\"1\" class=\"dataframe\">\n",
              "  <thead>\n",
              "    <tr style=\"text-align: right;\">\n",
              "      <th></th>\n",
              "      <th>총구매액</th>\n",
              "      <th>최대구매액</th>\n",
              "      <th>환불금액</th>\n",
              "      <th>주구매상품</th>\n",
              "      <th>주구매지점</th>\n",
              "      <th>내점일수</th>\n",
              "      <th>내점당구매건수</th>\n",
              "      <th>주말방문비율</th>\n",
              "      <th>구매주기</th>\n",
              "    </tr>\n",
              "  </thead>\n",
              "  <tbody>\n",
              "    <tr>\n",
              "      <th>0</th>\n",
              "      <td>68282840</td>\n",
              "      <td>11264000</td>\n",
              "      <td>6860000.0</td>\n",
              "      <td>5</td>\n",
              "      <td>0</td>\n",
              "      <td>19</td>\n",
              "      <td>3.894737</td>\n",
              "      <td>0.527027</td>\n",
              "      <td>17</td>\n",
              "    </tr>\n",
              "    <tr>\n",
              "      <th>1</th>\n",
              "      <td>2136000</td>\n",
              "      <td>2136000</td>\n",
              "      <td>300000.0</td>\n",
              "      <td>21</td>\n",
              "      <td>19</td>\n",
              "      <td>2</td>\n",
              "      <td>1.500000</td>\n",
              "      <td>0.000000</td>\n",
              "      <td>1</td>\n",
              "    </tr>\n",
              "    <tr>\n",
              "      <th>2</th>\n",
              "      <td>3197000</td>\n",
              "      <td>1639000</td>\n",
              "      <td>NaN</td>\n",
              "      <td>6</td>\n",
              "      <td>1</td>\n",
              "      <td>2</td>\n",
              "      <td>2.000000</td>\n",
              "      <td>0.000000</td>\n",
              "      <td>1</td>\n",
              "    </tr>\n",
              "    <tr>\n",
              "      <th>3</th>\n",
              "      <td>16077620</td>\n",
              "      <td>4935000</td>\n",
              "      <td>NaN</td>\n",
              "      <td>5</td>\n",
              "      <td>2</td>\n",
              "      <td>18</td>\n",
              "      <td>2.444444</td>\n",
              "      <td>0.318182</td>\n",
              "      <td>16</td>\n",
              "    </tr>\n",
              "    <tr>\n",
              "      <th>4</th>\n",
              "      <td>29050000</td>\n",
              "      <td>24000000</td>\n",
              "      <td>NaN</td>\n",
              "      <td>15</td>\n",
              "      <td>8</td>\n",
              "      <td>2</td>\n",
              "      <td>1.500000</td>\n",
              "      <td>0.000000</td>\n",
              "      <td>85</td>\n",
              "    </tr>\n",
              "    <tr>\n",
              "      <th>...</th>\n",
              "      <td>...</td>\n",
              "      <td>...</td>\n",
              "      <td>...</td>\n",
              "      <td>...</td>\n",
              "      <td>...</td>\n",
              "      <td>...</td>\n",
              "      <td>...</td>\n",
              "      <td>...</td>\n",
              "      <td>...</td>\n",
              "    </tr>\n",
              "    <tr>\n",
              "      <th>3495</th>\n",
              "      <td>3175200</td>\n",
              "      <td>3042900</td>\n",
              "      <td>NaN</td>\n",
              "      <td>3</td>\n",
              "      <td>8</td>\n",
              "      <td>1</td>\n",
              "      <td>2.000000</td>\n",
              "      <td>1.000000</td>\n",
              "      <td>0</td>\n",
              "    </tr>\n",
              "    <tr>\n",
              "      <th>3496</th>\n",
              "      <td>29628600</td>\n",
              "      <td>7200000</td>\n",
              "      <td>6049600.0</td>\n",
              "      <td>22</td>\n",
              "      <td>9</td>\n",
              "      <td>8</td>\n",
              "      <td>1.625000</td>\n",
              "      <td>0.461538</td>\n",
              "      <td>40</td>\n",
              "    </tr>\n",
              "    <tr>\n",
              "      <th>3497</th>\n",
              "      <td>75000</td>\n",
              "      <td>75000</td>\n",
              "      <td>NaN</td>\n",
              "      <td>32</td>\n",
              "      <td>21</td>\n",
              "      <td>1</td>\n",
              "      <td>1.000000</td>\n",
              "      <td>0.000000</td>\n",
              "      <td>0</td>\n",
              "    </tr>\n",
              "    <tr>\n",
              "      <th>3498</th>\n",
              "      <td>1875000</td>\n",
              "      <td>1000000</td>\n",
              "      <td>NaN</td>\n",
              "      <td>41</td>\n",
              "      <td>8</td>\n",
              "      <td>2</td>\n",
              "      <td>1.000000</td>\n",
              "      <td>0.000000</td>\n",
              "      <td>39</td>\n",
              "    </tr>\n",
              "    <tr>\n",
              "      <th>3499</th>\n",
              "      <td>263101550</td>\n",
              "      <td>34632000</td>\n",
              "      <td>5973000.0</td>\n",
              "      <td>5</td>\n",
              "      <td>8</td>\n",
              "      <td>38</td>\n",
              "      <td>2.421053</td>\n",
              "      <td>0.467391</td>\n",
              "      <td>8</td>\n",
              "    </tr>\n",
              "  </tbody>\n",
              "</table>\n",
              "<p>3500 rows × 9 columns</p>\n",
              "</div>"
            ],
            "text/plain": [
              "           총구매액     최대구매액       환불금액  주구매상품  ...  내점일수   내점당구매건수    주말방문비율  구매주기\n",
              "0      68282840  11264000  6860000.0      5  ...    19  3.894737  0.527027    17\n",
              "1       2136000   2136000   300000.0     21  ...     2  1.500000  0.000000     1\n",
              "2       3197000   1639000        NaN      6  ...     2  2.000000  0.000000     1\n",
              "3      16077620   4935000        NaN      5  ...    18  2.444444  0.318182    16\n",
              "4      29050000  24000000        NaN     15  ...     2  1.500000  0.000000    85\n",
              "...         ...       ...        ...    ...  ...   ...       ...       ...   ...\n",
              "3495    3175200   3042900        NaN      3  ...     1  2.000000  1.000000     0\n",
              "3496   29628600   7200000  6049600.0     22  ...     8  1.625000  0.461538    40\n",
              "3497      75000     75000        NaN     32  ...     1  1.000000  0.000000     0\n",
              "3498    1875000   1000000        NaN     41  ...     2  1.000000  0.000000    39\n",
              "3499  263101550  34632000  5973000.0      5  ...    38  2.421053  0.467391     8\n",
              "\n",
              "[3500 rows x 9 columns]"
            ]
          },
          "metadata": {
            "tags": []
          },
          "execution_count": 77
        }
      ]
    },
    {
      "cell_type": "code",
      "metadata": {
        "colab": {
          "base_uri": "https://localhost:8080/"
        },
        "id": "j9W0H4IEuWnR",
        "outputId": "ee1ffadb-2a85-478c-deb3-af8507a73c6e"
      },
      "source": [
        "X_train.isnull().sum()"
      ],
      "execution_count": 78,
      "outputs": [
        {
          "output_type": "execute_result",
          "data": {
            "text/plain": [
              "cust_id       0\n",
              "총구매액          0\n",
              "최대구매액         0\n",
              "환불금액       2295\n",
              "주구매상품         0\n",
              "주구매지점         0\n",
              "내점일수          0\n",
              "내점당구매건수       0\n",
              "주말방문비율        0\n",
              "구매주기          0\n",
              "dtype: int64"
            ]
          },
          "metadata": {
            "tags": []
          },
          "execution_count": 78
        }
      ]
    },
    {
      "cell_type": "code",
      "metadata": {
        "colab": {
          "base_uri": "https://localhost:8080/"
        },
        "id": "5sENIcNYwhSY",
        "outputId": "2799a082-52b6-48fd-df21-f02422f96525"
      },
      "source": [
        "X_test.isnull().sum()"
      ],
      "execution_count": 79,
      "outputs": [
        {
          "output_type": "execute_result",
          "data": {
            "text/plain": [
              "cust_id       0\n",
              "총구매액          0\n",
              "최대구매액         0\n",
              "환불금액       1611\n",
              "주구매상품         0\n",
              "주구매지점         0\n",
              "내점일수          0\n",
              "내점당구매건수       0\n",
              "주말방문비율        0\n",
              "구매주기          0\n",
              "dtype: int64"
            ]
          },
          "metadata": {
            "tags": []
          },
          "execution_count": 79
        }
      ]
    },
    {
      "cell_type": "code",
      "metadata": {
        "id": "M8hGE73Du-dH"
      },
      "source": [
        "X_train = X_train.fillna(0)"
      ],
      "execution_count": 80,
      "outputs": []
    },
    {
      "cell_type": "code",
      "metadata": {
        "id": "8zflwPtWwoSE"
      },
      "source": [
        "X_test = X_test.fillna(0)"
      ],
      "execution_count": 81,
      "outputs": []
    },
    {
      "cell_type": "code",
      "metadata": {
        "id": "N5zXVzl0vJT0"
      },
      "source": [
        "X_train = X_train.iloc[:, 1:]"
      ],
      "execution_count": 82,
      "outputs": []
    },
    {
      "cell_type": "code",
      "metadata": {
        "id": "yhynKmsgwrEZ"
      },
      "source": [
        "X_test = X_test.iloc[:, 1:]"
      ],
      "execution_count": 83,
      "outputs": []
    },
    {
      "cell_type": "code",
      "metadata": {
        "colab": {
          "base_uri": "https://localhost:8080/",
          "height": 405
        },
        "id": "S_RmLJ61vWaM",
        "outputId": "f3c32453-c25d-4b7a-b291-08fc1dd679cf"
      },
      "source": [
        "X_train"
      ],
      "execution_count": 84,
      "outputs": [
        {
          "output_type": "execute_result",
          "data": {
            "text/html": [
              "<div>\n",
              "<style scoped>\n",
              "    .dataframe tbody tr th:only-of-type {\n",
              "        vertical-align: middle;\n",
              "    }\n",
              "\n",
              "    .dataframe tbody tr th {\n",
              "        vertical-align: top;\n",
              "    }\n",
              "\n",
              "    .dataframe thead th {\n",
              "        text-align: right;\n",
              "    }\n",
              "</style>\n",
              "<table border=\"1\" class=\"dataframe\">\n",
              "  <thead>\n",
              "    <tr style=\"text-align: right;\">\n",
              "      <th></th>\n",
              "      <th>총구매액</th>\n",
              "      <th>최대구매액</th>\n",
              "      <th>환불금액</th>\n",
              "      <th>주구매상품</th>\n",
              "      <th>주구매지점</th>\n",
              "      <th>내점일수</th>\n",
              "      <th>내점당구매건수</th>\n",
              "      <th>주말방문비율</th>\n",
              "      <th>구매주기</th>\n",
              "    </tr>\n",
              "  </thead>\n",
              "  <tbody>\n",
              "    <tr>\n",
              "      <th>0</th>\n",
              "      <td>68282840</td>\n",
              "      <td>11264000</td>\n",
              "      <td>6860000.0</td>\n",
              "      <td>5</td>\n",
              "      <td>0</td>\n",
              "      <td>19</td>\n",
              "      <td>3.894737</td>\n",
              "      <td>0.527027</td>\n",
              "      <td>17</td>\n",
              "    </tr>\n",
              "    <tr>\n",
              "      <th>1</th>\n",
              "      <td>2136000</td>\n",
              "      <td>2136000</td>\n",
              "      <td>300000.0</td>\n",
              "      <td>21</td>\n",
              "      <td>19</td>\n",
              "      <td>2</td>\n",
              "      <td>1.500000</td>\n",
              "      <td>0.000000</td>\n",
              "      <td>1</td>\n",
              "    </tr>\n",
              "    <tr>\n",
              "      <th>2</th>\n",
              "      <td>3197000</td>\n",
              "      <td>1639000</td>\n",
              "      <td>0.0</td>\n",
              "      <td>6</td>\n",
              "      <td>1</td>\n",
              "      <td>2</td>\n",
              "      <td>2.000000</td>\n",
              "      <td>0.000000</td>\n",
              "      <td>1</td>\n",
              "    </tr>\n",
              "    <tr>\n",
              "      <th>3</th>\n",
              "      <td>16077620</td>\n",
              "      <td>4935000</td>\n",
              "      <td>0.0</td>\n",
              "      <td>5</td>\n",
              "      <td>2</td>\n",
              "      <td>18</td>\n",
              "      <td>2.444444</td>\n",
              "      <td>0.318182</td>\n",
              "      <td>16</td>\n",
              "    </tr>\n",
              "    <tr>\n",
              "      <th>4</th>\n",
              "      <td>29050000</td>\n",
              "      <td>24000000</td>\n",
              "      <td>0.0</td>\n",
              "      <td>15</td>\n",
              "      <td>8</td>\n",
              "      <td>2</td>\n",
              "      <td>1.500000</td>\n",
              "      <td>0.000000</td>\n",
              "      <td>85</td>\n",
              "    </tr>\n",
              "    <tr>\n",
              "      <th>...</th>\n",
              "      <td>...</td>\n",
              "      <td>...</td>\n",
              "      <td>...</td>\n",
              "      <td>...</td>\n",
              "      <td>...</td>\n",
              "      <td>...</td>\n",
              "      <td>...</td>\n",
              "      <td>...</td>\n",
              "      <td>...</td>\n",
              "    </tr>\n",
              "    <tr>\n",
              "      <th>3495</th>\n",
              "      <td>3175200</td>\n",
              "      <td>3042900</td>\n",
              "      <td>0.0</td>\n",
              "      <td>3</td>\n",
              "      <td>8</td>\n",
              "      <td>1</td>\n",
              "      <td>2.000000</td>\n",
              "      <td>1.000000</td>\n",
              "      <td>0</td>\n",
              "    </tr>\n",
              "    <tr>\n",
              "      <th>3496</th>\n",
              "      <td>29628600</td>\n",
              "      <td>7200000</td>\n",
              "      <td>6049600.0</td>\n",
              "      <td>22</td>\n",
              "      <td>9</td>\n",
              "      <td>8</td>\n",
              "      <td>1.625000</td>\n",
              "      <td>0.461538</td>\n",
              "      <td>40</td>\n",
              "    </tr>\n",
              "    <tr>\n",
              "      <th>3497</th>\n",
              "      <td>75000</td>\n",
              "      <td>75000</td>\n",
              "      <td>0.0</td>\n",
              "      <td>32</td>\n",
              "      <td>21</td>\n",
              "      <td>1</td>\n",
              "      <td>1.000000</td>\n",
              "      <td>0.000000</td>\n",
              "      <td>0</td>\n",
              "    </tr>\n",
              "    <tr>\n",
              "      <th>3498</th>\n",
              "      <td>1875000</td>\n",
              "      <td>1000000</td>\n",
              "      <td>0.0</td>\n",
              "      <td>41</td>\n",
              "      <td>8</td>\n",
              "      <td>2</td>\n",
              "      <td>1.000000</td>\n",
              "      <td>0.000000</td>\n",
              "      <td>39</td>\n",
              "    </tr>\n",
              "    <tr>\n",
              "      <th>3499</th>\n",
              "      <td>263101550</td>\n",
              "      <td>34632000</td>\n",
              "      <td>5973000.0</td>\n",
              "      <td>5</td>\n",
              "      <td>8</td>\n",
              "      <td>38</td>\n",
              "      <td>2.421053</td>\n",
              "      <td>0.467391</td>\n",
              "      <td>8</td>\n",
              "    </tr>\n",
              "  </tbody>\n",
              "</table>\n",
              "<p>3500 rows × 9 columns</p>\n",
              "</div>"
            ],
            "text/plain": [
              "           총구매액     최대구매액       환불금액  주구매상품  ...  내점일수   내점당구매건수    주말방문비율  구매주기\n",
              "0      68282840  11264000  6860000.0      5  ...    19  3.894737  0.527027    17\n",
              "1       2136000   2136000   300000.0     21  ...     2  1.500000  0.000000     1\n",
              "2       3197000   1639000        0.0      6  ...     2  2.000000  0.000000     1\n",
              "3      16077620   4935000        0.0      5  ...    18  2.444444  0.318182    16\n",
              "4      29050000  24000000        0.0     15  ...     2  1.500000  0.000000    85\n",
              "...         ...       ...        ...    ...  ...   ...       ...       ...   ...\n",
              "3495    3175200   3042900        0.0      3  ...     1  2.000000  1.000000     0\n",
              "3496   29628600   7200000  6049600.0     22  ...     8  1.625000  0.461538    40\n",
              "3497      75000     75000        0.0     32  ...     1  1.000000  0.000000     0\n",
              "3498    1875000   1000000        0.0     41  ...     2  1.000000  0.000000    39\n",
              "3499  263101550  34632000  5973000.0      5  ...    38  2.421053  0.467391     8\n",
              "\n",
              "[3500 rows x 9 columns]"
            ]
          },
          "metadata": {
            "tags": []
          },
          "execution_count": 84
        }
      ]
    },
    {
      "cell_type": "code",
      "metadata": {
        "colab": {
          "base_uri": "https://localhost:8080/",
          "height": 405
        },
        "id": "C8ZzWSaXwOY5",
        "outputId": "0998ba35-5caa-4ec2-e208-8e456e456fb6"
      },
      "source": [
        "X_test"
      ],
      "execution_count": 85,
      "outputs": [
        {
          "output_type": "execute_result",
          "data": {
            "text/html": [
              "<div>\n",
              "<style scoped>\n",
              "    .dataframe tbody tr th:only-of-type {\n",
              "        vertical-align: middle;\n",
              "    }\n",
              "\n",
              "    .dataframe tbody tr th {\n",
              "        vertical-align: top;\n",
              "    }\n",
              "\n",
              "    .dataframe thead th {\n",
              "        text-align: right;\n",
              "    }\n",
              "</style>\n",
              "<table border=\"1\" class=\"dataframe\">\n",
              "  <thead>\n",
              "    <tr style=\"text-align: right;\">\n",
              "      <th></th>\n",
              "      <th>총구매액</th>\n",
              "      <th>최대구매액</th>\n",
              "      <th>환불금액</th>\n",
              "      <th>주구매상품</th>\n",
              "      <th>주구매지점</th>\n",
              "      <th>내점일수</th>\n",
              "      <th>내점당구매건수</th>\n",
              "      <th>주말방문비율</th>\n",
              "      <th>구매주기</th>\n",
              "    </tr>\n",
              "  </thead>\n",
              "  <tbody>\n",
              "    <tr>\n",
              "      <th>0</th>\n",
              "      <td>70900400</td>\n",
              "      <td>22000000</td>\n",
              "      <td>4050000.0</td>\n",
              "      <td>3</td>\n",
              "      <td>9</td>\n",
              "      <td>13</td>\n",
              "      <td>1.461538</td>\n",
              "      <td>0.789474</td>\n",
              "      <td>26</td>\n",
              "    </tr>\n",
              "    <tr>\n",
              "      <th>1</th>\n",
              "      <td>310533100</td>\n",
              "      <td>38558000</td>\n",
              "      <td>48034700.0</td>\n",
              "      <td>9</td>\n",
              "      <td>19</td>\n",
              "      <td>90</td>\n",
              "      <td>2.433333</td>\n",
              "      <td>0.369863</td>\n",
              "      <td>3</td>\n",
              "    </tr>\n",
              "    <tr>\n",
              "      <th>2</th>\n",
              "      <td>305264140</td>\n",
              "      <td>14825000</td>\n",
              "      <td>30521000.0</td>\n",
              "      <td>0</td>\n",
              "      <td>8</td>\n",
              "      <td>101</td>\n",
              "      <td>14.623762</td>\n",
              "      <td>0.083277</td>\n",
              "      <td>3</td>\n",
              "    </tr>\n",
              "    <tr>\n",
              "      <th>3</th>\n",
              "      <td>7594080</td>\n",
              "      <td>5225000</td>\n",
              "      <td>0.0</td>\n",
              "      <td>31</td>\n",
              "      <td>9</td>\n",
              "      <td>5</td>\n",
              "      <td>2.000000</td>\n",
              "      <td>0.000000</td>\n",
              "      <td>47</td>\n",
              "    </tr>\n",
              "    <tr>\n",
              "      <th>4</th>\n",
              "      <td>1795790</td>\n",
              "      <td>1411200</td>\n",
              "      <td>0.0</td>\n",
              "      <td>19</td>\n",
              "      <td>22</td>\n",
              "      <td>3</td>\n",
              "      <td>2.666667</td>\n",
              "      <td>0.125000</td>\n",
              "      <td>8</td>\n",
              "    </tr>\n",
              "    <tr>\n",
              "      <th>...</th>\n",
              "      <td>...</td>\n",
              "      <td>...</td>\n",
              "      <td>...</td>\n",
              "      <td>...</td>\n",
              "      <td>...</td>\n",
              "      <td>...</td>\n",
              "      <td>...</td>\n",
              "      <td>...</td>\n",
              "      <td>...</td>\n",
              "    </tr>\n",
              "    <tr>\n",
              "      <th>2477</th>\n",
              "      <td>82581500</td>\n",
              "      <td>23976000</td>\n",
              "      <td>0.0</td>\n",
              "      <td>3</td>\n",
              "      <td>9</td>\n",
              "      <td>8</td>\n",
              "      <td>1.750000</td>\n",
              "      <td>0.642857</td>\n",
              "      <td>40</td>\n",
              "    </tr>\n",
              "    <tr>\n",
              "      <th>2478</th>\n",
              "      <td>480000</td>\n",
              "      <td>480000</td>\n",
              "      <td>0.0</td>\n",
              "      <td>17</td>\n",
              "      <td>2</td>\n",
              "      <td>1</td>\n",
              "      <td>1.000000</td>\n",
              "      <td>0.000000</td>\n",
              "      <td>0</td>\n",
              "    </tr>\n",
              "    <tr>\n",
              "      <th>2479</th>\n",
              "      <td>260003790</td>\n",
              "      <td>25750000</td>\n",
              "      <td>0.0</td>\n",
              "      <td>6</td>\n",
              "      <td>8</td>\n",
              "      <td>19</td>\n",
              "      <td>3.736842</td>\n",
              "      <td>0.915493</td>\n",
              "      <td>18</td>\n",
              "    </tr>\n",
              "    <tr>\n",
              "      <th>2480</th>\n",
              "      <td>88991520</td>\n",
              "      <td>18120000</td>\n",
              "      <td>0.0</td>\n",
              "      <td>26</td>\n",
              "      <td>8</td>\n",
              "      <td>5</td>\n",
              "      <td>3.600000</td>\n",
              "      <td>0.444444</td>\n",
              "      <td>60</td>\n",
              "    </tr>\n",
              "    <tr>\n",
              "      <th>2481</th>\n",
              "      <td>623700</td>\n",
              "      <td>209000</td>\n",
              "      <td>0.0</td>\n",
              "      <td>0</td>\n",
              "      <td>15</td>\n",
              "      <td>2</td>\n",
              "      <td>5.000000</td>\n",
              "      <td>0.000000</td>\n",
              "      <td>31</td>\n",
              "    </tr>\n",
              "  </tbody>\n",
              "</table>\n",
              "<p>2482 rows × 9 columns</p>\n",
              "</div>"
            ],
            "text/plain": [
              "           총구매액     최대구매액        환불금액  주구매상품  ...  내점일수    내점당구매건수    주말방문비율  구매주기\n",
              "0      70900400  22000000   4050000.0      3  ...    13   1.461538  0.789474    26\n",
              "1     310533100  38558000  48034700.0      9  ...    90   2.433333  0.369863     3\n",
              "2     305264140  14825000  30521000.0      0  ...   101  14.623762  0.083277     3\n",
              "3       7594080   5225000         0.0     31  ...     5   2.000000  0.000000    47\n",
              "4       1795790   1411200         0.0     19  ...     3   2.666667  0.125000     8\n",
              "...         ...       ...         ...    ...  ...   ...        ...       ...   ...\n",
              "2477   82581500  23976000         0.0      3  ...     8   1.750000  0.642857    40\n",
              "2478     480000    480000         0.0     17  ...     1   1.000000  0.000000     0\n",
              "2479  260003790  25750000         0.0      6  ...    19   3.736842  0.915493    18\n",
              "2480   88991520  18120000         0.0     26  ...     5   3.600000  0.444444    60\n",
              "2481     623700    209000         0.0      0  ...     2   5.000000  0.000000    31\n",
              "\n",
              "[2482 rows x 9 columns]"
            ]
          },
          "metadata": {
            "tags": []
          },
          "execution_count": 85
        }
      ]
    },
    {
      "cell_type": "code",
      "metadata": {
        "id": "lHHtBCBdwusQ"
      },
      "source": [
        "from sklearn.linear_model import LogisticRegression\n",
        "from sklearn.neural_network import MLPClassifier\n",
        "from sklearn.ensemble import RandomForestClassifier"
      ],
      "execution_count": 86,
      "outputs": []
    },
    {
      "cell_type": "code",
      "metadata": {
        "colab": {
          "base_uri": "https://localhost:8080/"
        },
        "id": "6nQas77R2WN4",
        "outputId": "737f8c9c-6500-49a6-ca7d-9a1c9389b8e3"
      },
      "source": [
        "# LR\n",
        "model = LogisticRegression()\n",
        "model.fit(X_train, y_train)\n",
        "print('LR Training Acc: ', model.score(X_train, y_train))\n",
        "\n",
        "predict = model.predict_proba(X_test)\n",
        "predict = pd.DataFrame(predict)\n",
        "print(predict)"
      ],
      "execution_count": 87,
      "outputs": [
        {
          "output_type": "stream",
          "text": [
            "LR Training Acc:  0.624\n",
            "             0         1\n",
            "0     0.574768  0.425232\n",
            "1     0.801014  0.198986\n",
            "2     0.761058  0.238942\n",
            "3     0.509389  0.490611\n",
            "4     0.502357  0.497643\n",
            "...        ...       ...\n",
            "2477  0.576059  0.423941\n",
            "2478  0.500710  0.499290\n",
            "2479  0.692346  0.307654\n",
            "2480  0.576026  0.423974\n",
            "2481  0.500601  0.499399\n",
            "\n",
            "[2482 rows x 2 columns]\n"
          ],
          "name": "stdout"
        },
        {
          "output_type": "stream",
          "text": [
            "/usr/local/lib/python3.7/dist-packages/sklearn/utils/validation.py:760: DataConversionWarning: A column-vector y was passed when a 1d array was expected. Please change the shape of y to (n_samples, ), for example using ravel().\n",
            "  y = column_or_1d(y, warn=True)\n"
          ],
          "name": "stderr"
        }
      ]
    },
    {
      "cell_type": "code",
      "metadata": {
        "id": "MwobFdh83Xg3"
      },
      "source": [
        "answer = pd.concat([X_test_custid, predict.iloc[:,1]], axis=1)"
      ],
      "execution_count": 89,
      "outputs": []
    },
    {
      "cell_type": "code",
      "metadata": {
        "id": "9LCmsxa378nf"
      },
      "source": [
        "answer.columns=['custid', 'gender']"
      ],
      "execution_count": 91,
      "outputs": []
    },
    {
      "cell_type": "code",
      "metadata": {
        "id": "401td5rc5BjG"
      },
      "source": [
        "answer.to_csv('./data/2유형/y_test.csv', index=False)"
      ],
      "execution_count": 94,
      "outputs": []
    },
    {
      "cell_type": "code",
      "metadata": {
        "id": "7X06qgVx5fWn"
      },
      "source": [
        ""
      ],
      "execution_count": null,
      "outputs": []
    }
  ]
}