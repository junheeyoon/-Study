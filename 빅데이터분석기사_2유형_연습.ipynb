{
  "nbformat": 4,
  "nbformat_minor": 0,
  "metadata": {
    "colab": {
      "name": "빅데이터분석기사 2유형 연습.ipynb",
      "provenance": [],
      "authorship_tag": "ABX9TyNCjMWPO9wpceby+CmHnvlf",
      "include_colab_link": true
    },
    "kernelspec": {
      "name": "python3",
      "display_name": "Python 3"
    },
    "language_info": {
      "name": "python"
    }
  },
  "cells": [
    {
      "cell_type": "markdown",
      "metadata": {
        "id": "view-in-github",
        "colab_type": "text"
      },
      "source": [
        "<a href=\"https://colab.research.google.com/github/junheeyoon/Big-Data-analyst-Study/blob/master/%EB%B9%85%EB%8D%B0%EC%9D%B4%ED%84%B0%EB%B6%84%EC%84%9D%EA%B8%B0%EC%82%AC_2%EC%9C%A0%ED%98%95_%EC%97%B0%EC%8A%B5.ipynb\" target=\"_parent\"><img src=\"https://colab.research.google.com/assets/colab-badge.svg\" alt=\"Open In Colab\"/></a>"
      ]
    },
    {
      "cell_type": "code",
      "metadata": {
        "id": "Gshdt949Wuv9",
        "colab": {
          "base_uri": "https://localhost:8080/"
        },
        "outputId": "ce55af0f-ed79-4e3b-c319-d710d1b1ce51"
      },
      "source": [
        "from google.colab import drive\n",
        "drive.mount('/content/drive')"
      ],
      "execution_count": 1,
      "outputs": [
        {
          "output_type": "stream",
          "text": [
            "Mounted at /content/drive\n"
          ],
          "name": "stdout"
        }
      ]
    },
    {
      "cell_type": "code",
      "metadata": {
        "colab": {
          "base_uri": "https://localhost:8080/"
        },
        "id": "d71t9JPJWTQU",
        "outputId": "41dd9f2e-ee35-4210-e8a0-7b8999fff34b"
      },
      "source": [
        "# 현재 경로 확인\n",
        "import os\n",
        "print(os.path.abspath(os.curdir))\n",
        "\n",
        "# Root 경로 설정\n",
        "import os\n",
        "os.chdir('/content/drive/MyDrive/데이터분석')\n",
        "print(os.path.abspath(os.curdir))"
      ],
      "execution_count": 2,
      "outputs": [
        {
          "output_type": "stream",
          "text": [
            "/content\n",
            "/content/drive/MyDrive/데이터분석\n"
          ],
          "name": "stdout"
        }
      ]
    },
    {
      "cell_type": "markdown",
      "metadata": {
        "id": "lEK3OeBnYGQb"
      },
      "source": [
        "#<문제 정의>"
      ]
    },
    {
      "cell_type": "markdown",
      "metadata": {
        "id": "JizcuiRQYD4K"
      },
      "source": [
        "- 고객 3,500명에 대한 학습용 데이터(y_train.csv, X_train.csv)를 이용하여 성별예측 모형을 만든\n",
        "후, 이를 평가용 데이터(X_test.csv)에 적용하여 얻은 2,482명 고객의 성별 예측값(남자일 확률)을\n",
        "다음과 같은 형식의 CSV 파일로 생성하시오.(제출한 모델의 성능은 ROC-AUC 평가지표에 따라\n",
        "채점) "
      ]
    },
    {
      "cell_type": "markdown",
      "metadata": {
        "id": "6mXDNSQcYMvx"
      },
      "source": [
        "제출형식\n",
        " - custid, gender\n",
        " - 3500, 0.267\n",
        " - 3501, 0.578\n",
        " - 3502, 0.885"
      ]
    },
    {
      "cell_type": "markdown",
      "metadata": {
        "id": "gszjGoj3Y6dt"
      },
      "source": [
        "유의사항\n",
        " - 성능이 우수한 예측모형을 구축하기 위해서는 적절한 데이터 전처리, Feature Engineering, 분류\n",
        "알고리즘 사용, 초매개변수 최적화, 모형 앙상블 등이 수반되어야 한다."
      ]
    },
    {
      "cell_type": "code",
      "metadata": {
        "colab": {
          "base_uri": "https://localhost:8080/",
          "height": 419
        },
        "id": "c5Jf2g5kWUKU",
        "outputId": "afb60adb-6847-4b56-c118-f986122e6401"
      },
      "source": [
        "import pandas as pd\n",
        "path_to_X_train = './data/2유형/X_train.csv'\n",
        "path_to_X_test = './data/2유형/X_test.csv'\n",
        "path_to_y_train = './data/2유형/y_train.csv'\n",
        "X_train = pd.read_csv(path_to_X_train, encoding='cp949')\n",
        "X_test = pd.read_csv(path_to_X_test, encoding='cp949')\n",
        "y_train = pd.read_csv(path_to_y_train, encoding='cp949')\n",
        "\n",
        "# DataFrame type 확인\n",
        "X_train.iloc[:,1:]"
      ],
      "execution_count": null,
      "outputs": [
        {
          "output_type": "execute_result",
          "data": {
            "text/html": [
              "<div>\n",
              "<style scoped>\n",
              "    .dataframe tbody tr th:only-of-type {\n",
              "        vertical-align: middle;\n",
              "    }\n",
              "\n",
              "    .dataframe tbody tr th {\n",
              "        vertical-align: top;\n",
              "    }\n",
              "\n",
              "    .dataframe thead th {\n",
              "        text-align: right;\n",
              "    }\n",
              "</style>\n",
              "<table border=\"1\" class=\"dataframe\">\n",
              "  <thead>\n",
              "    <tr style=\"text-align: right;\">\n",
              "      <th></th>\n",
              "      <th>총구매액</th>\n",
              "      <th>최대구매액</th>\n",
              "      <th>환불금액</th>\n",
              "      <th>주구매상품</th>\n",
              "      <th>주구매지점</th>\n",
              "      <th>내점일수</th>\n",
              "      <th>내점당구매건수</th>\n",
              "      <th>주말방문비율</th>\n",
              "      <th>구매주기</th>\n",
              "    </tr>\n",
              "  </thead>\n",
              "  <tbody>\n",
              "    <tr>\n",
              "      <th>0</th>\n",
              "      <td>68282840</td>\n",
              "      <td>11264000</td>\n",
              "      <td>6860000.0</td>\n",
              "      <td>기타</td>\n",
              "      <td>강남점</td>\n",
              "      <td>19</td>\n",
              "      <td>3.894737</td>\n",
              "      <td>0.527027</td>\n",
              "      <td>17</td>\n",
              "    </tr>\n",
              "    <tr>\n",
              "      <th>1</th>\n",
              "      <td>2136000</td>\n",
              "      <td>2136000</td>\n",
              "      <td>300000.0</td>\n",
              "      <td>스포츠</td>\n",
              "      <td>잠실점</td>\n",
              "      <td>2</td>\n",
              "      <td>1.500000</td>\n",
              "      <td>0.000000</td>\n",
              "      <td>1</td>\n",
              "    </tr>\n",
              "    <tr>\n",
              "      <th>2</th>\n",
              "      <td>3197000</td>\n",
              "      <td>1639000</td>\n",
              "      <td>NaN</td>\n",
              "      <td>남성 캐주얼</td>\n",
              "      <td>관악점</td>\n",
              "      <td>2</td>\n",
              "      <td>2.000000</td>\n",
              "      <td>0.000000</td>\n",
              "      <td>1</td>\n",
              "    </tr>\n",
              "    <tr>\n",
              "      <th>3</th>\n",
              "      <td>16077620</td>\n",
              "      <td>4935000</td>\n",
              "      <td>NaN</td>\n",
              "      <td>기타</td>\n",
              "      <td>광주점</td>\n",
              "      <td>18</td>\n",
              "      <td>2.444444</td>\n",
              "      <td>0.318182</td>\n",
              "      <td>16</td>\n",
              "    </tr>\n",
              "    <tr>\n",
              "      <th>4</th>\n",
              "      <td>29050000</td>\n",
              "      <td>24000000</td>\n",
              "      <td>NaN</td>\n",
              "      <td>보석</td>\n",
              "      <td>본  점</td>\n",
              "      <td>2</td>\n",
              "      <td>1.500000</td>\n",
              "      <td>0.000000</td>\n",
              "      <td>85</td>\n",
              "    </tr>\n",
              "    <tr>\n",
              "      <th>...</th>\n",
              "      <td>...</td>\n",
              "      <td>...</td>\n",
              "      <td>...</td>\n",
              "      <td>...</td>\n",
              "      <td>...</td>\n",
              "      <td>...</td>\n",
              "      <td>...</td>\n",
              "      <td>...</td>\n",
              "      <td>...</td>\n",
              "    </tr>\n",
              "    <tr>\n",
              "      <th>3495</th>\n",
              "      <td>3175200</td>\n",
              "      <td>3042900</td>\n",
              "      <td>NaN</td>\n",
              "      <td>골프</td>\n",
              "      <td>본  점</td>\n",
              "      <td>1</td>\n",
              "      <td>2.000000</td>\n",
              "      <td>1.000000</td>\n",
              "      <td>0</td>\n",
              "    </tr>\n",
              "    <tr>\n",
              "      <th>3496</th>\n",
              "      <td>29628600</td>\n",
              "      <td>7200000</td>\n",
              "      <td>6049600.0</td>\n",
              "      <td>시티웨어</td>\n",
              "      <td>부산본점</td>\n",
              "      <td>8</td>\n",
              "      <td>1.625000</td>\n",
              "      <td>0.461538</td>\n",
              "      <td>40</td>\n",
              "    </tr>\n",
              "    <tr>\n",
              "      <th>3497</th>\n",
              "      <td>75000</td>\n",
              "      <td>75000</td>\n",
              "      <td>NaN</td>\n",
              "      <td>주방용품</td>\n",
              "      <td>창원점</td>\n",
              "      <td>1</td>\n",
              "      <td>1.000000</td>\n",
              "      <td>0.000000</td>\n",
              "      <td>0</td>\n",
              "    </tr>\n",
              "    <tr>\n",
              "      <th>3498</th>\n",
              "      <td>1875000</td>\n",
              "      <td>1000000</td>\n",
              "      <td>NaN</td>\n",
              "      <td>화장품</td>\n",
              "      <td>본  점</td>\n",
              "      <td>2</td>\n",
              "      <td>1.000000</td>\n",
              "      <td>0.000000</td>\n",
              "      <td>39</td>\n",
              "    </tr>\n",
              "    <tr>\n",
              "      <th>3499</th>\n",
              "      <td>263101550</td>\n",
              "      <td>34632000</td>\n",
              "      <td>5973000.0</td>\n",
              "      <td>기타</td>\n",
              "      <td>본  점</td>\n",
              "      <td>38</td>\n",
              "      <td>2.421053</td>\n",
              "      <td>0.467391</td>\n",
              "      <td>8</td>\n",
              "    </tr>\n",
              "  </tbody>\n",
              "</table>\n",
              "<p>3500 rows × 9 columns</p>\n",
              "</div>"
            ],
            "text/plain": [
              "           총구매액     최대구매액       환불금액   주구매상품  ... 내점일수   내점당구매건수    주말방문비율  구매주기\n",
              "0      68282840  11264000  6860000.0      기타  ...   19  3.894737  0.527027    17\n",
              "1       2136000   2136000   300000.0     스포츠  ...    2  1.500000  0.000000     1\n",
              "2       3197000   1639000        NaN  남성 캐주얼  ...    2  2.000000  0.000000     1\n",
              "3      16077620   4935000        NaN      기타  ...   18  2.444444  0.318182    16\n",
              "4      29050000  24000000        NaN      보석  ...    2  1.500000  0.000000    85\n",
              "...         ...       ...        ...     ...  ...  ...       ...       ...   ...\n",
              "3495    3175200   3042900        NaN      골프  ...    1  2.000000  1.000000     0\n",
              "3496   29628600   7200000  6049600.0    시티웨어  ...    8  1.625000  0.461538    40\n",
              "3497      75000     75000        NaN    주방용품  ...    1  1.000000  0.000000     0\n",
              "3498    1875000   1000000        NaN     화장품  ...    2  1.000000  0.000000    39\n",
              "3499  263101550  34632000  5973000.0      기타  ...   38  2.421053  0.467391     8\n",
              "\n",
              "[3500 rows x 9 columns]"
            ]
          },
          "metadata": {
            "tags": []
          },
          "execution_count": 36
        }
      ]
    },
    {
      "cell_type": "code",
      "metadata": {
        "colab": {
          "base_uri": "https://localhost:8080/",
          "height": 419
        },
        "id": "n82hT2aCW_xq",
        "outputId": "a6d7f018-809a-4562-fb68-e02c2b7a54ad"
      },
      "source": [
        "X_test.iloc[:,1:]"
      ],
      "execution_count": null,
      "outputs": [
        {
          "output_type": "execute_result",
          "data": {
            "text/html": [
              "<div>\n",
              "<style scoped>\n",
              "    .dataframe tbody tr th:only-of-type {\n",
              "        vertical-align: middle;\n",
              "    }\n",
              "\n",
              "    .dataframe tbody tr th {\n",
              "        vertical-align: top;\n",
              "    }\n",
              "\n",
              "    .dataframe thead th {\n",
              "        text-align: right;\n",
              "    }\n",
              "</style>\n",
              "<table border=\"1\" class=\"dataframe\">\n",
              "  <thead>\n",
              "    <tr style=\"text-align: right;\">\n",
              "      <th></th>\n",
              "      <th>총구매액</th>\n",
              "      <th>최대구매액</th>\n",
              "      <th>환불금액</th>\n",
              "      <th>주구매상품</th>\n",
              "      <th>주구매지점</th>\n",
              "      <th>내점일수</th>\n",
              "      <th>내점당구매건수</th>\n",
              "      <th>주말방문비율</th>\n",
              "      <th>구매주기</th>\n",
              "    </tr>\n",
              "  </thead>\n",
              "  <tbody>\n",
              "    <tr>\n",
              "      <th>0</th>\n",
              "      <td>70900400</td>\n",
              "      <td>22000000</td>\n",
              "      <td>4050000.0</td>\n",
              "      <td>골프</td>\n",
              "      <td>부산본점</td>\n",
              "      <td>13</td>\n",
              "      <td>1.461538</td>\n",
              "      <td>0.789474</td>\n",
              "      <td>26</td>\n",
              "    </tr>\n",
              "    <tr>\n",
              "      <th>1</th>\n",
              "      <td>310533100</td>\n",
              "      <td>38558000</td>\n",
              "      <td>48034700.0</td>\n",
              "      <td>농산물</td>\n",
              "      <td>잠실점</td>\n",
              "      <td>90</td>\n",
              "      <td>2.433333</td>\n",
              "      <td>0.369863</td>\n",
              "      <td>3</td>\n",
              "    </tr>\n",
              "    <tr>\n",
              "      <th>2</th>\n",
              "      <td>305264140</td>\n",
              "      <td>14825000</td>\n",
              "      <td>30521000.0</td>\n",
              "      <td>가공식품</td>\n",
              "      <td>본  점</td>\n",
              "      <td>101</td>\n",
              "      <td>14.623762</td>\n",
              "      <td>0.083277</td>\n",
              "      <td>3</td>\n",
              "    </tr>\n",
              "    <tr>\n",
              "      <th>3</th>\n",
              "      <td>7594080</td>\n",
              "      <td>5225000</td>\n",
              "      <td>NaN</td>\n",
              "      <td>주방용품</td>\n",
              "      <td>부산본점</td>\n",
              "      <td>5</td>\n",
              "      <td>2.000000</td>\n",
              "      <td>0.000000</td>\n",
              "      <td>47</td>\n",
              "    </tr>\n",
              "    <tr>\n",
              "      <th>4</th>\n",
              "      <td>1795790</td>\n",
              "      <td>1411200</td>\n",
              "      <td>NaN</td>\n",
              "      <td>수산품</td>\n",
              "      <td>청량리점</td>\n",
              "      <td>3</td>\n",
              "      <td>2.666667</td>\n",
              "      <td>0.125000</td>\n",
              "      <td>8</td>\n",
              "    </tr>\n",
              "    <tr>\n",
              "      <th>...</th>\n",
              "      <td>...</td>\n",
              "      <td>...</td>\n",
              "      <td>...</td>\n",
              "      <td>...</td>\n",
              "      <td>...</td>\n",
              "      <td>...</td>\n",
              "      <td>...</td>\n",
              "      <td>...</td>\n",
              "      <td>...</td>\n",
              "    </tr>\n",
              "    <tr>\n",
              "      <th>2477</th>\n",
              "      <td>82581500</td>\n",
              "      <td>23976000</td>\n",
              "      <td>NaN</td>\n",
              "      <td>골프</td>\n",
              "      <td>부산본점</td>\n",
              "      <td>8</td>\n",
              "      <td>1.750000</td>\n",
              "      <td>0.642857</td>\n",
              "      <td>40</td>\n",
              "    </tr>\n",
              "    <tr>\n",
              "      <th>2478</th>\n",
              "      <td>480000</td>\n",
              "      <td>480000</td>\n",
              "      <td>NaN</td>\n",
              "      <td>섬유잡화</td>\n",
              "      <td>광주점</td>\n",
              "      <td>1</td>\n",
              "      <td>1.000000</td>\n",
              "      <td>0.000000</td>\n",
              "      <td>0</td>\n",
              "    </tr>\n",
              "    <tr>\n",
              "      <th>2479</th>\n",
              "      <td>260003790</td>\n",
              "      <td>25750000</td>\n",
              "      <td>NaN</td>\n",
              "      <td>남성 캐주얼</td>\n",
              "      <td>본  점</td>\n",
              "      <td>19</td>\n",
              "      <td>3.736842</td>\n",
              "      <td>0.915493</td>\n",
              "      <td>18</td>\n",
              "    </tr>\n",
              "    <tr>\n",
              "      <th>2480</th>\n",
              "      <td>88991520</td>\n",
              "      <td>18120000</td>\n",
              "      <td>NaN</td>\n",
              "      <td>육류</td>\n",
              "      <td>본  점</td>\n",
              "      <td>5</td>\n",
              "      <td>3.600000</td>\n",
              "      <td>0.444444</td>\n",
              "      <td>60</td>\n",
              "    </tr>\n",
              "    <tr>\n",
              "      <th>2481</th>\n",
              "      <td>623700</td>\n",
              "      <td>209000</td>\n",
              "      <td>NaN</td>\n",
              "      <td>가공식품</td>\n",
              "      <td>영등포점</td>\n",
              "      <td>2</td>\n",
              "      <td>5.000000</td>\n",
              "      <td>0.000000</td>\n",
              "      <td>31</td>\n",
              "    </tr>\n",
              "  </tbody>\n",
              "</table>\n",
              "<p>2482 rows × 9 columns</p>\n",
              "</div>"
            ],
            "text/plain": [
              "           총구매액     최대구매액        환불금액   주구매상품  ... 내점일수    내점당구매건수    주말방문비율  구매주기\n",
              "0      70900400  22000000   4050000.0      골프  ...   13   1.461538  0.789474    26\n",
              "1     310533100  38558000  48034700.0     농산물  ...   90   2.433333  0.369863     3\n",
              "2     305264140  14825000  30521000.0    가공식품  ...  101  14.623762  0.083277     3\n",
              "3       7594080   5225000         NaN    주방용품  ...    5   2.000000  0.000000    47\n",
              "4       1795790   1411200         NaN     수산품  ...    3   2.666667  0.125000     8\n",
              "...         ...       ...         ...     ...  ...  ...        ...       ...   ...\n",
              "2477   82581500  23976000         NaN      골프  ...    8   1.750000  0.642857    40\n",
              "2478     480000    480000         NaN    섬유잡화  ...    1   1.000000  0.000000     0\n",
              "2479  260003790  25750000         NaN  남성 캐주얼  ...   19   3.736842  0.915493    18\n",
              "2480   88991520  18120000         NaN      육류  ...    5   3.600000  0.444444    60\n",
              "2481     623700    209000         NaN    가공식품  ...    2   5.000000  0.000000    31\n",
              "\n",
              "[2482 rows x 9 columns]"
            ]
          },
          "metadata": {
            "tags": []
          },
          "execution_count": 4
        }
      ]
    },
    {
      "cell_type": "code",
      "metadata": {
        "colab": {
          "base_uri": "https://localhost:8080/",
          "height": 419
        },
        "id": "uZImqiIc7E-R",
        "outputId": "5db3b021-46b5-46a6-eec2-0951899055d9"
      },
      "source": [
        "X_test_custid = X_test.iloc[:,:1]\n",
        "X_test_custid"
      ],
      "execution_count": null,
      "outputs": [
        {
          "output_type": "execute_result",
          "data": {
            "text/html": [
              "<div>\n",
              "<style scoped>\n",
              "    .dataframe tbody tr th:only-of-type {\n",
              "        vertical-align: middle;\n",
              "    }\n",
              "\n",
              "    .dataframe tbody tr th {\n",
              "        vertical-align: top;\n",
              "    }\n",
              "\n",
              "    .dataframe thead th {\n",
              "        text-align: right;\n",
              "    }\n",
              "</style>\n",
              "<table border=\"1\" class=\"dataframe\">\n",
              "  <thead>\n",
              "    <tr style=\"text-align: right;\">\n",
              "      <th></th>\n",
              "      <th>cust_id</th>\n",
              "    </tr>\n",
              "  </thead>\n",
              "  <tbody>\n",
              "    <tr>\n",
              "      <th>0</th>\n",
              "      <td>3500</td>\n",
              "    </tr>\n",
              "    <tr>\n",
              "      <th>1</th>\n",
              "      <td>3501</td>\n",
              "    </tr>\n",
              "    <tr>\n",
              "      <th>2</th>\n",
              "      <td>3502</td>\n",
              "    </tr>\n",
              "    <tr>\n",
              "      <th>3</th>\n",
              "      <td>3503</td>\n",
              "    </tr>\n",
              "    <tr>\n",
              "      <th>4</th>\n",
              "      <td>3504</td>\n",
              "    </tr>\n",
              "    <tr>\n",
              "      <th>...</th>\n",
              "      <td>...</td>\n",
              "    </tr>\n",
              "    <tr>\n",
              "      <th>2477</th>\n",
              "      <td>5977</td>\n",
              "    </tr>\n",
              "    <tr>\n",
              "      <th>2478</th>\n",
              "      <td>5978</td>\n",
              "    </tr>\n",
              "    <tr>\n",
              "      <th>2479</th>\n",
              "      <td>5979</td>\n",
              "    </tr>\n",
              "    <tr>\n",
              "      <th>2480</th>\n",
              "      <td>5980</td>\n",
              "    </tr>\n",
              "    <tr>\n",
              "      <th>2481</th>\n",
              "      <td>5981</td>\n",
              "    </tr>\n",
              "  </tbody>\n",
              "</table>\n",
              "<p>2482 rows × 1 columns</p>\n",
              "</div>"
            ],
            "text/plain": [
              "      cust_id\n",
              "0        3500\n",
              "1        3501\n",
              "2        3502\n",
              "3        3503\n",
              "4        3504\n",
              "...       ...\n",
              "2477     5977\n",
              "2478     5978\n",
              "2479     5979\n",
              "2480     5980\n",
              "2481     5981\n",
              "\n",
              "[2482 rows x 1 columns]"
            ]
          },
          "metadata": {
            "tags": []
          },
          "execution_count": 5
        }
      ]
    },
    {
      "cell_type": "code",
      "metadata": {
        "colab": {
          "base_uri": "https://localhost:8080/",
          "height": 419
        },
        "id": "vA8F2g3IXD1_",
        "outputId": "6fe5c589-f7a7-44da-fc9d-1f53023e49dd"
      },
      "source": [
        "y_train.iloc[:,1:]"
      ],
      "execution_count": null,
      "outputs": [
        {
          "output_type": "execute_result",
          "data": {
            "text/html": [
              "<div>\n",
              "<style scoped>\n",
              "    .dataframe tbody tr th:only-of-type {\n",
              "        vertical-align: middle;\n",
              "    }\n",
              "\n",
              "    .dataframe tbody tr th {\n",
              "        vertical-align: top;\n",
              "    }\n",
              "\n",
              "    .dataframe thead th {\n",
              "        text-align: right;\n",
              "    }\n",
              "</style>\n",
              "<table border=\"1\" class=\"dataframe\">\n",
              "  <thead>\n",
              "    <tr style=\"text-align: right;\">\n",
              "      <th></th>\n",
              "      <th>gender</th>\n",
              "    </tr>\n",
              "  </thead>\n",
              "  <tbody>\n",
              "    <tr>\n",
              "      <th>0</th>\n",
              "      <td>0</td>\n",
              "    </tr>\n",
              "    <tr>\n",
              "      <th>1</th>\n",
              "      <td>0</td>\n",
              "    </tr>\n",
              "    <tr>\n",
              "      <th>2</th>\n",
              "      <td>1</td>\n",
              "    </tr>\n",
              "    <tr>\n",
              "      <th>3</th>\n",
              "      <td>1</td>\n",
              "    </tr>\n",
              "    <tr>\n",
              "      <th>4</th>\n",
              "      <td>0</td>\n",
              "    </tr>\n",
              "    <tr>\n",
              "      <th>...</th>\n",
              "      <td>...</td>\n",
              "    </tr>\n",
              "    <tr>\n",
              "      <th>3495</th>\n",
              "      <td>1</td>\n",
              "    </tr>\n",
              "    <tr>\n",
              "      <th>3496</th>\n",
              "      <td>1</td>\n",
              "    </tr>\n",
              "    <tr>\n",
              "      <th>3497</th>\n",
              "      <td>0</td>\n",
              "    </tr>\n",
              "    <tr>\n",
              "      <th>3498</th>\n",
              "      <td>0</td>\n",
              "    </tr>\n",
              "    <tr>\n",
              "      <th>3499</th>\n",
              "      <td>0</td>\n",
              "    </tr>\n",
              "  </tbody>\n",
              "</table>\n",
              "<p>3500 rows × 1 columns</p>\n",
              "</div>"
            ],
            "text/plain": [
              "      gender\n",
              "0          0\n",
              "1          0\n",
              "2          1\n",
              "3          1\n",
              "4          0\n",
              "...      ...\n",
              "3495       1\n",
              "3496       1\n",
              "3497       0\n",
              "3498       0\n",
              "3499       0\n",
              "\n",
              "[3500 rows x 1 columns]"
            ]
          },
          "metadata": {
            "tags": []
          },
          "execution_count": 6
        }
      ]
    },
    {
      "cell_type": "code",
      "metadata": {
        "id": "sjw9hmDi2mvX"
      },
      "source": [
        "y_train = y_train.iloc[:,1:]"
      ],
      "execution_count": null,
      "outputs": []
    },
    {
      "cell_type": "code",
      "metadata": {
        "id": "UTNrqlBmXJ7R"
      },
      "source": [
        "from sklearn.preprocessing import LabelEncoder"
      ],
      "execution_count": null,
      "outputs": []
    },
    {
      "cell_type": "code",
      "metadata": {
        "id": "bVIhNMd9s3P-"
      },
      "source": [
        "le = LabelEncoder()\n",
        "X_train['주구매상품'] = le.fit_transform(X_train.iloc[:,1:]['주구매상품'])\n",
        "X_train['주구매지점'] = le.fit_transform(X_train.iloc[:,1:]['주구매지점'])\n",
        "X_test['주구매상품'] = le.fit_transform(X_test.iloc[:,1:]['주구매상품'])\n",
        "X_test['주구매지점'] = le.fit_transform(X_test.iloc[:,1:]['주구매지점'])"
      ],
      "execution_count": null,
      "outputs": []
    },
    {
      "cell_type": "code",
      "metadata": {
        "colab": {
          "base_uri": "https://localhost:8080/",
          "height": 419
        },
        "id": "b3_8WzSLuB1y",
        "outputId": "d8c1a9f7-995a-4aeb-c301-cb6a4e105924"
      },
      "source": [
        "X_train.iloc[:,1:]"
      ],
      "execution_count": null,
      "outputs": [
        {
          "output_type": "execute_result",
          "data": {
            "text/html": [
              "<div>\n",
              "<style scoped>\n",
              "    .dataframe tbody tr th:only-of-type {\n",
              "        vertical-align: middle;\n",
              "    }\n",
              "\n",
              "    .dataframe tbody tr th {\n",
              "        vertical-align: top;\n",
              "    }\n",
              "\n",
              "    .dataframe thead th {\n",
              "        text-align: right;\n",
              "    }\n",
              "</style>\n",
              "<table border=\"1\" class=\"dataframe\">\n",
              "  <thead>\n",
              "    <tr style=\"text-align: right;\">\n",
              "      <th></th>\n",
              "      <th>총구매액</th>\n",
              "      <th>최대구매액</th>\n",
              "      <th>환불금액</th>\n",
              "      <th>주구매상품</th>\n",
              "      <th>주구매지점</th>\n",
              "      <th>내점일수</th>\n",
              "      <th>내점당구매건수</th>\n",
              "      <th>주말방문비율</th>\n",
              "      <th>구매주기</th>\n",
              "    </tr>\n",
              "  </thead>\n",
              "  <tbody>\n",
              "    <tr>\n",
              "      <th>0</th>\n",
              "      <td>68282840</td>\n",
              "      <td>11264000</td>\n",
              "      <td>6860000.0</td>\n",
              "      <td>5</td>\n",
              "      <td>0</td>\n",
              "      <td>19</td>\n",
              "      <td>3.894737</td>\n",
              "      <td>0.527027</td>\n",
              "      <td>17</td>\n",
              "    </tr>\n",
              "    <tr>\n",
              "      <th>1</th>\n",
              "      <td>2136000</td>\n",
              "      <td>2136000</td>\n",
              "      <td>300000.0</td>\n",
              "      <td>21</td>\n",
              "      <td>19</td>\n",
              "      <td>2</td>\n",
              "      <td>1.500000</td>\n",
              "      <td>0.000000</td>\n",
              "      <td>1</td>\n",
              "    </tr>\n",
              "    <tr>\n",
              "      <th>2</th>\n",
              "      <td>3197000</td>\n",
              "      <td>1639000</td>\n",
              "      <td>NaN</td>\n",
              "      <td>6</td>\n",
              "      <td>1</td>\n",
              "      <td>2</td>\n",
              "      <td>2.000000</td>\n",
              "      <td>0.000000</td>\n",
              "      <td>1</td>\n",
              "    </tr>\n",
              "    <tr>\n",
              "      <th>3</th>\n",
              "      <td>16077620</td>\n",
              "      <td>4935000</td>\n",
              "      <td>NaN</td>\n",
              "      <td>5</td>\n",
              "      <td>2</td>\n",
              "      <td>18</td>\n",
              "      <td>2.444444</td>\n",
              "      <td>0.318182</td>\n",
              "      <td>16</td>\n",
              "    </tr>\n",
              "    <tr>\n",
              "      <th>4</th>\n",
              "      <td>29050000</td>\n",
              "      <td>24000000</td>\n",
              "      <td>NaN</td>\n",
              "      <td>15</td>\n",
              "      <td>8</td>\n",
              "      <td>2</td>\n",
              "      <td>1.500000</td>\n",
              "      <td>0.000000</td>\n",
              "      <td>85</td>\n",
              "    </tr>\n",
              "    <tr>\n",
              "      <th>...</th>\n",
              "      <td>...</td>\n",
              "      <td>...</td>\n",
              "      <td>...</td>\n",
              "      <td>...</td>\n",
              "      <td>...</td>\n",
              "      <td>...</td>\n",
              "      <td>...</td>\n",
              "      <td>...</td>\n",
              "      <td>...</td>\n",
              "    </tr>\n",
              "    <tr>\n",
              "      <th>3495</th>\n",
              "      <td>3175200</td>\n",
              "      <td>3042900</td>\n",
              "      <td>NaN</td>\n",
              "      <td>3</td>\n",
              "      <td>8</td>\n",
              "      <td>1</td>\n",
              "      <td>2.000000</td>\n",
              "      <td>1.000000</td>\n",
              "      <td>0</td>\n",
              "    </tr>\n",
              "    <tr>\n",
              "      <th>3496</th>\n",
              "      <td>29628600</td>\n",
              "      <td>7200000</td>\n",
              "      <td>6049600.0</td>\n",
              "      <td>22</td>\n",
              "      <td>9</td>\n",
              "      <td>8</td>\n",
              "      <td>1.625000</td>\n",
              "      <td>0.461538</td>\n",
              "      <td>40</td>\n",
              "    </tr>\n",
              "    <tr>\n",
              "      <th>3497</th>\n",
              "      <td>75000</td>\n",
              "      <td>75000</td>\n",
              "      <td>NaN</td>\n",
              "      <td>32</td>\n",
              "      <td>21</td>\n",
              "      <td>1</td>\n",
              "      <td>1.000000</td>\n",
              "      <td>0.000000</td>\n",
              "      <td>0</td>\n",
              "    </tr>\n",
              "    <tr>\n",
              "      <th>3498</th>\n",
              "      <td>1875000</td>\n",
              "      <td>1000000</td>\n",
              "      <td>NaN</td>\n",
              "      <td>41</td>\n",
              "      <td>8</td>\n",
              "      <td>2</td>\n",
              "      <td>1.000000</td>\n",
              "      <td>0.000000</td>\n",
              "      <td>39</td>\n",
              "    </tr>\n",
              "    <tr>\n",
              "      <th>3499</th>\n",
              "      <td>263101550</td>\n",
              "      <td>34632000</td>\n",
              "      <td>5973000.0</td>\n",
              "      <td>5</td>\n",
              "      <td>8</td>\n",
              "      <td>38</td>\n",
              "      <td>2.421053</td>\n",
              "      <td>0.467391</td>\n",
              "      <td>8</td>\n",
              "    </tr>\n",
              "  </tbody>\n",
              "</table>\n",
              "<p>3500 rows × 9 columns</p>\n",
              "</div>"
            ],
            "text/plain": [
              "           총구매액     최대구매액       환불금액  주구매상품  ...  내점일수   내점당구매건수    주말방문비율  구매주기\n",
              "0      68282840  11264000  6860000.0      5  ...    19  3.894737  0.527027    17\n",
              "1       2136000   2136000   300000.0     21  ...     2  1.500000  0.000000     1\n",
              "2       3197000   1639000        NaN      6  ...     2  2.000000  0.000000     1\n",
              "3      16077620   4935000        NaN      5  ...    18  2.444444  0.318182    16\n",
              "4      29050000  24000000        NaN     15  ...     2  1.500000  0.000000    85\n",
              "...         ...       ...        ...    ...  ...   ...       ...       ...   ...\n",
              "3495    3175200   3042900        NaN      3  ...     1  2.000000  1.000000     0\n",
              "3496   29628600   7200000  6049600.0     22  ...     8  1.625000  0.461538    40\n",
              "3497      75000     75000        NaN     32  ...     1  1.000000  0.000000     0\n",
              "3498    1875000   1000000        NaN     41  ...     2  1.000000  0.000000    39\n",
              "3499  263101550  34632000  5973000.0      5  ...    38  2.421053  0.467391     8\n",
              "\n",
              "[3500 rows x 9 columns]"
            ]
          },
          "metadata": {
            "tags": []
          },
          "execution_count": 10
        }
      ]
    },
    {
      "cell_type": "code",
      "metadata": {
        "colab": {
          "base_uri": "https://localhost:8080/"
        },
        "id": "j9W0H4IEuWnR",
        "outputId": "096f5304-7c32-4306-8048-2bbc514b613f"
      },
      "source": [
        "X_train.isnull().sum()"
      ],
      "execution_count": null,
      "outputs": [
        {
          "output_type": "execute_result",
          "data": {
            "text/plain": [
              "cust_id       0\n",
              "총구매액          0\n",
              "최대구매액         0\n",
              "환불금액       2295\n",
              "주구매상품         0\n",
              "주구매지점         0\n",
              "내점일수          0\n",
              "내점당구매건수       0\n",
              "주말방문비율        0\n",
              "구매주기          0\n",
              "dtype: int64"
            ]
          },
          "metadata": {
            "tags": []
          },
          "execution_count": 38
        }
      ]
    },
    {
      "cell_type": "code",
      "metadata": {
        "colab": {
          "base_uri": "https://localhost:8080/"
        },
        "id": "5sENIcNYwhSY",
        "outputId": "0856a60c-de24-44fb-e130-3e221cb6b2ec"
      },
      "source": [
        "X_test.isnull().sum()"
      ],
      "execution_count": null,
      "outputs": [
        {
          "output_type": "execute_result",
          "data": {
            "text/plain": [
              "cust_id       0\n",
              "총구매액          0\n",
              "최대구매액         0\n",
              "환불금액       1611\n",
              "주구매상품         0\n",
              "주구매지점         0\n",
              "내점일수          0\n",
              "내점당구매건수       0\n",
              "주말방문비율        0\n",
              "구매주기          0\n",
              "dtype: int64"
            ]
          },
          "metadata": {
            "tags": []
          },
          "execution_count": 39
        }
      ]
    },
    {
      "cell_type": "code",
      "metadata": {
        "id": "M8hGE73Du-dH"
      },
      "source": [
        "X_train = X_train.fillna(0)"
      ],
      "execution_count": null,
      "outputs": []
    },
    {
      "cell_type": "code",
      "metadata": {
        "id": "8zflwPtWwoSE"
      },
      "source": [
        "X_test = X_test.fillna(0)"
      ],
      "execution_count": null,
      "outputs": []
    },
    {
      "cell_type": "code",
      "metadata": {
        "id": "N5zXVzl0vJT0"
      },
      "source": [
        "X_train = X_train.iloc[:, 1:]"
      ],
      "execution_count": null,
      "outputs": []
    },
    {
      "cell_type": "code",
      "metadata": {
        "id": "yhynKmsgwrEZ"
      },
      "source": [
        "X_test = X_test.iloc[:, 1:]"
      ],
      "execution_count": null,
      "outputs": []
    },
    {
      "cell_type": "code",
      "metadata": {
        "colab": {
          "base_uri": "https://localhost:8080/",
          "height": 419
        },
        "id": "S_RmLJ61vWaM",
        "outputId": "28c9abe2-ca66-4b7b-d730-3915b54cf7be"
      },
      "source": [
        "X_train"
      ],
      "execution_count": null,
      "outputs": [
        {
          "output_type": "execute_result",
          "data": {
            "text/html": [
              "<div>\n",
              "<style scoped>\n",
              "    .dataframe tbody tr th:only-of-type {\n",
              "        vertical-align: middle;\n",
              "    }\n",
              "\n",
              "    .dataframe tbody tr th {\n",
              "        vertical-align: top;\n",
              "    }\n",
              "\n",
              "    .dataframe thead th {\n",
              "        text-align: right;\n",
              "    }\n",
              "</style>\n",
              "<table border=\"1\" class=\"dataframe\">\n",
              "  <thead>\n",
              "    <tr style=\"text-align: right;\">\n",
              "      <th></th>\n",
              "      <th>총구매액</th>\n",
              "      <th>최대구매액</th>\n",
              "      <th>환불금액</th>\n",
              "      <th>주구매상품</th>\n",
              "      <th>주구매지점</th>\n",
              "      <th>내점일수</th>\n",
              "      <th>내점당구매건수</th>\n",
              "      <th>주말방문비율</th>\n",
              "      <th>구매주기</th>\n",
              "    </tr>\n",
              "  </thead>\n",
              "  <tbody>\n",
              "    <tr>\n",
              "      <th>0</th>\n",
              "      <td>68282840</td>\n",
              "      <td>11264000</td>\n",
              "      <td>6860000.0</td>\n",
              "      <td>5</td>\n",
              "      <td>0</td>\n",
              "      <td>19</td>\n",
              "      <td>3.894737</td>\n",
              "      <td>0.527027</td>\n",
              "      <td>17</td>\n",
              "    </tr>\n",
              "    <tr>\n",
              "      <th>1</th>\n",
              "      <td>2136000</td>\n",
              "      <td>2136000</td>\n",
              "      <td>300000.0</td>\n",
              "      <td>21</td>\n",
              "      <td>19</td>\n",
              "      <td>2</td>\n",
              "      <td>1.500000</td>\n",
              "      <td>0.000000</td>\n",
              "      <td>1</td>\n",
              "    </tr>\n",
              "    <tr>\n",
              "      <th>2</th>\n",
              "      <td>3197000</td>\n",
              "      <td>1639000</td>\n",
              "      <td>0.0</td>\n",
              "      <td>6</td>\n",
              "      <td>1</td>\n",
              "      <td>2</td>\n",
              "      <td>2.000000</td>\n",
              "      <td>0.000000</td>\n",
              "      <td>1</td>\n",
              "    </tr>\n",
              "    <tr>\n",
              "      <th>3</th>\n",
              "      <td>16077620</td>\n",
              "      <td>4935000</td>\n",
              "      <td>0.0</td>\n",
              "      <td>5</td>\n",
              "      <td>2</td>\n",
              "      <td>18</td>\n",
              "      <td>2.444444</td>\n",
              "      <td>0.318182</td>\n",
              "      <td>16</td>\n",
              "    </tr>\n",
              "    <tr>\n",
              "      <th>4</th>\n",
              "      <td>29050000</td>\n",
              "      <td>24000000</td>\n",
              "      <td>0.0</td>\n",
              "      <td>15</td>\n",
              "      <td>8</td>\n",
              "      <td>2</td>\n",
              "      <td>1.500000</td>\n",
              "      <td>0.000000</td>\n",
              "      <td>85</td>\n",
              "    </tr>\n",
              "    <tr>\n",
              "      <th>...</th>\n",
              "      <td>...</td>\n",
              "      <td>...</td>\n",
              "      <td>...</td>\n",
              "      <td>...</td>\n",
              "      <td>...</td>\n",
              "      <td>...</td>\n",
              "      <td>...</td>\n",
              "      <td>...</td>\n",
              "      <td>...</td>\n",
              "    </tr>\n",
              "    <tr>\n",
              "      <th>3495</th>\n",
              "      <td>3175200</td>\n",
              "      <td>3042900</td>\n",
              "      <td>0.0</td>\n",
              "      <td>3</td>\n",
              "      <td>8</td>\n",
              "      <td>1</td>\n",
              "      <td>2.000000</td>\n",
              "      <td>1.000000</td>\n",
              "      <td>0</td>\n",
              "    </tr>\n",
              "    <tr>\n",
              "      <th>3496</th>\n",
              "      <td>29628600</td>\n",
              "      <td>7200000</td>\n",
              "      <td>6049600.0</td>\n",
              "      <td>22</td>\n",
              "      <td>9</td>\n",
              "      <td>8</td>\n",
              "      <td>1.625000</td>\n",
              "      <td>0.461538</td>\n",
              "      <td>40</td>\n",
              "    </tr>\n",
              "    <tr>\n",
              "      <th>3497</th>\n",
              "      <td>75000</td>\n",
              "      <td>75000</td>\n",
              "      <td>0.0</td>\n",
              "      <td>32</td>\n",
              "      <td>21</td>\n",
              "      <td>1</td>\n",
              "      <td>1.000000</td>\n",
              "      <td>0.000000</td>\n",
              "      <td>0</td>\n",
              "    </tr>\n",
              "    <tr>\n",
              "      <th>3498</th>\n",
              "      <td>1875000</td>\n",
              "      <td>1000000</td>\n",
              "      <td>0.0</td>\n",
              "      <td>41</td>\n",
              "      <td>8</td>\n",
              "      <td>2</td>\n",
              "      <td>1.000000</td>\n",
              "      <td>0.000000</td>\n",
              "      <td>39</td>\n",
              "    </tr>\n",
              "    <tr>\n",
              "      <th>3499</th>\n",
              "      <td>263101550</td>\n",
              "      <td>34632000</td>\n",
              "      <td>5973000.0</td>\n",
              "      <td>5</td>\n",
              "      <td>8</td>\n",
              "      <td>38</td>\n",
              "      <td>2.421053</td>\n",
              "      <td>0.467391</td>\n",
              "      <td>8</td>\n",
              "    </tr>\n",
              "  </tbody>\n",
              "</table>\n",
              "<p>3500 rows × 9 columns</p>\n",
              "</div>"
            ],
            "text/plain": [
              "           총구매액     최대구매액       환불금액  주구매상품  ...  내점일수   내점당구매건수    주말방문비율  구매주기\n",
              "0      68282840  11264000  6860000.0      5  ...    19  3.894737  0.527027    17\n",
              "1       2136000   2136000   300000.0     21  ...     2  1.500000  0.000000     1\n",
              "2       3197000   1639000        0.0      6  ...     2  2.000000  0.000000     1\n",
              "3      16077620   4935000        0.0      5  ...    18  2.444444  0.318182    16\n",
              "4      29050000  24000000        0.0     15  ...     2  1.500000  0.000000    85\n",
              "...         ...       ...        ...    ...  ...   ...       ...       ...   ...\n",
              "3495    3175200   3042900        0.0      3  ...     1  2.000000  1.000000     0\n",
              "3496   29628600   7200000  6049600.0     22  ...     8  1.625000  0.461538    40\n",
              "3497      75000     75000        0.0     32  ...     1  1.000000  0.000000     0\n",
              "3498    1875000   1000000        0.0     41  ...     2  1.000000  0.000000    39\n",
              "3499  263101550  34632000  5973000.0      5  ...    38  2.421053  0.467391     8\n",
              "\n",
              "[3500 rows x 9 columns]"
            ]
          },
          "metadata": {
            "tags": []
          },
          "execution_count": 44
        }
      ]
    },
    {
      "cell_type": "code",
      "metadata": {
        "colab": {
          "base_uri": "https://localhost:8080/",
          "height": 390
        },
        "id": "avawqC8Vjy0r",
        "outputId": "d30a285c-4469-4669-aab4-daedfb767f6e"
      },
      "source": [
        "pd.concat([X_train, y_train], axis=1).corr()"
      ],
      "execution_count": null,
      "outputs": [
        {
          "output_type": "execute_result",
          "data": {
            "text/html": [
              "<div>\n",
              "<style scoped>\n",
              "    .dataframe tbody tr th:only-of-type {\n",
              "        vertical-align: middle;\n",
              "    }\n",
              "\n",
              "    .dataframe tbody tr th {\n",
              "        vertical-align: top;\n",
              "    }\n",
              "\n",
              "    .dataframe thead th {\n",
              "        text-align: right;\n",
              "    }\n",
              "</style>\n",
              "<table border=\"1\" class=\"dataframe\">\n",
              "  <thead>\n",
              "    <tr style=\"text-align: right;\">\n",
              "      <th></th>\n",
              "      <th>총구매액</th>\n",
              "      <th>최대구매액</th>\n",
              "      <th>환불금액</th>\n",
              "      <th>주구매상품</th>\n",
              "      <th>주구매지점</th>\n",
              "      <th>내점일수</th>\n",
              "      <th>내점당구매건수</th>\n",
              "      <th>주말방문비율</th>\n",
              "      <th>구매주기</th>\n",
              "      <th>cust_id</th>\n",
              "      <th>gender</th>\n",
              "    </tr>\n",
              "  </thead>\n",
              "  <tbody>\n",
              "    <tr>\n",
              "      <th>총구매액</th>\n",
              "      <td>1.000000</td>\n",
              "      <td>0.700080</td>\n",
              "      <td>0.467686</td>\n",
              "      <td>-0.082916</td>\n",
              "      <td>-0.038724</td>\n",
              "      <td>0.659084</td>\n",
              "      <td>0.090022</td>\n",
              "      <td>0.014396</td>\n",
              "      <td>-0.212944</td>\n",
              "      <td>-0.008004</td>\n",
              "      <td>-0.150141</td>\n",
              "    </tr>\n",
              "    <tr>\n",
              "      <th>최대구매액</th>\n",
              "      <td>0.700080</td>\n",
              "      <td>1.000000</td>\n",
              "      <td>0.429504</td>\n",
              "      <td>-0.090729</td>\n",
              "      <td>-0.024819</td>\n",
              "      <td>0.374147</td>\n",
              "      <td>0.018980</td>\n",
              "      <td>0.022277</td>\n",
              "      <td>-0.115837</td>\n",
              "      <td>-0.005883</td>\n",
              "      <td>-0.114323</td>\n",
              "    </tr>\n",
              "    <tr>\n",
              "      <th>환불금액</th>\n",
              "      <td>0.467686</td>\n",
              "      <td>0.429504</td>\n",
              "      <td>1.000000</td>\n",
              "      <td>-0.056604</td>\n",
              "      <td>-0.045686</td>\n",
              "      <td>0.377570</td>\n",
              "      <td>-0.003871</td>\n",
              "      <td>-0.024707</td>\n",
              "      <td>-0.137362</td>\n",
              "      <td>0.033116</td>\n",
              "      <td>-0.114327</td>\n",
              "    </tr>\n",
              "    <tr>\n",
              "      <th>주구매상품</th>\n",
              "      <td>-0.082916</td>\n",
              "      <td>-0.090729</td>\n",
              "      <td>-0.056604</td>\n",
              "      <td>1.000000</td>\n",
              "      <td>0.015874</td>\n",
              "      <td>-0.185275</td>\n",
              "      <td>-0.274178</td>\n",
              "      <td>-0.010018</td>\n",
              "      <td>0.032469</td>\n",
              "      <td>0.003129</td>\n",
              "      <td>-0.038668</td>\n",
              "    </tr>\n",
              "    <tr>\n",
              "      <th>주구매지점</th>\n",
              "      <td>-0.038724</td>\n",
              "      <td>-0.024819</td>\n",
              "      <td>-0.045686</td>\n",
              "      <td>0.015874</td>\n",
              "      <td>1.000000</td>\n",
              "      <td>-0.059570</td>\n",
              "      <td>-0.080804</td>\n",
              "      <td>0.011990</td>\n",
              "      <td>0.035344</td>\n",
              "      <td>0.006345</td>\n",
              "      <td>0.015876</td>\n",
              "    </tr>\n",
              "    <tr>\n",
              "      <th>내점일수</th>\n",
              "      <td>0.659084</td>\n",
              "      <td>0.374147</td>\n",
              "      <td>0.377570</td>\n",
              "      <td>-0.185275</td>\n",
              "      <td>-0.059570</td>\n",
              "      <td>1.000000</td>\n",
              "      <td>0.225264</td>\n",
              "      <td>-0.010325</td>\n",
              "      <td>-0.293200</td>\n",
              "      <td>-0.025234</td>\n",
              "      <td>-0.155000</td>\n",
              "    </tr>\n",
              "    <tr>\n",
              "      <th>내점당구매건수</th>\n",
              "      <td>0.090022</td>\n",
              "      <td>0.018980</td>\n",
              "      <td>-0.003871</td>\n",
              "      <td>-0.274178</td>\n",
              "      <td>-0.080804</td>\n",
              "      <td>0.225264</td>\n",
              "      <td>1.000000</td>\n",
              "      <td>0.007659</td>\n",
              "      <td>-0.091151</td>\n",
              "      <td>-0.004840</td>\n",
              "      <td>-0.043917</td>\n",
              "    </tr>\n",
              "    <tr>\n",
              "      <th>주말방문비율</th>\n",
              "      <td>0.014396</td>\n",
              "      <td>0.022277</td>\n",
              "      <td>-0.024707</td>\n",
              "      <td>-0.010018</td>\n",
              "      <td>0.011990</td>\n",
              "      <td>-0.010325</td>\n",
              "      <td>0.007659</td>\n",
              "      <td>1.000000</td>\n",
              "      <td>0.003372</td>\n",
              "      <td>0.001900</td>\n",
              "      <td>0.073598</td>\n",
              "    </tr>\n",
              "    <tr>\n",
              "      <th>구매주기</th>\n",
              "      <td>-0.212944</td>\n",
              "      <td>-0.115837</td>\n",
              "      <td>-0.137362</td>\n",
              "      <td>0.032469</td>\n",
              "      <td>0.035344</td>\n",
              "      <td>-0.293200</td>\n",
              "      <td>-0.091151</td>\n",
              "      <td>0.003372</td>\n",
              "      <td>1.000000</td>\n",
              "      <td>0.020070</td>\n",
              "      <td>0.041450</td>\n",
              "    </tr>\n",
              "    <tr>\n",
              "      <th>cust_id</th>\n",
              "      <td>-0.008004</td>\n",
              "      <td>-0.005883</td>\n",
              "      <td>0.033116</td>\n",
              "      <td>0.003129</td>\n",
              "      <td>0.006345</td>\n",
              "      <td>-0.025234</td>\n",
              "      <td>-0.004840</td>\n",
              "      <td>0.001900</td>\n",
              "      <td>0.020070</td>\n",
              "      <td>1.000000</td>\n",
              "      <td>-0.001994</td>\n",
              "    </tr>\n",
              "    <tr>\n",
              "      <th>gender</th>\n",
              "      <td>-0.150141</td>\n",
              "      <td>-0.114323</td>\n",
              "      <td>-0.114327</td>\n",
              "      <td>-0.038668</td>\n",
              "      <td>0.015876</td>\n",
              "      <td>-0.155000</td>\n",
              "      <td>-0.043917</td>\n",
              "      <td>0.073598</td>\n",
              "      <td>0.041450</td>\n",
              "      <td>-0.001994</td>\n",
              "      <td>1.000000</td>\n",
              "    </tr>\n",
              "  </tbody>\n",
              "</table>\n",
              "</div>"
            ],
            "text/plain": [
              "             총구매액     최대구매액      환불금액  ...      구매주기   cust_id    gender\n",
              "총구매액     1.000000  0.700080  0.467686  ... -0.212944 -0.008004 -0.150141\n",
              "최대구매액    0.700080  1.000000  0.429504  ... -0.115837 -0.005883 -0.114323\n",
              "환불금액     0.467686  0.429504  1.000000  ... -0.137362  0.033116 -0.114327\n",
              "주구매상품   -0.082916 -0.090729 -0.056604  ...  0.032469  0.003129 -0.038668\n",
              "주구매지점   -0.038724 -0.024819 -0.045686  ...  0.035344  0.006345  0.015876\n",
              "내점일수     0.659084  0.374147  0.377570  ... -0.293200 -0.025234 -0.155000\n",
              "내점당구매건수  0.090022  0.018980 -0.003871  ... -0.091151 -0.004840 -0.043917\n",
              "주말방문비율   0.014396  0.022277 -0.024707  ...  0.003372  0.001900  0.073598\n",
              "구매주기    -0.212944 -0.115837 -0.137362  ...  1.000000  0.020070  0.041450\n",
              "cust_id -0.008004 -0.005883  0.033116  ...  0.020070  1.000000 -0.001994\n",
              "gender  -0.150141 -0.114323 -0.114327  ...  0.041450 -0.001994  1.000000\n",
              "\n",
              "[11 rows x 11 columns]"
            ]
          },
          "metadata": {
            "tags": []
          },
          "execution_count": 47
        }
      ]
    },
    {
      "cell_type": "code",
      "metadata": {
        "colab": {
          "base_uri": "https://localhost:8080/",
          "height": 419
        },
        "id": "C8ZzWSaXwOY5",
        "outputId": "7d5a2e53-9a4b-486f-fc3c-ce6c5ee3c921"
      },
      "source": [
        "X_test"
      ],
      "execution_count": null,
      "outputs": [
        {
          "output_type": "execute_result",
          "data": {
            "text/html": [
              "<div>\n",
              "<style scoped>\n",
              "    .dataframe tbody tr th:only-of-type {\n",
              "        vertical-align: middle;\n",
              "    }\n",
              "\n",
              "    .dataframe tbody tr th {\n",
              "        vertical-align: top;\n",
              "    }\n",
              "\n",
              "    .dataframe thead th {\n",
              "        text-align: right;\n",
              "    }\n",
              "</style>\n",
              "<table border=\"1\" class=\"dataframe\">\n",
              "  <thead>\n",
              "    <tr style=\"text-align: right;\">\n",
              "      <th></th>\n",
              "      <th>총구매액</th>\n",
              "      <th>최대구매액</th>\n",
              "      <th>환불금액</th>\n",
              "      <th>주구매상품</th>\n",
              "      <th>주구매지점</th>\n",
              "      <th>내점일수</th>\n",
              "      <th>내점당구매건수</th>\n",
              "      <th>주말방문비율</th>\n",
              "      <th>구매주기</th>\n",
              "    </tr>\n",
              "  </thead>\n",
              "  <tbody>\n",
              "    <tr>\n",
              "      <th>0</th>\n",
              "      <td>70900400</td>\n",
              "      <td>22000000</td>\n",
              "      <td>4050000.0</td>\n",
              "      <td>3</td>\n",
              "      <td>9</td>\n",
              "      <td>13</td>\n",
              "      <td>1.461538</td>\n",
              "      <td>0.789474</td>\n",
              "      <td>26</td>\n",
              "    </tr>\n",
              "    <tr>\n",
              "      <th>1</th>\n",
              "      <td>310533100</td>\n",
              "      <td>38558000</td>\n",
              "      <td>48034700.0</td>\n",
              "      <td>9</td>\n",
              "      <td>19</td>\n",
              "      <td>90</td>\n",
              "      <td>2.433333</td>\n",
              "      <td>0.369863</td>\n",
              "      <td>3</td>\n",
              "    </tr>\n",
              "    <tr>\n",
              "      <th>2</th>\n",
              "      <td>305264140</td>\n",
              "      <td>14825000</td>\n",
              "      <td>30521000.0</td>\n",
              "      <td>0</td>\n",
              "      <td>8</td>\n",
              "      <td>101</td>\n",
              "      <td>14.623762</td>\n",
              "      <td>0.083277</td>\n",
              "      <td>3</td>\n",
              "    </tr>\n",
              "    <tr>\n",
              "      <th>3</th>\n",
              "      <td>7594080</td>\n",
              "      <td>5225000</td>\n",
              "      <td>0.0</td>\n",
              "      <td>31</td>\n",
              "      <td>9</td>\n",
              "      <td>5</td>\n",
              "      <td>2.000000</td>\n",
              "      <td>0.000000</td>\n",
              "      <td>47</td>\n",
              "    </tr>\n",
              "    <tr>\n",
              "      <th>4</th>\n",
              "      <td>1795790</td>\n",
              "      <td>1411200</td>\n",
              "      <td>0.0</td>\n",
              "      <td>19</td>\n",
              "      <td>22</td>\n",
              "      <td>3</td>\n",
              "      <td>2.666667</td>\n",
              "      <td>0.125000</td>\n",
              "      <td>8</td>\n",
              "    </tr>\n",
              "    <tr>\n",
              "      <th>...</th>\n",
              "      <td>...</td>\n",
              "      <td>...</td>\n",
              "      <td>...</td>\n",
              "      <td>...</td>\n",
              "      <td>...</td>\n",
              "      <td>...</td>\n",
              "      <td>...</td>\n",
              "      <td>...</td>\n",
              "      <td>...</td>\n",
              "    </tr>\n",
              "    <tr>\n",
              "      <th>2477</th>\n",
              "      <td>82581500</td>\n",
              "      <td>23976000</td>\n",
              "      <td>0.0</td>\n",
              "      <td>3</td>\n",
              "      <td>9</td>\n",
              "      <td>8</td>\n",
              "      <td>1.750000</td>\n",
              "      <td>0.642857</td>\n",
              "      <td>40</td>\n",
              "    </tr>\n",
              "    <tr>\n",
              "      <th>2478</th>\n",
              "      <td>480000</td>\n",
              "      <td>480000</td>\n",
              "      <td>0.0</td>\n",
              "      <td>17</td>\n",
              "      <td>2</td>\n",
              "      <td>1</td>\n",
              "      <td>1.000000</td>\n",
              "      <td>0.000000</td>\n",
              "      <td>0</td>\n",
              "    </tr>\n",
              "    <tr>\n",
              "      <th>2479</th>\n",
              "      <td>260003790</td>\n",
              "      <td>25750000</td>\n",
              "      <td>0.0</td>\n",
              "      <td>6</td>\n",
              "      <td>8</td>\n",
              "      <td>19</td>\n",
              "      <td>3.736842</td>\n",
              "      <td>0.915493</td>\n",
              "      <td>18</td>\n",
              "    </tr>\n",
              "    <tr>\n",
              "      <th>2480</th>\n",
              "      <td>88991520</td>\n",
              "      <td>18120000</td>\n",
              "      <td>0.0</td>\n",
              "      <td>26</td>\n",
              "      <td>8</td>\n",
              "      <td>5</td>\n",
              "      <td>3.600000</td>\n",
              "      <td>0.444444</td>\n",
              "      <td>60</td>\n",
              "    </tr>\n",
              "    <tr>\n",
              "      <th>2481</th>\n",
              "      <td>623700</td>\n",
              "      <td>209000</td>\n",
              "      <td>0.0</td>\n",
              "      <td>0</td>\n",
              "      <td>15</td>\n",
              "      <td>2</td>\n",
              "      <td>5.000000</td>\n",
              "      <td>0.000000</td>\n",
              "      <td>31</td>\n",
              "    </tr>\n",
              "  </tbody>\n",
              "</table>\n",
              "<p>2482 rows × 9 columns</p>\n",
              "</div>"
            ],
            "text/plain": [
              "           총구매액     최대구매액        환불금액  주구매상품  ...  내점일수    내점당구매건수    주말방문비율  구매주기\n",
              "0      70900400  22000000   4050000.0      3  ...    13   1.461538  0.789474    26\n",
              "1     310533100  38558000  48034700.0      9  ...    90   2.433333  0.369863     3\n",
              "2     305264140  14825000  30521000.0      0  ...   101  14.623762  0.083277     3\n",
              "3       7594080   5225000         0.0     31  ...     5   2.000000  0.000000    47\n",
              "4       1795790   1411200         0.0     19  ...     3   2.666667  0.125000     8\n",
              "...         ...       ...         ...    ...  ...   ...        ...       ...   ...\n",
              "2477   82581500  23976000         0.0      3  ...     8   1.750000  0.642857    40\n",
              "2478     480000    480000         0.0     17  ...     1   1.000000  0.000000     0\n",
              "2479  260003790  25750000         0.0      6  ...    19   3.736842  0.915493    18\n",
              "2480   88991520  18120000         0.0     26  ...     5   3.600000  0.444444    60\n",
              "2481     623700    209000         0.0      0  ...     2   5.000000  0.000000    31\n",
              "\n",
              "[2482 rows x 9 columns]"
            ]
          },
          "metadata": {
            "tags": []
          },
          "execution_count": 45
        }
      ]
    },
    {
      "cell_type": "code",
      "metadata": {
        "id": "lHHtBCBdwusQ"
      },
      "source": [
        "from sklearn.linear_model import LogisticRegression\n",
        "from sklearn.neural_network import MLPClassifier\n",
        "from sklearn.ensemble import RandomForestClassifier"
      ],
      "execution_count": null,
      "outputs": []
    },
    {
      "cell_type": "code",
      "metadata": {
        "colab": {
          "base_uri": "https://localhost:8080/"
        },
        "id": "6nQas77R2WN4",
        "outputId": "3aa742be-b5bb-43fa-881b-efe2bea169db"
      },
      "source": [
        "# LR\n",
        "model = LogisticRegression()\n",
        "model.fit(X_train, y_train)\n",
        "print('LR Training Acc: ', model.score(X_train, y_train))\n",
        "\n",
        "predict = model.predict_proba(X_test)\n",
        "predict = pd.DataFrame(predict)\n",
        "print(predict)"
      ],
      "execution_count": null,
      "outputs": [
        {
          "output_type": "stream",
          "text": [
            "LR Training Acc:  0.624\n",
            "             0         1\n",
            "0     0.574768  0.425232\n",
            "1     0.801014  0.198986\n",
            "2     0.761058  0.238942\n",
            "3     0.509389  0.490611\n",
            "4     0.502357  0.497643\n",
            "...        ...       ...\n",
            "2477  0.576059  0.423941\n",
            "2478  0.500710  0.499290\n",
            "2479  0.692346  0.307654\n",
            "2480  0.576026  0.423974\n",
            "2481  0.500601  0.499399\n",
            "\n",
            "[2482 rows x 2 columns]\n"
          ],
          "name": "stdout"
        },
        {
          "output_type": "stream",
          "text": [
            "/usr/local/lib/python3.7/dist-packages/sklearn/utils/validation.py:760: DataConversionWarning: A column-vector y was passed when a 1d array was expected. Please change the shape of y to (n_samples, ), for example using ravel().\n",
            "  y = column_or_1d(y, warn=True)\n"
          ],
          "name": "stderr"
        }
      ]
    },
    {
      "cell_type": "code",
      "metadata": {
        "id": "MwobFdh83Xg3"
      },
      "source": [
        "answer = pd.concat([X_test_custid, predict.iloc[:,1]], axis=1)"
      ],
      "execution_count": null,
      "outputs": []
    },
    {
      "cell_type": "code",
      "metadata": {
        "id": "9LCmsxa378nf"
      },
      "source": [
        "answer.columns=['custid', 'gender']"
      ],
      "execution_count": null,
      "outputs": []
    },
    {
      "cell_type": "code",
      "metadata": {
        "id": "401td5rc5BjG"
      },
      "source": [
        "answer.to_csv('./data/2유형/y_test.csv', index=False)"
      ],
      "execution_count": null,
      "outputs": []
    },
    {
      "cell_type": "code",
      "metadata": {
        "id": "7X06qgVx5fWn",
        "colab": {
          "base_uri": "https://localhost:8080/"
        },
        "outputId": "07e82e05-3efb-48aa-ee9f-ec917c703e11"
      },
      "source": [
        "# MLP\n",
        "model = MLPClassifier()\n",
        "model.fit(X_train, y_train)\n",
        "print('MLP Training Acc: ', model.score(X_train, y_train))\n",
        "\n",
        "predict = model.predict_proba(X_test)\n",
        "predict = pd.DataFrame(predict)\n",
        "print(predict)"
      ],
      "execution_count": null,
      "outputs": [
        {
          "output_type": "stream",
          "text": [
            "/usr/local/lib/python3.7/dist-packages/sklearn/neural_network/_multilayer_perceptron.py:934: DataConversionWarning: A column-vector y was passed when a 1d array was expected. Please change the shape of y to (n_samples, ), for example using ravel().\n",
            "  y = column_or_1d(y, warn=True)\n"
          ],
          "name": "stderr"
        },
        {
          "output_type": "stream",
          "text": [
            "MLP Training Acc:  0.4357142857142857\n",
            "        0    1\n",
            "0     0.0  1.0\n",
            "1     1.0  0.0\n",
            "2     0.0  1.0\n",
            "3     0.0  1.0\n",
            "4     0.0  1.0\n",
            "...   ...  ...\n",
            "2477  0.0  1.0\n",
            "2478  0.0  1.0\n",
            "2479  0.0  1.0\n",
            "2480  0.0  1.0\n",
            "2481  0.0  1.0\n",
            "\n",
            "[2482 rows x 2 columns]\n"
          ],
          "name": "stdout"
        },
        {
          "output_type": "stream",
          "text": [
            "/usr/local/lib/python3.7/dist-packages/sklearn/neural_network/_multilayer_perceptron.py:571: ConvergenceWarning: Stochastic Optimizer: Maximum iterations (200) reached and the optimization hasn't converged yet.\n",
            "  % self.max_iter, ConvergenceWarning)\n"
          ],
          "name": "stderr"
        }
      ]
    },
    {
      "cell_type": "code",
      "metadata": {
        "colab": {
          "base_uri": "https://localhost:8080/"
        },
        "id": "4SgM1W50gQs6",
        "outputId": "4f1950c0-7b53-4c4f-da5c-a9559710cbaa"
      },
      "source": [
        "# RandomForest\n",
        "model = RandomForestClassifier()\n",
        "model.fit(X_train, y_train)\n",
        "print('RandomForest Training Acc: ', model.score(X_train, y_train))\n",
        "\n",
        "predict = model.predict_proba(X_test)\n",
        "predict = pd.DataFrame(predict)\n",
        "print(predict)"
      ],
      "execution_count": null,
      "outputs": [
        {
          "output_type": "stream",
          "text": [
            "/usr/local/lib/python3.7/dist-packages/ipykernel_launcher.py:3: DataConversionWarning: A column-vector y was passed when a 1d array was expected. Please change the shape of y to (n_samples,), for example using ravel().\n",
            "  This is separate from the ipykernel package so we can avoid doing imports until\n"
          ],
          "name": "stderr"
        },
        {
          "output_type": "stream",
          "text": [
            "RandomForest Training Acc:  0.9994285714285714\n",
            "         0     1\n",
            "0     0.47  0.53\n",
            "1     0.81  0.19\n",
            "2     0.86  0.14\n",
            "3     0.49  0.51\n",
            "4     0.64  0.36\n",
            "...    ...   ...\n",
            "2477  0.26  0.74\n",
            "2478  0.52  0.48\n",
            "2479  0.43  0.57\n",
            "2480  0.49  0.51\n",
            "2481  0.33  0.67\n",
            "\n",
            "[2482 rows x 2 columns]\n"
          ],
          "name": "stdout"
        }
      ]
    },
    {
      "cell_type": "code",
      "metadata": {
        "id": "dO3q5_kFgkPU"
      },
      "source": [
        "from sklearn.preprocessing import StandardScaler\n",
        "\n",
        "ss = StandardScaler()\n",
        "X_train = ss.fit_transform(X_train)"
      ],
      "execution_count": null,
      "outputs": []
    },
    {
      "cell_type": "code",
      "metadata": {
        "id": "wMYE0gm9iGPs"
      },
      "source": [
        "X_test = ss.fit_transform(X_test)"
      ],
      "execution_count": null,
      "outputs": []
    },
    {
      "cell_type": "code",
      "metadata": {
        "id": "ZvTScCbMhtLO"
      },
      "source": [
        "X_train = pd.DataFrame(X_train)\n",
        "X_test = pd.DataFrame(X_test)"
      ],
      "execution_count": null,
      "outputs": []
    },
    {
      "cell_type": "code",
      "metadata": {
        "colab": {
          "base_uri": "https://localhost:8080/"
        },
        "id": "x9G9Qkm3huuS",
        "outputId": "b0109c66-342d-48ae-b45e-b72b350a9d73"
      },
      "source": [
        "# LR\n",
        "model = LogisticRegression()\n",
        "model.fit(X_train, y_train)\n",
        "print('LR Training Acc: ', model.score(X_train, y_train))\n",
        "\n",
        "predict = model.predict_proba(X_test)\n",
        "predict = pd.DataFrame(predict)\n",
        "print(predict)"
      ],
      "execution_count": null,
      "outputs": [
        {
          "output_type": "stream",
          "text": [
            "LR Training Acc:  0.6334285714285715\n",
            "             0         1\n",
            "0     0.496455  0.503545\n",
            "1     0.813091  0.186909\n",
            "2     0.883819  0.116181\n",
            "3     0.654515  0.345485\n",
            "4     0.586363  0.413637\n",
            "...        ...       ...\n",
            "2477  0.510151  0.489849\n",
            "2478  0.575373  0.424627\n",
            "2479  0.569434  0.430566\n",
            "2480  0.630340  0.369660\n",
            "2481  0.571758  0.428242\n",
            "\n",
            "[2482 rows x 2 columns]\n"
          ],
          "name": "stdout"
        },
        {
          "output_type": "stream",
          "text": [
            "/usr/local/lib/python3.7/dist-packages/sklearn/utils/validation.py:760: DataConversionWarning: A column-vector y was passed when a 1d array was expected. Please change the shape of y to (n_samples, ), for example using ravel().\n",
            "  y = column_or_1d(y, warn=True)\n"
          ],
          "name": "stderr"
        }
      ]
    },
    {
      "cell_type": "code",
      "metadata": {
        "id": "6W9YGkFEoK7i"
      },
      "source": [
        "total_df = pd.concat([X_train, X_test])"
      ],
      "execution_count": null,
      "outputs": []
    },
    {
      "cell_type": "code",
      "metadata": {
        "id": "NdreVTyFoPqZ"
      },
      "source": [
        "from sklearn.preprocessing import StandardScaler\n",
        "\n",
        "ss = StandardScaler()\n",
        "total_df = ss.fit_transform(total_df)"
      ],
      "execution_count": null,
      "outputs": []
    },
    {
      "cell_type": "code",
      "metadata": {
        "id": "N7ofTsbpoYEy"
      },
      "source": [
        "total_df = pd.DataFrame(total_df)"
      ],
      "execution_count": null,
      "outputs": []
    },
    {
      "cell_type": "code",
      "metadata": {
        "id": "IJciibb3oY2h"
      },
      "source": [
        "tt = total_df.iloc[:3500,:]"
      ],
      "execution_count": null,
      "outputs": []
    },
    {
      "cell_type": "code",
      "metadata": {
        "id": "5U8fXJAApQpl",
        "colab": {
          "base_uri": "https://localhost:8080/",
          "height": 419
        },
        "outputId": "3c36d6cf-f7a3-44bb-f553-84eb59a2623c"
      },
      "source": [
        "y_train.iloc[:,1:]"
      ],
      "execution_count": null,
      "outputs": [
        {
          "output_type": "execute_result",
          "data": {
            "text/html": [
              "<div>\n",
              "<style scoped>\n",
              "    .dataframe tbody tr th:only-of-type {\n",
              "        vertical-align: middle;\n",
              "    }\n",
              "\n",
              "    .dataframe tbody tr th {\n",
              "        vertical-align: top;\n",
              "    }\n",
              "\n",
              "    .dataframe thead th {\n",
              "        text-align: right;\n",
              "    }\n",
              "</style>\n",
              "<table border=\"1\" class=\"dataframe\">\n",
              "  <thead>\n",
              "    <tr style=\"text-align: right;\">\n",
              "      <th></th>\n",
              "      <th>gender</th>\n",
              "    </tr>\n",
              "  </thead>\n",
              "  <tbody>\n",
              "    <tr>\n",
              "      <th>0</th>\n",
              "      <td>0</td>\n",
              "    </tr>\n",
              "    <tr>\n",
              "      <th>1</th>\n",
              "      <td>0</td>\n",
              "    </tr>\n",
              "    <tr>\n",
              "      <th>2</th>\n",
              "      <td>1</td>\n",
              "    </tr>\n",
              "    <tr>\n",
              "      <th>3</th>\n",
              "      <td>1</td>\n",
              "    </tr>\n",
              "    <tr>\n",
              "      <th>4</th>\n",
              "      <td>0</td>\n",
              "    </tr>\n",
              "    <tr>\n",
              "      <th>...</th>\n",
              "      <td>...</td>\n",
              "    </tr>\n",
              "    <tr>\n",
              "      <th>3495</th>\n",
              "      <td>1</td>\n",
              "    </tr>\n",
              "    <tr>\n",
              "      <th>3496</th>\n",
              "      <td>1</td>\n",
              "    </tr>\n",
              "    <tr>\n",
              "      <th>3497</th>\n",
              "      <td>0</td>\n",
              "    </tr>\n",
              "    <tr>\n",
              "      <th>3498</th>\n",
              "      <td>0</td>\n",
              "    </tr>\n",
              "    <tr>\n",
              "      <th>3499</th>\n",
              "      <td>0</td>\n",
              "    </tr>\n",
              "  </tbody>\n",
              "</table>\n",
              "<p>3500 rows × 1 columns</p>\n",
              "</div>"
            ],
            "text/plain": [
              "      gender\n",
              "0          0\n",
              "1          0\n",
              "2          1\n",
              "3          1\n",
              "4          0\n",
              "...      ...\n",
              "3495       1\n",
              "3496       1\n",
              "3497       0\n",
              "3498       0\n",
              "3499       0\n",
              "\n",
              "[3500 rows x 1 columns]"
            ]
          },
          "metadata": {
            "tags": []
          },
          "execution_count": 65
        }
      ]
    },
    {
      "cell_type": "code",
      "metadata": {
        "colab": {
          "base_uri": "https://localhost:8080/"
        },
        "id": "RBIh8UvAofnu",
        "outputId": "2032cf79-fcad-4b72-b9a7-e014ff11f7bc"
      },
      "source": [
        "# LR\n",
        "model = LogisticRegression()\n",
        "model.fit(tt, y_train.iloc[:,1:])\n",
        "print('LR Training Acc: ', model.score(tt, y_train.iloc[:,1:]))\n",
        "\n",
        "predict = model.predict_proba(total_df.iloc[3500:,:])\n",
        "predict = pd.DataFrame(predict)\n",
        "print(predict)"
      ],
      "execution_count": null,
      "outputs": [
        {
          "output_type": "stream",
          "text": [
            "LR Training Acc:  0.6334285714285715\n",
            "             0         1\n",
            "0     0.503077  0.496923\n",
            "1     0.821380  0.178620\n",
            "2     0.881882  0.118118\n",
            "3     0.651606  0.348394\n",
            "4     0.585131  0.414869\n",
            "...        ...       ...\n",
            "2477  0.515389  0.484611\n",
            "2478  0.575862  0.424138\n",
            "2479  0.574804  0.425196\n",
            "2480  0.629514  0.370486\n",
            "2481  0.570859  0.429141\n",
            "\n",
            "[2482 rows x 2 columns]\n"
          ],
          "name": "stdout"
        },
        {
          "output_type": "stream",
          "text": [
            "/usr/local/lib/python3.7/dist-packages/sklearn/utils/validation.py:760: DataConversionWarning: A column-vector y was passed when a 1d array was expected. Please change the shape of y to (n_samples, ), for example using ravel().\n",
            "  y = column_or_1d(y, warn=True)\n"
          ],
          "name": "stderr"
        }
      ]
    },
    {
      "cell_type": "code",
      "metadata": {
        "id": "vFVAt2cookmp",
        "colab": {
          "base_uri": "https://localhost:8080/"
        },
        "outputId": "69aa482b-43fe-41da-bb8a-b2626cf5df68"
      },
      "source": [
        "import time\n",
        "\n",
        "from sklearn.preprocessing import StandardScaler, MinMaxScaler\n",
        "from sklearn.model_selection import train_test_split\n",
        "\n",
        "from sklearn.linear_model import LinearRegression\n",
        "from sklearn import ensemble\n",
        "from xgboost import XGBClassifier\n",
        "\n",
        "from sklearn.metrics import mean_squared_error\n",
        "from sklearn.metrics import r2_score\n",
        "import pandas as pd\n",
        "from sklearn.preprocessing import LabelEncoder\n",
        "\n",
        "from sklearn.linear_model import LogisticRegression\n",
        "from sklearn.neural_network import MLPClassifier\n",
        "from sklearn.ensemble import RandomForestClassifier\n",
        "\n",
        "MLA = [\n",
        "    \n",
        "    #linear\n",
        "    LogisticRegression(),\n",
        "\n",
        "    #Ensemble Methods\n",
        "    ensemble.AdaBoostClassifier(),\n",
        "    ensemble.BaggingClassifier(),\n",
        "    ensemble.ExtraTreesClassifier(),\n",
        "    ensemble.GradientBoostingClassifier(),\n",
        "    ensemble.RandomForestClassifier(),\n",
        "\n",
        "    #xgboost\n",
        "    XGBClassifier()\n",
        "]\n",
        "\n",
        "MLA_columns = ['MLA Name', 'MLA R2', 'time']\n",
        "MLA_compare = pd.DataFrame(columns = MLA_columns)\n",
        "\n",
        "row_index = 0\n",
        "for i in MLA:\n",
        "    start = time.time()\n",
        "    path_to_X_train = './data/2유형/X_train.csv'\n",
        "    path_to_X_test = './data/2유형/X_test.csv'\n",
        "    path_to_y_train = './data/2유형/y_train.csv'\n",
        "    X_train = pd.read_csv(path_to_X_train, encoding='cp949')\n",
        "    X_test = pd.read_csv(path_to_X_test, encoding='cp949')\n",
        "    y_train = pd.read_csv(path_to_y_train, encoding='cp949')\n",
        "\n",
        "    X_test_custid = X_test.iloc[:,:1]\n",
        "    y_train = y_train.iloc[:,1:]\n",
        "\n",
        "    le = LabelEncoder()\n",
        "    X_train['주구매상품'] = le.fit_transform(X_train.iloc[:,1:]['주구매상품'])\n",
        "    X_train['주구매지점'] = le.fit_transform(X_train.iloc[:,1:]['주구매지점'])\n",
        "    X_test['주구매상품'] = le.fit_transform(X_test.iloc[:,1:]['주구매상품'])\n",
        "    X_test['주구매지점'] = le.fit_transform(X_test.iloc[:,1:]['주구매지점'])\n",
        "\n",
        "    X_train = X_train.fillna(0)\n",
        "    X_test = X_test.fillna(0)\n",
        "    X_train = X_train.iloc[:, 1:]\n",
        "    X_test = X_test.iloc[:, 1:]\n",
        "\n",
        "    model = i\n",
        "    model.fit(X_train,y_train)\n",
        "    y_predict = model.predict(X_test)\n",
        "    MLA_compare.loc[row_index, 'MLA Name'] = str(model).split('(')[0]\n",
        "    MLA_compare.loc[row_index, 'MLA R2'] = model.score(X_train, y_train)\n",
        "     \n",
        "\n",
        "    predict = model.predict_proba(X_test)\n",
        "    predict = pd.DataFrame(predict)\n",
        "    \n",
        "    answer = pd.concat([X_test_custid, predict.iloc[:,1]], axis=1)\n",
        "    answer.columns=['custid', 'gender']\n",
        "    answer.to_csv('./data/2유형/y_test.csv', index=False)\n",
        "    MLA_compare.loc[row_index, 'time'] = time.time() - start\n",
        "    row_index += 1 \n"
      ],
      "execution_count": 9,
      "outputs": [
        {
          "output_type": "stream",
          "text": [
            "/usr/local/lib/python3.7/dist-packages/sklearn/utils/validation.py:760: DataConversionWarning: A column-vector y was passed when a 1d array was expected. Please change the shape of y to (n_samples, ), for example using ravel().\n",
            "  y = column_or_1d(y, warn=True)\n",
            "/usr/local/lib/python3.7/dist-packages/sklearn/utils/validation.py:760: DataConversionWarning: A column-vector y was passed when a 1d array was expected. Please change the shape of y to (n_samples, ), for example using ravel().\n",
            "  y = column_or_1d(y, warn=True)\n",
            "/usr/local/lib/python3.7/dist-packages/sklearn/ensemble/_bagging.py:645: DataConversionWarning: A column-vector y was passed when a 1d array was expected. Please change the shape of y to (n_samples, ), for example using ravel().\n",
            "  y = column_or_1d(y, warn=True)\n",
            "/usr/local/lib/python3.7/dist-packages/ipykernel_launcher.py:63: DataConversionWarning: A column-vector y was passed when a 1d array was expected. Please change the shape of y to (n_samples,), for example using ravel().\n",
            "/usr/local/lib/python3.7/dist-packages/sklearn/ensemble/_gb.py:1454: DataConversionWarning: A column-vector y was passed when a 1d array was expected. Please change the shape of y to (n_samples, ), for example using ravel().\n",
            "  y = column_or_1d(y, warn=True)\n",
            "/usr/local/lib/python3.7/dist-packages/ipykernel_launcher.py:63: DataConversionWarning: A column-vector y was passed when a 1d array was expected. Please change the shape of y to (n_samples,), for example using ravel().\n",
            "/usr/local/lib/python3.7/dist-packages/sklearn/preprocessing/_label.py:235: DataConversionWarning: A column-vector y was passed when a 1d array was expected. Please change the shape of y to (n_samples, ), for example using ravel().\n",
            "  y = column_or_1d(y, warn=True)\n",
            "/usr/local/lib/python3.7/dist-packages/sklearn/preprocessing/_label.py:268: DataConversionWarning: A column-vector y was passed when a 1d array was expected. Please change the shape of y to (n_samples, ), for example using ravel().\n",
            "  y = column_or_1d(y, warn=True)\n"
          ],
          "name": "stderr"
        }
      ]
    },
    {
      "cell_type": "code",
      "metadata": {
        "colab": {
          "base_uri": "https://localhost:8080/",
          "height": 266
        },
        "id": "KD_HMaGdwDaf",
        "outputId": "3e137c3d-555c-4e95-97d4-37e2dba2937a"
      },
      "source": [
        "MLA_compare.sort_values(by=['MLA R2'], ascending=False)"
      ],
      "execution_count": 10,
      "outputs": [
        {
          "output_type": "execute_result",
          "data": {
            "text/html": [
              "<div>\n",
              "<style scoped>\n",
              "    .dataframe tbody tr th:only-of-type {\n",
              "        vertical-align: middle;\n",
              "    }\n",
              "\n",
              "    .dataframe tbody tr th {\n",
              "        vertical-align: top;\n",
              "    }\n",
              "\n",
              "    .dataframe thead th {\n",
              "        text-align: right;\n",
              "    }\n",
              "</style>\n",
              "<table border=\"1\" class=\"dataframe\">\n",
              "  <thead>\n",
              "    <tr style=\"text-align: right;\">\n",
              "      <th></th>\n",
              "      <th>MLA Name</th>\n",
              "      <th>MLA R2</th>\n",
              "      <th>time</th>\n",
              "    </tr>\n",
              "  </thead>\n",
              "  <tbody>\n",
              "    <tr>\n",
              "      <th>3</th>\n",
              "      <td>ExtraTreesClassifier</td>\n",
              "      <td>0.999429</td>\n",
              "      <td>0.784543</td>\n",
              "    </tr>\n",
              "    <tr>\n",
              "      <th>5</th>\n",
              "      <td>RandomForestClassifier</td>\n",
              "      <td>0.999429</td>\n",
              "      <td>1.00516</td>\n",
              "    </tr>\n",
              "    <tr>\n",
              "      <th>2</th>\n",
              "      <td>BaggingClassifier</td>\n",
              "      <td>0.973429</td>\n",
              "      <td>0.245023</td>\n",
              "    </tr>\n",
              "    <tr>\n",
              "      <th>4</th>\n",
              "      <td>GradientBoostingClassifier</td>\n",
              "      <td>0.708571</td>\n",
              "      <td>0.770749</td>\n",
              "    </tr>\n",
              "    <tr>\n",
              "      <th>6</th>\n",
              "      <td>XGBClassifier</td>\n",
              "      <td>0.695429</td>\n",
              "      <td>0.298604</td>\n",
              "    </tr>\n",
              "    <tr>\n",
              "      <th>1</th>\n",
              "      <td>AdaBoostClassifier</td>\n",
              "      <td>0.671429</td>\n",
              "      <td>0.405861</td>\n",
              "    </tr>\n",
              "    <tr>\n",
              "      <th>0</th>\n",
              "      <td>LogisticRegression</td>\n",
              "      <td>0.624</td>\n",
              "      <td>0.0876102</td>\n",
              "    </tr>\n",
              "  </tbody>\n",
              "</table>\n",
              "</div>"
            ],
            "text/plain": [
              "                     MLA Name    MLA R2       time\n",
              "3        ExtraTreesClassifier  0.999429   0.784543\n",
              "5      RandomForestClassifier  0.999429    1.00516\n",
              "2           BaggingClassifier  0.973429   0.245023\n",
              "4  GradientBoostingClassifier  0.708571   0.770749\n",
              "6               XGBClassifier  0.695429   0.298604\n",
              "1          AdaBoostClassifier  0.671429   0.405861\n",
              "0          LogisticRegression     0.624  0.0876102"
            ]
          },
          "metadata": {
            "tags": []
          },
          "execution_count": 10
        }
      ]
    },
    {
      "cell_type": "code",
      "metadata": {
        "id": "2snbFNJEyV52"
      },
      "source": [
        ""
      ],
      "execution_count": null,
      "outputs": []
    }
  ]
}