{
  "nbformat": 4,
  "nbformat_minor": 0,
  "metadata": {
    "colab": {
      "name": "ML - Scikit-learn 학습.ipynb",
      "provenance": [],
      "authorship_tag": "ABX9TyPJ6NiP/qIyuCRnDQC4f/pK",
      "include_colab_link": true
    },
    "kernelspec": {
      "name": "python3",
      "display_name": "Python 3"
    },
    "accelerator": "GPU"
  },
  "cells": [
    {
      "cell_type": "markdown",
      "metadata": {
        "id": "view-in-github",
        "colab_type": "text"
      },
      "source": [
        "<a href=\"https://colab.research.google.com/github/junheeyoon/Big-Data-analyst-Study/blob/master/ML_Scikit_learn_%ED%95%99%EC%8A%B5.ipynb\" target=\"_parent\"><img src=\"https://colab.research.google.com/assets/colab-badge.svg\" alt=\"Open In Colab\"/></a>"
      ]
    },
    {
      "cell_type": "markdown",
      "metadata": {
        "id": "q7pxMEnP64uF"
      },
      "source": [
        "# 데이터 읽기"
      ]
    },
    {
      "cell_type": "code",
      "metadata": {
        "id": "o2-nXBLr6QbC",
        "colab": {
          "base_uri": "https://localhost:8080/"
        },
        "outputId": "ac95eee7-fd5b-4193-9ada-3586f5f9291f"
      },
      "source": [
        "from google.colab import drive\n",
        "drive.mount('/content/drive')"
      ],
      "execution_count": 1,
      "outputs": [
        {
          "output_type": "stream",
          "text": [
            "Mounted at /content/drive\n"
          ],
          "name": "stdout"
        }
      ]
    },
    {
      "cell_type": "code",
      "metadata": {
        "id": "Okfy9u717Bze",
        "colab": {
          "base_uri": "https://localhost:8080/"
        },
        "outputId": "cb341ae8-5121-4b9e-e906-68b070311a4d"
      },
      "source": [
        "# 현재 경로 확인\n",
        "import os\n",
        "print(os.path.abspath(os.curdir))\n",
        "\n",
        "# Root 경로 설정\n",
        "import os\n",
        "os.chdir('/content/drive/MyDrive/데이터분석')"
      ],
      "execution_count": 2,
      "outputs": [
        {
          "output_type": "stream",
          "text": [
            "/content\n"
          ],
          "name": "stdout"
        }
      ]
    },
    {
      "cell_type": "markdown",
      "metadata": {
        "id": "QLMXVaqi7ITl"
      },
      "source": [
        "1) 데이터 읽기"
      ]
    },
    {
      "cell_type": "code",
      "metadata": {
        "id": "58BqxVIE7D_p",
        "colab": {
          "base_uri": "https://localhost:8080/",
          "height": 204
        },
        "outputId": "8f27b950-9c37-4141-8e4c-1f669732e2c4"
      },
      "source": [
        "import pandas as pd\n",
        "path_to_data = './data/Titanic/train.csv'\n",
        "df = pd.read_csv(path_to_data, encoding='cp949')\n",
        "\n",
        "# DataFrame type 확인\n",
        "df.head()"
      ],
      "execution_count": 3,
      "outputs": [
        {
          "output_type": "execute_result",
          "data": {
            "text/html": [
              "<div>\n",
              "<style scoped>\n",
              "    .dataframe tbody tr th:only-of-type {\n",
              "        vertical-align: middle;\n",
              "    }\n",
              "\n",
              "    .dataframe tbody tr th {\n",
              "        vertical-align: top;\n",
              "    }\n",
              "\n",
              "    .dataframe thead th {\n",
              "        text-align: right;\n",
              "    }\n",
              "</style>\n",
              "<table border=\"1\" class=\"dataframe\">\n",
              "  <thead>\n",
              "    <tr style=\"text-align: right;\">\n",
              "      <th></th>\n",
              "      <th>PassengerId</th>\n",
              "      <th>Survived</th>\n",
              "      <th>Pclass</th>\n",
              "      <th>Name</th>\n",
              "      <th>Sex</th>\n",
              "      <th>Age</th>\n",
              "      <th>SibSp</th>\n",
              "      <th>Parch</th>\n",
              "      <th>Ticket</th>\n",
              "      <th>Fare</th>\n",
              "      <th>Cabin</th>\n",
              "      <th>Embarked</th>\n",
              "    </tr>\n",
              "  </thead>\n",
              "  <tbody>\n",
              "    <tr>\n",
              "      <th>0</th>\n",
              "      <td>1</td>\n",
              "      <td>0</td>\n",
              "      <td>3</td>\n",
              "      <td>Braund, Mr. Owen Harris</td>\n",
              "      <td>male</td>\n",
              "      <td>22.0</td>\n",
              "      <td>1</td>\n",
              "      <td>0</td>\n",
              "      <td>A/5 21171</td>\n",
              "      <td>7.2500</td>\n",
              "      <td>NaN</td>\n",
              "      <td>S</td>\n",
              "    </tr>\n",
              "    <tr>\n",
              "      <th>1</th>\n",
              "      <td>2</td>\n",
              "      <td>1</td>\n",
              "      <td>1</td>\n",
              "      <td>Cumings, Mrs. John Bradley (Florence Briggs Th...</td>\n",
              "      <td>female</td>\n",
              "      <td>38.0</td>\n",
              "      <td>1</td>\n",
              "      <td>0</td>\n",
              "      <td>PC 17599</td>\n",
              "      <td>71.2833</td>\n",
              "      <td>C85</td>\n",
              "      <td>C</td>\n",
              "    </tr>\n",
              "    <tr>\n",
              "      <th>2</th>\n",
              "      <td>3</td>\n",
              "      <td>1</td>\n",
              "      <td>3</td>\n",
              "      <td>Heikkinen, Miss. Laina</td>\n",
              "      <td>female</td>\n",
              "      <td>26.0</td>\n",
              "      <td>0</td>\n",
              "      <td>0</td>\n",
              "      <td>STON/O2. 3101282</td>\n",
              "      <td>7.9250</td>\n",
              "      <td>NaN</td>\n",
              "      <td>S</td>\n",
              "    </tr>\n",
              "    <tr>\n",
              "      <th>3</th>\n",
              "      <td>4</td>\n",
              "      <td>1</td>\n",
              "      <td>1</td>\n",
              "      <td>Futrelle, Mrs. Jacques Heath (Lily May Peel)</td>\n",
              "      <td>female</td>\n",
              "      <td>35.0</td>\n",
              "      <td>1</td>\n",
              "      <td>0</td>\n",
              "      <td>113803</td>\n",
              "      <td>53.1000</td>\n",
              "      <td>C123</td>\n",
              "      <td>S</td>\n",
              "    </tr>\n",
              "    <tr>\n",
              "      <th>4</th>\n",
              "      <td>5</td>\n",
              "      <td>0</td>\n",
              "      <td>3</td>\n",
              "      <td>Allen, Mr. William Henry</td>\n",
              "      <td>male</td>\n",
              "      <td>35.0</td>\n",
              "      <td>0</td>\n",
              "      <td>0</td>\n",
              "      <td>373450</td>\n",
              "      <td>8.0500</td>\n",
              "      <td>NaN</td>\n",
              "      <td>S</td>\n",
              "    </tr>\n",
              "  </tbody>\n",
              "</table>\n",
              "</div>"
            ],
            "text/plain": [
              "   PassengerId  Survived  Pclass  ...     Fare Cabin  Embarked\n",
              "0            1         0       3  ...   7.2500   NaN         S\n",
              "1            2         1       1  ...  71.2833   C85         C\n",
              "2            3         1       3  ...   7.9250   NaN         S\n",
              "3            4         1       1  ...  53.1000  C123         S\n",
              "4            5         0       3  ...   8.0500   NaN         S\n",
              "\n",
              "[5 rows x 12 columns]"
            ]
          },
          "metadata": {
            "tags": []
          },
          "execution_count": 3
        }
      ]
    },
    {
      "cell_type": "markdown",
      "metadata": {
        "id": "wZWQbvhe7GlV"
      },
      "source": [
        "##1. Scikit-learn 과제\n",
        "  - 타이타닉 데이터 이용\n",
        "  - 생존 확률을 Scikit-learn 의 logistic regression 을 이용하여 학습 & 모델을 만들 것"
      ]
    },
    {
      "cell_type": "markdown",
      "metadata": {
        "id": "j0MFi7eoGv0l"
      },
      "source": [
        "###Survived 에 상관관계가 높은 2개의 feature(Sex, Pclass)를 가지고 모델을 만들었습니다."
      ]
    },
    {
      "cell_type": "code",
      "metadata": {
        "id": "DSD5fzxFBkOP"
      },
      "source": [
        "#문자열을 숫자로 변환\n",
        "df['Sex'] = df['Sex'].map({'female':1,'male':0})"
      ],
      "execution_count": 4,
      "outputs": []
    },
    {
      "cell_type": "code",
      "metadata": {
        "id": "9QF-mOO1CDwP"
      },
      "source": [
        "#feature 분리하기\n",
        "df['FirstClass'] = df['Pclass'].apply(lambda x: 1 if x == 1 else 0)\n",
        "df['SecondClass'] = df['Pclass'].apply(lambda x: 1 if x == 2 else 0)\n",
        "df['ThirdClass'] = df['Pclass'].apply(lambda x: 1 if x == 3 else 0)"
      ],
      "execution_count": 5,
      "outputs": []
    },
    {
      "cell_type": "code",
      "metadata": {
        "id": "cnosprGKCawP"
      },
      "source": [
        "features = df[['Sex', 'FirstClass', 'SecondClass', 'ThirdClass']]\n",
        "#features = df[['Sex']]\n",
        "survival = df['Survived']"
      ],
      "execution_count": 6,
      "outputs": []
    },
    {
      "cell_type": "code",
      "metadata": {
        "id": "GCQx41VxFNY-"
      },
      "source": [
        "#학습세트/평가세트 분리하기\n",
        "from sklearn.model_selection import train_test_split\n",
        "\n",
        "X_train, X_text, y_train, y_test = train_test_split(features, survival)"
      ],
      "execution_count": 7,
      "outputs": []
    },
    {
      "cell_type": "code",
      "metadata": {
        "id": "qydDhsTOFhXX"
      },
      "source": [
        "#데이터 정규화(스케일링) 하기\n",
        "#로지스틱 회귀는 실행할 때 regularation을 사용하기 때문에 데이터를 스케일링하는 작업이 필요하다.\n",
        "from sklearn.preprocessing import StandardScaler\n",
        "scaler = StandardScaler()\n",
        "\n",
        "X_train = scaler.fit_transform(X_train)\n",
        "X_text = scaler.transform(X_text)"
      ],
      "execution_count": 10,
      "outputs": []
    },
    {
      "cell_type": "code",
      "metadata": {
        "id": "U5g-m6oHGC0M",
        "colab": {
          "base_uri": "https://localhost:8080/"
        },
        "outputId": "4402126c-3046-4959-d5d2-c53f3516a245"
      },
      "source": [
        "#LogisticRegression model 생성\n",
        "from sklearn.linear_model import LogisticRegression\n",
        "\n",
        "model = LogisticRegression()\n",
        "model.fit(X_train, y_train)"
      ],
      "execution_count": 11,
      "outputs": [
        {
          "output_type": "execute_result",
          "data": {
            "text/plain": [
              "LogisticRegression(C=1.0, class_weight=None, dual=False, fit_intercept=True,\n",
              "                   intercept_scaling=1, l1_ratio=None, max_iter=100,\n",
              "                   multi_class='auto', n_jobs=None, penalty='l2',\n",
              "                   random_state=None, solver='lbfgs', tol=0.0001, verbose=0,\n",
              "                   warm_start=False)"
            ]
          },
          "metadata": {
            "tags": []
          },
          "execution_count": 11
        }
      ]
    },
    {
      "cell_type": "code",
      "metadata": {
        "id": "jqky_vz1GL8E",
        "colab": {
          "base_uri": "https://localhost:8080/"
        },
        "outputId": "59b8ce68-b41e-467a-b426-181ac16f02f8"
      },
      "source": [
        "print(model.score(X_train, y_train))"
      ],
      "execution_count": 12,
      "outputs": [
        {
          "output_type": "stream",
          "text": [
            "0.7934131736526946\n"
          ],
          "name": "stdout"
        }
      ]
    },
    {
      "cell_type": "code",
      "metadata": {
        "colab": {
          "base_uri": "https://localhost:8080/"
        },
        "id": "M19m8LMLtbJO",
        "outputId": "71b99d20-b316-4bf4-95ef-0d05246608cc"
      },
      "source": [
        "model.predict(X_text)"
      ],
      "execution_count": 14,
      "outputs": [
        {
          "output_type": "execute_result",
          "data": {
            "text/plain": [
              "array([1, 0, 0, 0, 0, 1, 1, 0, 1, 0, 0, 0, 0, 1, 0, 1, 0, 0, 0, 0, 0, 1,\n",
              "       1, 0, 1, 0, 0, 0, 1, 1, 1, 0, 1, 1, 1, 0, 0, 0, 0, 0, 0, 0, 0, 0,\n",
              "       1, 1, 0, 0, 1, 1, 1, 1, 0, 0, 0, 0, 0, 0, 0, 1, 0, 1, 0, 1, 0, 1,\n",
              "       0, 0, 0, 0, 0, 0, 1, 1, 1, 1, 0, 1, 0, 1, 0, 0, 0, 1, 0, 0, 0, 0,\n",
              "       1, 1, 1, 0, 0, 0, 0, 1, 1, 0, 1, 1, 1, 0, 0, 0, 0, 0, 0, 0, 1, 0,\n",
              "       0, 1, 0, 0, 0, 0, 1, 0, 0, 1, 0, 1, 0, 1, 0, 1, 1, 1, 0, 0, 1, 1,\n",
              "       0, 0, 0, 0, 0, 1, 0, 0, 1, 1, 1, 0, 1, 0, 0, 0, 0, 0, 1, 1, 1, 0,\n",
              "       0, 0, 1, 1, 0, 0, 0, 0, 0, 0, 1, 0, 0, 1, 1, 1, 1, 1, 0, 0, 0, 1,\n",
              "       1, 0, 0, 1, 0, 0, 1, 0, 0, 0, 0, 0, 0, 0, 0, 0, 0, 0, 1, 0, 0, 0,\n",
              "       0, 0, 0, 0, 1, 0, 0, 0, 1, 0, 1, 0, 0, 0, 0, 0, 0, 0, 0, 1, 1, 1,\n",
              "       0, 0, 0])"
            ]
          },
          "metadata": {
            "tags": []
          },
          "execution_count": 14
        }
      ]
    },
    {
      "cell_type": "code",
      "metadata": {
        "id": "fbTkf4E0GP57",
        "colab": {
          "base_uri": "https://localhost:8080/"
        },
        "outputId": "6b55bcf7-70ff-4d2c-bb58-50643afd37d3"
      },
      "source": [
        "print(model.score(test_features, test_labels))"
      ],
      "execution_count": null,
      "outputs": [
        {
          "output_type": "stream",
          "text": [
            "0.8026905829596412\n"
          ],
          "name": "stdout"
        }
      ]
    },
    {
      "cell_type": "code",
      "metadata": {
        "id": "bonFkAV3GUR3",
        "colab": {
          "base_uri": "https://localhost:8080/"
        },
        "outputId": "f8781298-b598-4e56-b4f8-58aeca858210"
      },
      "source": [
        "#각 feature들의 계수\n",
        "print(model.coef_)"
      ],
      "execution_count": 15,
      "outputs": [
        {
          "output_type": "stream",
          "text": [
            "[[ 1.26390724  0.38300057  0.04240368 -0.36407103]]\n"
          ],
          "name": "stdout"
        }
      ]
    },
    {
      "cell_type": "markdown",
      "metadata": {
        "id": "Q2680HUFHdeK"
      },
      "source": [
        "###예측하기"
      ]
    },
    {
      "cell_type": "code",
      "metadata": {
        "id": "6GGFJFOPHbPd",
        "colab": {
          "base_uri": "https://localhost:8080/"
        },
        "outputId": "24b1a7d8-e4af-4692-c4d6-730541d2d82b"
      },
      "source": [
        "import numpy as np\n",
        "A = np.array([0.0])\n",
        "B = np.array([1.0])\n",
        "#A = np.array([0.0, 1.0, 0.0, 0.0])\n",
        "#B = np.array([1.0, 0.0, 1.0, 0.0])\n",
        "#C = np.array([0.0, 0.0, 0.0, 1.0])\n",
        "sample_passengers = np.array([A, B])\n",
        "sample_passengers = scaler.transform(sample_passengers)\n",
        "print(model.predict(sample_passengers))\n",
        "print(model.predict_proba(sample_passengers))"
      ],
      "execution_count": null,
      "outputs": [
        {
          "output_type": "stream",
          "text": [
            "[0 1]\n",
            "[[0.80563073 0.19436927]\n",
            " [0.2684574  0.7315426 ]]\n"
          ],
          "name": "stdout"
        }
      ]
    }
  ]
}