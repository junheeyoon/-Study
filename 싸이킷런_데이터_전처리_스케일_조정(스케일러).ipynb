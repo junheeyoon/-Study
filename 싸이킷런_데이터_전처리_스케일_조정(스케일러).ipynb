{
  "nbformat": 4,
  "nbformat_minor": 0,
  "metadata": {
    "colab": {
      "name": "싸이킷런 데이터 전처리 스케일 조정(스케일러).ipynb",
      "provenance": [],
      "authorship_tag": "ABX9TyMl1NGJB0tlWnmNCuK5VHVB",
      "include_colab_link": true
    },
    "kernelspec": {
      "name": "python3",
      "display_name": "Python 3"
    },
    "language_info": {
      "name": "python"
    }
  },
  "cells": [
    {
      "cell_type": "markdown",
      "metadata": {
        "id": "view-in-github",
        "colab_type": "text"
      },
      "source": [
        "<a href=\"https://colab.research.google.com/github/junheeyoon/Big-Data-analyst-Study/blob/master/%EC%8B%B8%EC%9D%B4%ED%82%B7%EB%9F%B0_%EB%8D%B0%EC%9D%B4%ED%84%B0_%EC%A0%84%EC%B2%98%EB%A6%AC_%EC%8A%A4%EC%BC%80%EC%9D%BC_%EC%A1%B0%EC%A0%95(%EC%8A%A4%EC%BC%80%EC%9D%BC%EB%9F%AC).ipynb\" target=\"_parent\"><img src=\"https://colab.research.google.com/assets/colab-badge.svg\" alt=\"Open In Colab\"/></a>"
      ]
    },
    {
      "cell_type": "code",
      "metadata": {
        "id": "rd7HcvKnyxFC",
        "colab": {
          "base_uri": "https://localhost:8080/",
          "height": 283
        },
        "outputId": "dd339f03-b959-4249-daec-1117e2470be0"
      },
      "source": [
        "from sklearn.datasets import make_blobs\n",
        "from sklearn.model_selection import train_test_split\n",
        "import matplotlib.pyplot as plt\n",
        "\n",
        "X, _ = make_blobs(n_samples= 200, centers= 5, random_state=4, cluster_std=1.5)\n",
        "plt.scatter(X[:,0],X[:,1])"
      ],
      "execution_count": 4,
      "outputs": [
        {
          "output_type": "execute_result",
          "data": {
            "text/plain": [
              "<matplotlib.collections.PathCollection at 0x7f668e2d1890>"
            ]
          },
          "metadata": {
            "tags": []
          },
          "execution_count": 4
        },
        {
          "output_type": "display_data",
          "data": {
            "image/png": "[encoded data removed]",
            "text/plain": [
              "<Figure size 432x288 with 1 Axes>"
            ]
          },
          "metadata": {
            "tags": [],
            "needs_background": "light"
          }
        }
      ]
    },
    {
      "cell_type": "markdown",
      "metadata": {
        "id": "27f-2KEfZzzq"
      },
      "source": [
        "make_blob 사항 참고\n",
        "\n",
        "인수:\n",
        "\n",
        "n_samples : 표본 데이터의 수, 200개\n",
        "\n",
        "centers : 생성할 클러스터의 수 혹은 중심, [n_centers, n_features] 크기의 배열. 5개\n",
        "\n",
        "cluster_std: 클러스터의 표준 편차, 1.5\n",
        "\n",
        "반환값:\n",
        "\n",
        "X : [n_samples, n_features] 크기의 배열 독립 변수\n",
        "\n",
        "y : [n_samples] 크기의 배열 종속 변수 (정답레이블 필요시 사용 )"
      ]
    },
    {
      "cell_type": "code",
      "metadata": {
        "id": "8Ii7Tf1ty1oK"
      },
      "source": [
        "# 훈련 세트와 테스트 세트로 나눕니다\n",
        "X_train, X_test = train_test_split(X, random_state=5, test_size=.1)"
      ],
      "execution_count": 5,
      "outputs": []
    },
    {
      "cell_type": "markdown",
      "metadata": {
        "id": "moh-Rr11aF50"
      },
      "source": [
        "<1. Standard Scaler>"
      ]
    },
    {
      "cell_type": "code",
      "metadata": {
        "colab": {
          "base_uri": "https://localhost:8080/",
          "height": 282
        },
        "id": "lP0hRt7yaFi4",
        "outputId": "619ada60-c2eb-47f6-c8f2-4b73961e47d2"
      },
      "source": [
        "from sklearn.preprocessing import StandardScaler\n",
        "scaler = StandardScaler()\n",
        "# 메소드체이닝(chaining)을 사용하여 fit과 transform을 연달아 호출합니다\n",
        "X_scaled = scaler.fit(X_train).transform(X_train)\n",
        "\n",
        "# 위와 동일하지만 더 효율적입니다(fit_transform)\n",
        "X_scaled_d = scaler.fit_transform(X_train)\n",
        "\n",
        "#해당 fit으로 test데이터도 transform 해줍니다\n",
        "X_test_scaled = scaler.transform(X_test)\n",
        "\n",
        "plt.scatter(X_scaled[:,0],X_scaled[:,1])"
      ],
      "execution_count": 6,
      "outputs": [
        {
          "output_type": "execute_result",
          "data": {
            "text/plain": [
              "<matplotlib.collections.PathCollection at 0x7f668e2d1650>"
            ]
          },
          "metadata": {
            "tags": []
          },
          "execution_count": 6
        },
        {
          "output_type": "display_data",
          "data": {
            "image/png": "[encoded data removed]",
            "text/plain": [
              "<Figure size 432x288 with 1 Axes>"
            ]
          },
          "metadata": {
            "tags": [],
            "needs_background": "light"
          }
        }
      ]
    },
    {
      "cell_type": "markdown",
      "metadata": {
        "id": "14-1SnfSbDgv"
      },
      "source": [
        "<2. Robust Scaler>"
      ]
    },
    {
      "cell_type": "markdown",
      "metadata": {
        "id": "sMci9koqbExH"
      },
      "source": [
        ": 평균과 분산 대신 중간값(median)과 사분위값을 사용합니다\n",
        "\n",
        ": (X - Q2) / (Q3-Q1)\n",
        "\n",
        "[Q2 = 중간값, Q3 = 3분위값, Q1 = 1분위값]\n",
        "\n",
        ": 이상치에 강하게 만들수 있습니다.\n",
        "\n",
        "(1,2,3,4,5,1,3,5,1000 이런 극단저긴 데이터로 한번 생각해보세요)"
      ]
    },
    {
      "cell_type": "markdown",
      "metadata": {
        "id": "UlNDteJqbQ9v"
      },
      "source": [
        "<3. MinMax Scaler>"
      ]
    },
    {
      "cell_type": "markdown",
      "metadata": {
        "id": "9dfcafGubRmp"
      },
      "source": [
        ": (X-Xmin)/(Xmax-Xmin)\n",
        "\n",
        ": 모든 값이 0~1사이에 존재\n",
        "\n",
        ": 정규화 방법중 원데이터 분포를 유지하면서 정규화하는 방법"
      ]
    },
    {
      "cell_type": "code",
      "metadata": {
        "id": "tPYZsG-4zW4O",
        "colab": {
          "base_uri": "https://localhost:8080/",
          "height": 282
        },
        "outputId": "f4576ccd-9c5b-45e8-f8e0-56103f37fd0d"
      },
      "source": [
        "from sklearn.preprocessing import MinMaxScaler\n",
        "\n",
        "scaler = MinMaxScaler()\n",
        "scaler.fit(X_train)  #train꺼로 transform한걸로 fit 중요!!!!\n",
        "X_train_scaled = scaler.transform(X_train)\n",
        "X_test_scaled = scaler.transform(X_test)\n",
        "\n",
        "\n",
        "# 스케일이 조정된 데이터의 산점도를 그립니다\n",
        "plt.scatter(X_train_scaled[:, 0], X_train_scaled[:, 1],\n",
        "                label=\"훈련 세트\")\n",
        "plt.scatter(X_test_scaled[:, 0], X_test_scaled[:, 1], marker='^',\n",
        "                label=\"테스트 세트\")"
      ],
      "execution_count": 12,
      "outputs": [
        {
          "output_type": "execute_result",
          "data": {
            "text/plain": [
              "<matplotlib.collections.PathCollection at 0x7f668dcd12d0>"
            ]
          },
          "metadata": {
            "tags": []
          },
          "execution_count": 12
        },
        {
          "output_type": "display_data",
          "data": {
            "image/png": "[encoded data removed]",
            "text/plain": [
              "<Figure size 432x288 with 1 Axes>"
            ]
          },
          "metadata": {
            "tags": [],
            "needs_background": "light"
          }
        }
      ]
    },
    {
      "cell_type": "markdown",
      "metadata": {
        "id": "Cdl2dGW5cJ24"
      },
      "source": [
        "<4. Normalizer>"
      ]
    },
    {
      "cell_type": "markdown",
      "metadata": {
        "id": "ICoqYmU3cMXH"
      },
      "source": [
        "​: 특성벡터의 모든 길이가 1이 되도록 조정 합니다(반지름 1인 원에 투영하는 느낌)\n",
        "\n",
        ": 특성벡터의 길이는 상관없고, 데이터의 방향이나 각도가 중요할 경우 사용합니다."
      ]
    }
  ]
}