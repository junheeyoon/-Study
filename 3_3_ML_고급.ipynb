{
  "nbformat": 4,
  "nbformat_minor": 0,
  "metadata": {
    "kernelspec": {
      "display_name": "Python 3",
      "language": "python",
      "name": "python3"
    },
    "language_info": {
      "codemirror_mode": {
        "name": "ipython",
        "version": 3
      },
      "file_extension": ".py",
      "mimetype": "text/x-python",
      "name": "python",
      "nbconvert_exporter": "python",
      "pygments_lexer": "ipython3",
      "version": "3.6.8"
    },
    "colab": {
      "name": "3-3. ML 고급.ipynb",
      "provenance": [],
      "collapsed_sections": [
        "WzEfy_yl1yzO",
        "0_53MzFx1yzO",
        "WQAqanqN1yzO",
        "HLrbemtf1yzP",
        "eVHETpAs1yzP",
        "9u3-xBpO1yzP",
        "I9o-PJgq1yzP",
        "C0TcwUUu1yzP",
        "lzlUWj8q1yzP",
        "06x00xwV1yzQ",
        "_5cI5UDS1yzQ",
        "bDNNu0G41yzQ",
        "lNYCxfCD1yzQ",
        "_9pWskTM1yzQ",
        "HBwJL30T1yzQ",
        "HOrXc3cQ1yzQ"
      ],
      "toc_visible": true,
      "include_colab_link": true
    }
  },
  "cells": [
    {
      "cell_type": "markdown",
      "metadata": {
        "id": "view-in-github",
        "colab_type": "text"
      },
      "source": [
        "<a href=\"https://colab.research.google.com/github/junheeyoon/Big-Data-analyst-Study/blob/master/3_3_ML_%EA%B3%A0%EA%B8%89.ipynb\" target=\"_parent\"><img src=\"https://colab.research.google.com/assets/colab-badge.svg\" alt=\"Open In Colab\"/></a>"
      ]
    },
    {
      "cell_type": "markdown",
      "metadata": {
        "id": "x8doDNgo1yzM"
      },
      "source": [
        "# Reference\n",
        "[Kaggle: Titanic](https://www.kaggle.com/c/titanic)\n",
        "\n",
        "[Notebook: Titanic Data Science Solutions](https://www.kaggle.com/startupsci/titanic-data-science-solutions)"
      ]
    },
    {
      "cell_type": "markdown",
      "metadata": {
        "id": "gf87d8AX1yzM"
      },
      "source": [
        "# Workflow\n"
      ]
    },
    {
      "cell_type": "markdown",
      "metadata": {
        "id": "TmOlNm4_tbZ9"
      },
      "source": [
        "#### Workflow stages\n",
        "\n",
        "1. 문제 정의 Question or problem definition.\n",
        "1. 데이터 수집 Acquire training and testing data.\n",
        "1. 데이터 탐색(컬럼 탐색 분석, 패턴 분석 등) Analyze, identify patterns, and \n",
        "1. 데이터 전처리 Wrangle, prepare, cleanse the data.\n",
        "explore the data.\n",
        "1. 데이터 모델링 Model, predict and solve the problem.\n",
        "\n",
        "\\+ 결과 생성 및 시각화 Visualize, report, and present the problem solving steps and final solution.\n"
      ]
    },
    {
      "cell_type": "markdown",
      "metadata": {
        "id": "_Q8Eb8eptcyB"
      },
      "source": [
        "\n",
        "#### Workflow goals\n",
        "1. 데이터 전처리\n",
        "    1. 데이터 변형 Converting\n",
        "    1. 데이터 정합성 확인? Completing\n",
        "    1. 중요 변수 선택 Correlating\n",
        "1. 모델 성능 Correcting\n",
        "1. 시각화 Charting"
      ]
    },
    {
      "cell_type": "markdown",
      "metadata": {
        "id": "BojtreK81yzM"
      },
      "source": [
        "# 1. 문제정의\n",
        "> Knowing from a training set of samples listing passengers who survived or did not survive the Titanic disaster, can our model determine based on a given test dataset not containing the survival information, if these passengers in the test dataset survived or not.\n",
        "\n",
        "  - training data를 통해 생사여부를 판단할 수 있는 모델을 완성\n",
        "  - test data를 통해 검증"
      ]
    },
    {
      "cell_type": "markdown",
      "metadata": {
        "id": "5Uyz8Pbc1yzM"
      },
      "source": [
        "# 2. 데이터 수집"
      ]
    },
    {
      "cell_type": "code",
      "metadata": {
        "id": "ZnMVqPBD1yzM"
      },
      "source": [
        "import pandas as pd\n",
        "import numpy as np\n",
        "from matplotlib import pyplot as plt\n",
        "import seaborn as sns\n",
        "import re\n",
        "import warnings\n",
        "from statistics import mode\n",
        "warnings.filterwarnings('ignore')\n",
        "plt.style.use('fivethirtyeight')"
      ],
      "execution_count": null,
      "outputs": []
    },
    {
      "cell_type": "code",
      "metadata": {
        "colab": {
          "base_uri": "https://localhost:8080/"
        },
        "id": "It5HSGAJ20Qn",
        "outputId": "f6664b79-fe37-4e70-8dc7-7a787a3591c4"
      },
      "source": [
        " from google.colab import drive\n",
        "drive.mount('/content/drive')\n",
        "\n",
        "# 현재 경로 확인\n",
        "import os\n",
        "print(os.path.abspath(os.curdir))\n",
        "\n",
        "# Root 경로 설정\n",
        "os.chdir('/content/drive/My Drive/Colab Notebooks/3days_ml/')\n",
        "\n",
        "# 변경된 경로 확인\n",
        "print(os.path.abspath(os.curdir))"
      ],
      "execution_count": null,
      "outputs": [
        {
          "output_type": "stream",
          "text": [
            "Drive already mounted at /content/drive; to attempt to forcibly remount, call drive.mount(\"/content/drive\", force_remount=True).\n",
            "/content/drive/My Drive/Colab Notebooks/3days_ml\n",
            "/content/drive/My Drive/Colab Notebooks/3days_ml\n"
          ],
          "name": "stdout"
        }
      ]
    },
    {
      "cell_type": "code",
      "metadata": {
        "id": "ipBrdti11yzM"
      },
      "source": [
        "train = pd.read_csv(\"./data/Titanic/train.csv\")\n",
        "test = pd.read_csv(\"./data/Titanic/test.csv\")\n",
        "gender_submission = pd.read_csv(\"./data/Titanic/gender_submission.csv\")"
      ],
      "execution_count": null,
      "outputs": []
    },
    {
      "cell_type": "markdown",
      "metadata": {
        "id": "KejfaZqV1yzN"
      },
      "source": [
        "#### 데이터 확인"
      ]
    },
    {
      "cell_type": "code",
      "metadata": {
        "id": "1dtFK7KZ1yzN",
        "colab": {
          "base_uri": "https://localhost:8080/",
          "height": 195
        },
        "outputId": "2fd8780f-da44-4b64-a288-b6c8930589e3"
      },
      "source": [
        "train.head()"
      ],
      "execution_count": null,
      "outputs": [
        {
          "output_type": "execute_result",
          "data": {
            "text/html": [
              "<div>\n",
              "<style scoped>\n",
              "    .dataframe tbody tr th:only-of-type {\n",
              "        vertical-align: middle;\n",
              "    }\n",
              "\n",
              "    .dataframe tbody tr th {\n",
              "        vertical-align: top;\n",
              "    }\n",
              "\n",
              "    .dataframe thead th {\n",
              "        text-align: right;\n",
              "    }\n",
              "</style>\n",
              "<table border=\"1\" class=\"dataframe\">\n",
              "  <thead>\n",
              "    <tr style=\"text-align: right;\">\n",
              "      <th></th>\n",
              "      <th>PassengerId</th>\n",
              "      <th>Survived</th>\n",
              "      <th>Pclass</th>\n",
              "      <th>Name</th>\n",
              "      <th>Sex</th>\n",
              "      <th>Age</th>\n",
              "      <th>SibSp</th>\n",
              "      <th>Parch</th>\n",
              "      <th>Ticket</th>\n",
              "      <th>Fare</th>\n",
              "      <th>Cabin</th>\n",
              "      <th>Embarked</th>\n",
              "    </tr>\n",
              "  </thead>\n",
              "  <tbody>\n",
              "    <tr>\n",
              "      <th>0</th>\n",
              "      <td>1</td>\n",
              "      <td>0</td>\n",
              "      <td>3</td>\n",
              "      <td>Braund, Mr. Owen Harris</td>\n",
              "      <td>male</td>\n",
              "      <td>22.0</td>\n",
              "      <td>1</td>\n",
              "      <td>0</td>\n",
              "      <td>A/5 21171</td>\n",
              "      <td>7.2500</td>\n",
              "      <td>NaN</td>\n",
              "      <td>S</td>\n",
              "    </tr>\n",
              "    <tr>\n",
              "      <th>1</th>\n",
              "      <td>2</td>\n",
              "      <td>1</td>\n",
              "      <td>1</td>\n",
              "      <td>Cumings, Mrs. John Bradley (Florence Briggs Th...</td>\n",
              "      <td>female</td>\n",
              "      <td>38.0</td>\n",
              "      <td>1</td>\n",
              "      <td>0</td>\n",
              "      <td>PC 17599</td>\n",
              "      <td>71.2833</td>\n",
              "      <td>C85</td>\n",
              "      <td>C</td>\n",
              "    </tr>\n",
              "    <tr>\n",
              "      <th>2</th>\n",
              "      <td>3</td>\n",
              "      <td>1</td>\n",
              "      <td>3</td>\n",
              "      <td>Heikkinen, Miss. Laina</td>\n",
              "      <td>female</td>\n",
              "      <td>26.0</td>\n",
              "      <td>0</td>\n",
              "      <td>0</td>\n",
              "      <td>STON/O2. 3101282</td>\n",
              "      <td>7.9250</td>\n",
              "      <td>NaN</td>\n",
              "      <td>S</td>\n",
              "    </tr>\n",
              "    <tr>\n",
              "      <th>3</th>\n",
              "      <td>4</td>\n",
              "      <td>1</td>\n",
              "      <td>1</td>\n",
              "      <td>Futrelle, Mrs. Jacques Heath (Lily May Peel)</td>\n",
              "      <td>female</td>\n",
              "      <td>35.0</td>\n",
              "      <td>1</td>\n",
              "      <td>0</td>\n",
              "      <td>113803</td>\n",
              "      <td>53.1000</td>\n",
              "      <td>C123</td>\n",
              "      <td>S</td>\n",
              "    </tr>\n",
              "    <tr>\n",
              "      <th>4</th>\n",
              "      <td>5</td>\n",
              "      <td>0</td>\n",
              "      <td>3</td>\n",
              "      <td>Allen, Mr. William Henry</td>\n",
              "      <td>male</td>\n",
              "      <td>35.0</td>\n",
              "      <td>0</td>\n",
              "      <td>0</td>\n",
              "      <td>373450</td>\n",
              "      <td>8.0500</td>\n",
              "      <td>NaN</td>\n",
              "      <td>S</td>\n",
              "    </tr>\n",
              "  </tbody>\n",
              "</table>\n",
              "</div>"
            ],
            "text/plain": [
              "   PassengerId  Survived  Pclass  ...     Fare Cabin  Embarked\n",
              "0            1         0       3  ...   7.2500   NaN         S\n",
              "1            2         1       1  ...  71.2833   C85         C\n",
              "2            3         1       3  ...   7.9250   NaN         S\n",
              "3            4         1       1  ...  53.1000  C123         S\n",
              "4            5         0       3  ...   8.0500   NaN         S\n",
              "\n",
              "[5 rows x 12 columns]"
            ]
          },
          "metadata": {
            "tags": []
          },
          "execution_count": 13
        }
      ]
    },
    {
      "cell_type": "code",
      "metadata": {
        "id": "tp6dZgmQ1yzN",
        "colab": {
          "base_uri": "https://localhost:8080/"
        },
        "outputId": "737fc3ed-6a5a-4a2d-e47c-a40e252cf17a"
      },
      "source": [
        "train.info()"
      ],
      "execution_count": null,
      "outputs": [
        {
          "output_type": "stream",
          "text": [
            "<class 'pandas.core.frame.DataFrame'>\n",
            "RangeIndex: 891 entries, 0 to 890\n",
            "Data columns (total 12 columns):\n",
            " #   Column       Non-Null Count  Dtype  \n",
            "---  ------       --------------  -----  \n",
            " 0   PassengerId  891 non-null    int64  \n",
            " 1   Survived     891 non-null    int64  \n",
            " 2   Pclass       891 non-null    int64  \n",
            " 3   Name         891 non-null    object \n",
            " 4   Sex          891 non-null    object \n",
            " 5   Age          714 non-null    float64\n",
            " 6   SibSp        891 non-null    int64  \n",
            " 7   Parch        891 non-null    int64  \n",
            " 8   Ticket       891 non-null    object \n",
            " 9   Fare         891 non-null    float64\n",
            " 10  Cabin        204 non-null    object \n",
            " 11  Embarked     889 non-null    object \n",
            "dtypes: float64(2), int64(5), object(5)\n",
            "memory usage: 83.7+ KB\n"
          ],
          "name": "stdout"
        }
      ]
    },
    {
      "cell_type": "code",
      "metadata": {
        "scrolled": true,
        "id": "FjjekxUL1yzN",
        "colab": {
          "base_uri": "https://localhost:8080/",
          "height": 284
        },
        "outputId": "193b640f-2096-4ef3-8e95-00e9f6e43c96"
      },
      "source": [
        "train.describe()"
      ],
      "execution_count": null,
      "outputs": [
        {
          "output_type": "execute_result",
          "data": {
            "text/html": [
              "<div>\n",
              "<style scoped>\n",
              "    .dataframe tbody tr th:only-of-type {\n",
              "        vertical-align: middle;\n",
              "    }\n",
              "\n",
              "    .dataframe tbody tr th {\n",
              "        vertical-align: top;\n",
              "    }\n",
              "\n",
              "    .dataframe thead th {\n",
              "        text-align: right;\n",
              "    }\n",
              "</style>\n",
              "<table border=\"1\" class=\"dataframe\">\n",
              "  <thead>\n",
              "    <tr style=\"text-align: right;\">\n",
              "      <th></th>\n",
              "      <th>PassengerId</th>\n",
              "      <th>Survived</th>\n",
              "      <th>Pclass</th>\n",
              "      <th>Age</th>\n",
              "      <th>SibSp</th>\n",
              "      <th>Parch</th>\n",
              "      <th>Fare</th>\n",
              "    </tr>\n",
              "  </thead>\n",
              "  <tbody>\n",
              "    <tr>\n",
              "      <th>count</th>\n",
              "      <td>891.000000</td>\n",
              "      <td>891.000000</td>\n",
              "      <td>891.000000</td>\n",
              "      <td>714.000000</td>\n",
              "      <td>891.000000</td>\n",
              "      <td>891.000000</td>\n",
              "      <td>891.000000</td>\n",
              "    </tr>\n",
              "    <tr>\n",
              "      <th>mean</th>\n",
              "      <td>446.000000</td>\n",
              "      <td>0.383838</td>\n",
              "      <td>2.308642</td>\n",
              "      <td>29.699118</td>\n",
              "      <td>0.523008</td>\n",
              "      <td>0.381594</td>\n",
              "      <td>32.204208</td>\n",
              "    </tr>\n",
              "    <tr>\n",
              "      <th>std</th>\n",
              "      <td>257.353842</td>\n",
              "      <td>0.486592</td>\n",
              "      <td>0.836071</td>\n",
              "      <td>14.526497</td>\n",
              "      <td>1.102743</td>\n",
              "      <td>0.806057</td>\n",
              "      <td>49.693429</td>\n",
              "    </tr>\n",
              "    <tr>\n",
              "      <th>min</th>\n",
              "      <td>1.000000</td>\n",
              "      <td>0.000000</td>\n",
              "      <td>1.000000</td>\n",
              "      <td>0.420000</td>\n",
              "      <td>0.000000</td>\n",
              "      <td>0.000000</td>\n",
              "      <td>0.000000</td>\n",
              "    </tr>\n",
              "    <tr>\n",
              "      <th>25%</th>\n",
              "      <td>223.500000</td>\n",
              "      <td>0.000000</td>\n",
              "      <td>2.000000</td>\n",
              "      <td>20.125000</td>\n",
              "      <td>0.000000</td>\n",
              "      <td>0.000000</td>\n",
              "      <td>7.910400</td>\n",
              "    </tr>\n",
              "    <tr>\n",
              "      <th>50%</th>\n",
              "      <td>446.000000</td>\n",
              "      <td>0.000000</td>\n",
              "      <td>3.000000</td>\n",
              "      <td>28.000000</td>\n",
              "      <td>0.000000</td>\n",
              "      <td>0.000000</td>\n",
              "      <td>14.454200</td>\n",
              "    </tr>\n",
              "    <tr>\n",
              "      <th>75%</th>\n",
              "      <td>668.500000</td>\n",
              "      <td>1.000000</td>\n",
              "      <td>3.000000</td>\n",
              "      <td>38.000000</td>\n",
              "      <td>1.000000</td>\n",
              "      <td>0.000000</td>\n",
              "      <td>31.000000</td>\n",
              "    </tr>\n",
              "    <tr>\n",
              "      <th>max</th>\n",
              "      <td>891.000000</td>\n",
              "      <td>1.000000</td>\n",
              "      <td>3.000000</td>\n",
              "      <td>80.000000</td>\n",
              "      <td>8.000000</td>\n",
              "      <td>6.000000</td>\n",
              "      <td>512.329200</td>\n",
              "    </tr>\n",
              "  </tbody>\n",
              "</table>\n",
              "</div>"
            ],
            "text/plain": [
              "       PassengerId    Survived      Pclass  ...       SibSp       Parch        Fare\n",
              "count   891.000000  891.000000  891.000000  ...  891.000000  891.000000  891.000000\n",
              "mean    446.000000    0.383838    2.308642  ...    0.523008    0.381594   32.204208\n",
              "std     257.353842    0.486592    0.836071  ...    1.102743    0.806057   49.693429\n",
              "min       1.000000    0.000000    1.000000  ...    0.000000    0.000000    0.000000\n",
              "25%     223.500000    0.000000    2.000000  ...    0.000000    0.000000    7.910400\n",
              "50%     446.000000    0.000000    3.000000  ...    0.000000    0.000000   14.454200\n",
              "75%     668.500000    1.000000    3.000000  ...    1.000000    0.000000   31.000000\n",
              "max     891.000000    1.000000    3.000000  ...    8.000000    6.000000  512.329200\n",
              "\n",
              "[8 rows x 7 columns]"
            ]
          },
          "metadata": {
            "tags": []
          },
          "execution_count": 15
        }
      ]
    },
    {
      "cell_type": "markdown",
      "metadata": {
        "id": "yJbVGh5I1yzN"
      },
      "source": [
        "# 3. 데이터 탐색\n",
        "변수 | 정의 | 분석 방향 | 설명\n",
        "---|---|---|---\n",
        " Survived| 생사여부| | 0: No, 1:Yes | Y\n",
        " Pclass| 탑승 클래스/등급 | 클래스별 생존확률, Pclass, Fare 와의 상관관계\n",
        " Name| 이름 | Mr나 Miss, Sir 같은 단어가 영향을 미칠것인가\n",
        " Sex| 성별 | 성별간 생존률 확인 | 카테고리변경\n",
        " Age| 나이 | 어릴수록?\n",
        " SibSp| 자식 숫자 | 자식수와 생존 상관관계\n",
        " Parch| 부모 숫자 | 부모수와 생존 상관관계\n",
        " Ticket| 티켓 넘버 | Fare와 Corr 높을 듯 / 비용과 생존의 Corr?\n",
        " Fare| 요금 | Ticket과 동일 | 카테고리변경\n",
        " Cabin| Cabin 여부 및 번호\n",
        " Embarked| 탑승 항구 | | C = Cherbourg, Q = Queenstown, S = Southampton"
      ]
    },
    {
      "cell_type": "markdown",
      "metadata": {
        "id": "dwcdNH1k1yzN"
      },
      "source": [
        "#### Sex\n",
        "- 사망자:생존자 약 6:4의 비율\n",
        "- 남성의 경우 여성보다 더 많이 사망\n",
        "- 생존에 중요한 변수로 추정"
      ]
    },
    {
      "cell_type": "code",
      "metadata": {
        "id": "y7Sc7TQd1yzN",
        "colab": {
          "base_uri": "https://localhost:8080/",
          "height": 401
        },
        "outputId": "c916a96f-cc88-43d2-da8f-3a57530a9f42"
      },
      "source": [
        "plt.figure(figsize=(15,5))\n",
        "plt.subplot(1,2,1)\n",
        "sns.countplot(train['Survived'])\n",
        "plt.title('Number of passenger Survived');\n",
        "\n",
        "plt.subplot(1,2,2)\n",
        "sns.countplot(x=\"Survived\", hue=\"Sex\", data=train)\n",
        "plt.title('Number of passenger Survived')"
      ],
      "execution_count": null,
      "outputs": [
        {
          "output_type": "execute_result",
          "data": {
            "text/plain": [
              "Text(0.5, 1.0, 'Number of passenger Survived')"
            ]
          },
          "metadata": {
            "tags": []
          },
          "execution_count": 16
        },
        {
          "output_type": "display_data",
          "data": {
            "image/png": "[encoded data removed]",
            "text/plain": [
              "<Figure size 1080x360 with 2 Axes>"
            ]
          },
          "metadata": {
            "tags": []
          }
        }
      ]
    },
    {
      "cell_type": "markdown",
      "metadata": {
        "id": "rP7BIL9i1yzO"
      },
      "source": [
        "#### Pclass\n",
        "- 탑승 클래스\n",
        "- 금액이 저렴한 3등급 탑승객들의 수가 과반수 이상\n",
        "- 사망자수 또한 3등급에서 많이 나옴"
      ]
    },
    {
      "cell_type": "code",
      "metadata": {
        "id": "50J8X0tl1yzO",
        "colab": {
          "base_uri": "https://localhost:8080/",
          "height": 383
        },
        "outputId": "32aac701-bce3-471e-d741-6764699204bb"
      },
      "source": [
        "plt.figure(figsize=(15,5))\n",
        "plt.style.use('fivethirtyeight')\n",
        "\n",
        "plt.subplot(1,2,1)\n",
        "sns.countplot(train['Pclass'])\n",
        "plt.title('Count Plot for PClass');\n",
        "\n",
        "plt.subplot(1,2,2)\n",
        "sns.countplot(x=\"Survived\", hue=\"Pclass\", data=train)\n",
        "plt.title('Number of passenger Survived');"
      ],
      "execution_count": null,
      "outputs": [
        {
          "output_type": "display_data",
          "data": {
            "image/png": "[encoded data removed]",
            "text/plain": [
              "<Figure size 1080x360 with 2 Axes>"
            ]
          },
          "metadata": {
            "tags": []
          }
        }
      ]
    },
    {
      "cell_type": "markdown",
      "metadata": {
        "id": "WzEfy_yl1yzO"
      },
      "source": [
        "#### Age\n",
        "- 탑승자들의 나이 분포는 주로 20~30대에 몰려있음"
      ]
    },
    {
      "cell_type": "code",
      "metadata": {
        "id": "gvAjCbEB1yzO",
        "colab": {
          "base_uri": "https://localhost:8080/"
        },
        "outputId": "31aa70d4-96a0-4757-8878-a867784f7f8b"
      },
      "source": [
        "plt.figure(figsize=(15, 3))\n",
        "train['Age'].plot(kind='hist', bins = 80)"
      ],
      "execution_count": null,
      "outputs": [
        {
          "output_type": "execute_result",
          "data": {
            "text/plain": [
              "<matplotlib.axes._subplots.AxesSubplot at 0x7fe30e184ac8>"
            ]
          },
          "metadata": {
            "tags": []
          },
          "execution_count": 18
        },
        {
          "output_type": "display_data",
          "data": {
            "image/png": "[encoded data removed]",
            "text/plain": [
              "<Figure size 1080x216 with 1 Axes>"
            ]
          },
          "metadata": {
            "tags": []
          }
        }
      ]
    },
    {
      "cell_type": "code",
      "metadata": {
        "id": "enen6Psa1yzO",
        "colab": {
          "base_uri": "https://localhost:8080/"
        },
        "outputId": "a4041b19-9fc7-4d2d-86dd-c6f312fdf00d"
      },
      "source": [
        "# set plot size\n",
        "plt.figure(figsize=(15, 3))\n",
        "\n",
        "# plot a univariate distribution of Age observations \n",
        "sns.distplot(train.loc[train[\"Age\"] > 0, 'Age'], kde_kws={\"lw\": 3}, bins = 80)\n",
        "\n",
        "# set titles and labels\n",
        "plt.title('Distrubution of passengers age',fontsize= 14)\n",
        "plt.xlabel('Age')\n",
        "plt.ylabel('Frequency')\n",
        "\n",
        "# clean layout\n",
        "plt.tight_layout()"
      ],
      "execution_count": null,
      "outputs": [
        {
          "output_type": "display_data",
          "data": {
            "image/png": "[encoded data removed]",
            "text/plain": [
              "<Figure size 1080x216 with 1 Axes>"
            ]
          },
          "metadata": {
            "tags": []
          }
        }
      ]
    },
    {
      "cell_type": "markdown",
      "metadata": {
        "id": "he3PFPs11yzO"
      },
      "source": [
        "- 생존자들의 연령 분포가 사망자들의 연령 분포보다 좀 더 낮은 것을 확인 "
      ]
    },
    {
      "cell_type": "code",
      "metadata": {
        "id": "rBBze0SL1yzO",
        "colab": {
          "base_uri": "https://localhost:8080/"
        },
        "outputId": "ac871269-7ed1-4107-8b3d-4d38d68522a6"
      },
      "source": [
        "plt.figure(figsize=(15, 3))\n",
        "\n",
        "# Draw a box plot to show Age distributions with respect to survival status.\n",
        "sns.boxplot(y = 'Survived', x = 'Age', data = train, palette=[\"#3f3e6fd1\", \"#85c6a9\"], fliersize = 0, orient = 'h')\n",
        "\n",
        "# Add a scatterplot for each category.\n",
        "sns.stripplot(y = 'Survived', x = 'Age', data = train, linewidth = 0.6, palette=[\"#3f3e6fd1\", \"#85c6a9\"], orient = 'h')\n",
        "\n",
        "plt.yticks( np.arange(2), ['drowned', 'survived'])\n",
        "plt.title('Age distribution grouped by surviving status (train data)',fontsize= 14)\n",
        "plt.ylabel('Passenger status after the tragedy')\n",
        "plt.tight_layout()"
      ],
      "execution_count": null,
      "outputs": [
        {
          "output_type": "display_data",
          "data": {
            "image/png": "[encoded data removed]",
            "text/plain": [
              "<Figure size 1080x216 with 1 Axes>"
            ]
          },
          "metadata": {
            "tags": []
          }
        }
      ]
    },
    {
      "cell_type": "markdown",
      "metadata": {
        "id": "0_53MzFx1yzO"
      },
      "source": [
        "#### SibSp\n",
        "- 자녀 수가 많을 수록 생존한 것을 확인할 수 있음\n",
        "- 단, 그 수가 많지는 않음"
      ]
    },
    {
      "cell_type": "code",
      "metadata": {
        "id": "yV_pTvAo1yzO",
        "colab": {
          "base_uri": "https://localhost:8080/"
        },
        "outputId": "92f59391-4d21-4da3-fd3c-6306869dd327"
      },
      "source": [
        "plt.figure(figsize=(15,5))\n",
        "plt.subplot(1,2,1)\n",
        "sns.countplot(train['SibSp'])\n",
        "plt.title('Number of siblings/spouses aboard');\n",
        "\n",
        "plt.subplot(1,2,2)\n",
        "sns.countplot(x=\"Survived\", hue=\"SibSp\", data=train)\n",
        "plt.legend(loc='right')\n",
        "plt.title('Number of passenger Survived');\n",
        "\n",
        "# clean layout\n",
        "plt.tight_layout()"
      ],
      "execution_count": null,
      "outputs": [
        {
          "output_type": "display_data",
          "data": {
            "image/png": "[encoded data removed]",
            "text/plain": [
              "<Figure size 1080x360 with 2 Axes>"
            ]
          },
          "metadata": {
            "tags": []
          }
        }
      ]
    },
    {
      "cell_type": "markdown",
      "metadata": {
        "id": "WQAqanqN1yzO"
      },
      "source": [
        "#### Embarked"
      ]
    },
    {
      "cell_type": "code",
      "metadata": {
        "id": "-vmlPXK_1yzO",
        "colab": {
          "base_uri": "https://localhost:8080/"
        },
        "outputId": "292f7e7b-d66c-4d30-b493-6944408b0fe1"
      },
      "source": [
        "plt.figure(figsize=(15,5))\n",
        "plt.subplot(1,2,1)\n",
        "sns.countplot(train['Embarked'])\n",
        "plt.title('Number of Port of embarkation');\n",
        "\n",
        "plt.subplot(1,2,2)\n",
        "sns.countplot(x='Survived', hue='Embarked', data=train)\n",
        "plt.legend(loc='right')\n",
        "plt.title('Number of passenger Survived')\n",
        "\n",
        "# clean layout\n",
        "plt.tight_layout()"
      ],
      "execution_count": null,
      "outputs": [
        {
          "output_type": "display_data",
          "data": {
            "image/png": "[encoded data removed]",
            "text/plain": [
              "<Figure size 1080x360 with 2 Axes>"
            ]
          },
          "metadata": {
            "tags": []
          }
        }
      ]
    },
    {
      "cell_type": "markdown",
      "metadata": {
        "id": "HLrbemtf1yzP"
      },
      "source": [
        "#### Fare vs Embarked"
      ]
    },
    {
      "cell_type": "code",
      "metadata": {
        "id": "Lg_v-6Rl1yzP",
        "colab": {
          "base_uri": "https://localhost:8080/"
        },
        "outputId": "7d907575-c0cf-403a-d277-1b454f7a7ce6"
      },
      "source": [
        "sns.catplot(x=\"Embarked\", y=\"Fare\", kind=\"violin\", inner=None, data=train, height = 6, order = ['C', 'Q', 'S'])\n",
        "plt.title('Distribution of Fare by Embarked')\n",
        "plt.tight_layout()"
      ],
      "execution_count": null,
      "outputs": [
        {
          "output_type": "display_data",
          "data": {
            "image/png": "[encoded data removed]",
            "text/plain": [
              "<Figure size 432x432 with 1 Axes>"
            ]
          },
          "metadata": {
            "tags": []
          }
        }
      ]
    },
    {
      "cell_type": "markdown",
      "metadata": {
        "id": "eVHETpAs1yzP"
      },
      "source": [
        "#### Fare vs Pclass"
      ]
    },
    {
      "cell_type": "code",
      "metadata": {
        "id": "yAB-0spI1yzP",
        "colab": {
          "base_uri": "https://localhost:8080/"
        },
        "outputId": "d0367804-f449-4cd2-cd80-36d322ea81e3"
      },
      "source": [
        "sns.catplot(x=\"Pclass\", y=\"Fare\", kind=\"swarm\", data=train, height = 6)"
      ],
      "execution_count": null,
      "outputs": [
        {
          "output_type": "execute_result",
          "data": {
            "text/plain": [
              "<seaborn.axisgrid.FacetGrid at 0x7fe30dfe8898>"
            ]
          },
          "metadata": {
            "tags": []
          },
          "execution_count": 24
        },
        {
          "output_type": "display_data",
          "data": {
            "image/png": "[encoded data removed]",
            "text/plain": [
              "<Figure size 432x432 with 1 Axes>"
            ]
          },
          "metadata": {
            "tags": []
          }
        }
      ]
    },
    {
      "cell_type": "code",
      "metadata": {
        "id": "JGczg7G-1yzP",
        "colab": {
          "base_uri": "https://localhost:8080/"
        },
        "outputId": "a31058ae-25d8-4be1-9ffb-e1dee59173d8"
      },
      "source": [
        "sns.catplot(x=\"Pclass\", y=\"Fare\",  hue = \"Survived\", kind=\"swarm\", data=train, palette=[\"#3f3e6fd1\", \"#85c6a9\"], height = 6)\n",
        "\n",
        "plt.tight_layout()"
      ],
      "execution_count": null,
      "outputs": [
        {
          "output_type": "display_data",
          "data": {
            "image/png": "[encoded data removed]",
            "text/plain": [
              "<Figure size 504.825x432 with 1 Axes>"
            ]
          },
          "metadata": {
            "tags": []
          }
        }
      ]
    },
    {
      "cell_type": "markdown",
      "metadata": {
        "id": "9u3-xBpO1yzP"
      },
      "source": [
        "####  Correlation Matrix"
      ]
    },
    {
      "cell_type": "code",
      "metadata": {
        "id": "wRfmmmM51yzP",
        "colab": {
          "base_uri": "https://localhost:8080/"
        },
        "outputId": "e42407c9-c500-4ffb-9eb4-2def6b4ad3c6"
      },
      "source": [
        "plt.figure(figsize=(15,5))\n",
        "\n",
        "plt.subplot(1,2,1)\n",
        "sns.heatmap(train.corr(), annot=True)\n",
        "plt.title('Corelation Matrix');\n",
        "\n",
        "plt.subplot(1,2,2)\n",
        "threshold = 0.3\n",
        "corr = train.corr()\n",
        "sns.heatmap(corr[((corr >= threshold) | (corr <= -threshold)) & (corr != 1)], annot=True, linewidths=.5, fmt= '.2f')\n",
        "plt.title('Configured Corelation Matrix');\n",
        "\n",
        "plt.tight_layout()"
      ],
      "execution_count": null,
      "outputs": [
        {
          "output_type": "display_data",
          "data": {
            "image/png": "[encoded data removed]",
            "text/plain": [
              "<Figure size 1080x360 with 4 Axes>"
            ]
          },
          "metadata": {
            "tags": []
          }
        }
      ]
    },
    {
      "cell_type": "markdown",
      "metadata": {
        "id": "I9o-PJgq1yzP"
      },
      "source": [
        "#### 데이터 결측치 확인"
      ]
    },
    {
      "cell_type": "markdown",
      "metadata": {
        "id": "-8tfmFgK1yzP"
      },
      "source": [
        "- Age, Cabin, Embarked 결측치 발견"
      ]
    },
    {
      "cell_type": "code",
      "metadata": {
        "id": "AHVLACNH1yzP",
        "colab": {
          "base_uri": "https://localhost:8080/"
        },
        "outputId": "ba5a9c22-617c-46fe-cb0f-ea72fa4fdc30"
      },
      "source": [
        "train.isnull().mean(axis=0)"
      ],
      "execution_count": null,
      "outputs": [
        {
          "output_type": "execute_result",
          "data": {
            "text/plain": [
              "PassengerId    0.000000\n",
              "Survived       0.000000\n",
              "Pclass         0.000000\n",
              "Name           0.000000\n",
              "Sex            0.000000\n",
              "Age            0.198653\n",
              "SibSp          0.000000\n",
              "Parch          0.000000\n",
              "Ticket         0.000000\n",
              "Fare           0.000000\n",
              "Cabin          0.771044\n",
              "Embarked       0.002245\n",
              "dtype: float64"
            ]
          },
          "metadata": {
            "tags": []
          },
          "execution_count": 27
        }
      ]
    },
    {
      "cell_type": "code",
      "metadata": {
        "id": "XqZdvTSz1yzP",
        "colab": {
          "base_uri": "https://localhost:8080/"
        },
        "outputId": "c2aa815a-17ca-4ce0-f755-198b3a151394"
      },
      "source": [
        "plt.style.use('seaborn')\n",
        "plt.figure(figsize=(10,5))\n",
        "sns.heatmap(train.isnull(), yticklabels = False, cmap='plasma')\n",
        "plt.title('Null Values in Training Set')"
      ],
      "execution_count": null,
      "outputs": [
        {
          "output_type": "execute_result",
          "data": {
            "text/plain": [
              "Text(0.5, 1.0, 'Null Values in Training Set')"
            ]
          },
          "metadata": {
            "tags": []
          },
          "execution_count": 28
        },
        {
          "output_type": "display_data",
          "data": {
            "image/png": "[encoded data removed]",
            "text/plain": [
              "<Figure size 720x360 with 2 Axes>"
            ]
          },
          "metadata": {
            "tags": []
          }
        }
      ]
    },
    {
      "cell_type": "markdown",
      "metadata": {
        "id": "NC80AhsQ1yzP"
      },
      "source": [
        "- 결측치 채우기\n",
        "    1. Embarked : 최빈값으로 채우기\n",
        "    2. Fare: 중앙값으로 채우기\n",
        "    3. Cabin: NaN -> U(nknown)"
      ]
    },
    {
      "cell_type": "code",
      "metadata": {
        "id": "JjssYdPr1yzP"
      },
      "source": [
        "train.loc[train.Age.isnull(), 'Age'] = train.groupby(\"Pclass\").Age.transform('median')\n",
        "test.loc[test.Age.isnull(), 'Age'] = test.groupby(\"Pclass\").Age.transform('median')\n",
        "train['Embarked'] = train['Embarked'].fillna(mode(train['Embarked']))\n",
        "test['Embarked'] = test['Embarked'].fillna(mode(test['Embarked']))\n",
        "train['Fare']  = train.groupby(\"Pclass\")['Fare'].transform(lambda x: x.fillna(x.median()))\n",
        "test['Fare']  = test.groupby(\"Pclass\")['Fare'].transform(lambda x: x.fillna(x.median()))\n",
        "train['Cabin'] = train['Cabin'].fillna('U')\n",
        "test['Cabin'] = test['Cabin'].fillna('U')"
      ],
      "execution_count": null,
      "outputs": []
    },
    {
      "cell_type": "markdown",
      "metadata": {
        "id": "TDheduMP1yzP"
      },
      "source": [
        "# 변수 전처리"
      ]
    },
    {
      "cell_type": "markdown",
      "metadata": {
        "id": "C0TcwUUu1yzP"
      },
      "source": [
        "#### Sex 변환"
      ]
    },
    {
      "cell_type": "code",
      "metadata": {
        "id": "o5IU20fA1yzP"
      },
      "source": [
        "train['Sex'][train['Sex'] == 'male'] = 0\n",
        "train['Sex'][train['Sex'] == 'female'] = 1\n",
        "\n",
        "test['Sex'][test['Sex'] == 'male'] = 0\n",
        "test['Sex'][test['Sex'] == 'female'] = 1\n",
        "\n",
        "train['Sex'] = train['Sex'].astype(int)\n",
        "test['Sex'] = test['Sex'].astype(int)"
      ],
      "execution_count": null,
      "outputs": []
    },
    {
      "cell_type": "markdown",
      "metadata": {
        "id": "lzlUWj8q1yzP"
      },
      "source": [
        "#### Embarked ont hot encoding"
      ]
    },
    {
      "cell_type": "code",
      "metadata": {
        "id": "16n9v_mM1yzQ"
      },
      "source": [
        "from sklearn.preprocessing import OneHotEncoder\n",
        "\n",
        "encoder = OneHotEncoder()\n",
        "temp = pd.DataFrame(encoder.fit_transform(train[['Embarked']]).toarray(), columns=['S', 'C', 'Q'])\n",
        "train = train.join(temp)\n",
        "# train.drop(columns='Embarked', inplace=True)\n",
        "\n",
        "temp = pd.DataFrame(encoder.transform(test[['Embarked']]).toarray(), columns=['S', 'C', 'Q'])\n",
        "test = test.join(temp)\n",
        "# test.drop(columns='Embarked', inplace=True)"
      ],
      "execution_count": null,
      "outputs": []
    },
    {
      "cell_type": "markdown",
      "metadata": {
        "id": "06x00xwV1yzQ"
      },
      "source": [
        "#### Cabin 등급으로 분류"
      ]
    },
    {
      "cell_type": "code",
      "metadata": {
        "id": "2mOvRMHR1yzQ"
      },
      "source": [
        "train['Cabin'] = train['Cabin'].map(lambda x:re.compile(\"([a-zA-Z])\").search(x).group())\n",
        "test['Cabin'] = test['Cabin'].map(lambda x:re.compile(\"([a-zA-Z])\").search(x).group())"
      ],
      "execution_count": null,
      "outputs": []
    },
    {
      "cell_type": "code",
      "metadata": {
        "id": "XE8AJOdk1yzQ"
      },
      "source": [
        "cabin_category = {'A':1, 'B':2, 'C':3, 'D':4, 'E':5, 'F':6, 'G':7, 'T':8, 'U':9}\n",
        "train['Cabin'] = train['Cabin'].map(cabin_category)\n",
        "test['Cabin'] = test['Cabin'].map(cabin_category)"
      ],
      "execution_count": null,
      "outputs": []
    },
    {
      "cell_type": "markdown",
      "metadata": {
        "id": "_5cI5UDS1yzQ"
      },
      "source": [
        "#### Name 필요 변수 추출"
      ]
    },
    {
      "cell_type": "code",
      "metadata": {
        "id": "25oJNH9f1yzQ"
      },
      "source": [
        "train['Name'] = train.Name.str.extract(' ([A-Za-z]+)\\.', expand = False)\n",
        "test['Name'] = test.Name.str.extract(' ([A-Za-z]+)\\.', expand = False)"
      ],
      "execution_count": null,
      "outputs": []
    },
    {
      "cell_type": "code",
      "metadata": {
        "id": "9ZWpmu4Y1yzQ"
      },
      "source": [
        ""
      ],
      "execution_count": null,
      "outputs": []
    },
    {
      "cell_type": "code",
      "metadata": {
        "id": "e0PENmI01yzQ"
      },
      "source": [
        "train.rename(columns={'Name' : 'Title'}, inplace=True)\n",
        "train['Title'] = train['Title'].replace(['Rev', 'Dr', 'Col', 'Ms', 'Mlle', 'Major', 'Countess', \n",
        "                                       'Capt', 'Dona', 'Jonkheer', 'Lady', 'Sir', 'Mme', 'Don'], 'Other')\n",
        "                                      \n",
        "test.rename(columns={'Name' : 'Title'}, inplace=True)\n",
        "test['Title'] = test['Title'].replace(['Rev', 'Dr', 'Col', 'Ms', 'Mlle', 'Major', 'Countess', \n",
        "                                       'Capt', 'Dona', 'Jonkheer', 'Lady', 'Sir', 'Mme', 'Don'], 'Other')\n",
        "\n",
        "encoder = OneHotEncoder()\n",
        "temp = pd.DataFrame(encoder.fit_transform(train[['Title']]).toarray())\n",
        "train = train.join(temp)\n",
        "# train.drop(columns='Title', inplace=True)\n",
        "\n",
        "temp = pd.DataFrame(encoder.transform(test[['Title']]).toarray())\n",
        "test = test.join(temp)\n",
        "# test.drop(columns='Title', inplace=True)"
      ],
      "execution_count": null,
      "outputs": []
    },
    {
      "cell_type": "markdown",
      "metadata": {
        "id": "bDNNu0G41yzQ"
      },
      "source": [
        "#### SibSp / Parch  전처리"
      ]
    },
    {
      "cell_type": "code",
      "metadata": {
        "id": "sAwOsAue1yzQ"
      },
      "source": [
        "train['familySize'] = train['SibSp'] + train['Parch'] + 1\n",
        "test['familySize'] = test['SibSp'] + test['Parch'] + 1"
      ],
      "execution_count": null,
      "outputs": []
    },
    {
      "cell_type": "code",
      "metadata": {
        "id": "lsa2TJSo1yzQ"
      },
      "source": [
        "train['isAlone'] = 0 \n",
        "test['isAlone'] =  0 \n",
        "train.loc[train['familySize'] > 1, 'isAlone'] = 0 \n",
        "test.loc[test['familySize'] > 1, 'isAlone'] = 0 "
      ],
      "execution_count": null,
      "outputs": []
    },
    {
      "cell_type": "markdown",
      "metadata": {
        "id": "lNYCxfCD1yzQ"
      },
      "source": [
        "#### Fare 등급"
      ]
    },
    {
      "cell_type": "code",
      "metadata": {
        "id": "e9VKOVEq1yzQ"
      },
      "source": [
        "train['FareBin'] = pd.qcut(train['Fare'], 4, duplicates='drop', labels=False)\n",
        "test['FareBin'] = pd.qcut(test['Fare'], 4, duplicates='drop', labels=False)"
      ],
      "execution_count": null,
      "outputs": []
    },
    {
      "cell_type": "markdown",
      "metadata": {
        "id": "_9pWskTM1yzQ"
      },
      "source": [
        "#### 나이 등급"
      ]
    },
    {
      "cell_type": "code",
      "metadata": {
        "id": "pT85yXHB1yzQ"
      },
      "source": [
        "train['AgeBin'] = pd.cut(train['Age'], 4, duplicates='drop', labels = False)\n",
        "test['AgeBin'] = pd.cut(test['Age'], 4, duplicates='drop', labels = False)"
      ],
      "execution_count": null,
      "outputs": []
    },
    {
      "cell_type": "markdown",
      "metadata": {
        "id": "HBwJL30T1yzQ"
      },
      "source": [
        "#### PCA"
      ]
    },
    {
      "cell_type": "code",
      "metadata": {
        "id": "dGNqH8HQ1yzQ",
        "colab": {
          "base_uri": "https://localhost:8080/"
        },
        "outputId": "cafea7f9-8a45-4aca-acb5-a2212ddf84f3"
      },
      "source": [
        "train.info()"
      ],
      "execution_count": null,
      "outputs": [
        {
          "output_type": "stream",
          "text": [
            "<class 'pandas.core.frame.DataFrame'>\n",
            "RangeIndex: 891 entries, 0 to 890\n",
            "Data columns (total 24 columns):\n",
            " #   Column       Non-Null Count  Dtype  \n",
            "---  ------       --------------  -----  \n",
            " 0   PassengerId  891 non-null    int64  \n",
            " 1   Survived     891 non-null    int64  \n",
            " 2   Pclass       891 non-null    int64  \n",
            " 3   Title        891 non-null    object \n",
            " 4   Sex          891 non-null    int64  \n",
            " 5   Age          891 non-null    float64\n",
            " 6   SibSp        891 non-null    int64  \n",
            " 7   Parch        891 non-null    int64  \n",
            " 8   Ticket       891 non-null    object \n",
            " 9   Fare         891 non-null    float64\n",
            " 10  Cabin        891 non-null    int64  \n",
            " 11  Embarked     891 non-null    object \n",
            " 12  S            891 non-null    float64\n",
            " 13  C            891 non-null    float64\n",
            " 14  Q            891 non-null    float64\n",
            " 15  0            891 non-null    float64\n",
            " 16  1            891 non-null    float64\n",
            " 17  2            891 non-null    float64\n",
            " 18  3            891 non-null    float64\n",
            " 19  4            891 non-null    float64\n",
            " 20  familySize   891 non-null    int64  \n",
            " 21  isAlone      891 non-null    int64  \n",
            " 22  FareBin      891 non-null    int64  \n",
            " 23  AgeBin       891 non-null    int64  \n",
            "dtypes: float64(10), int64(11), object(3)\n",
            "memory usage: 167.2+ KB\n"
          ],
          "name": "stdout"
        }
      ]
    },
    {
      "cell_type": "code",
      "metadata": {
        "scrolled": false,
        "id": "kiMhBtka1yzQ"
      },
      "source": [
        "# from sklearn.preprocessing import StandardScaler\n",
        "# from sklearn.decomposition import PCA\n",
        "\n",
        "# columns = train.drop(columns=[\"PassengerId\",\"Survived\",'Title','Ticket','Cabin','Embarked']).columns\n",
        "# X_train = StandardScaler().fit_transform(train.drop(columns=[\"PassengerId\",\"Survived\",'Title','Ticket','Cabin','Embarked']))\n",
        "# new_df = pd.DataFrame(X_train, columns=columns)\n",
        "\n",
        "# pca = PCA(n_components = 2)\n",
        "# df_pca = pca.fit_transform(new_df)\n",
        "\n",
        "# plt.figure(figsize =(8, 6))\n",
        "# plt.scatter(df_pca[:, 0], df_pca[:, 1], c = train['Survived'], cmap ='plasma')\n",
        "\n",
        "# plt.xlabel('First Principal Component')\n",
        "# plt.ylabel('Second Principal Component');\n",
        "\n",
        "# plt.tight_layout()"
      ],
      "execution_count": null,
      "outputs": []
    },
    {
      "cell_type": "code",
      "metadata": {
        "id": "_-EsPp231yzQ"
      },
      "source": [
        "# fig = plt.figure()\n",
        "# ax = fig.gca(projection = '3d')\n",
        "\n",
        "# pca = PCA(n_components = 3)\n",
        "# df_pca = pca.fit_transform(new_df)\n",
        "\n",
        "# ax.scatter(df_pca[:, 0], df_pca[:, 1], df_pca[:, 2], c = target, cmap ='plasma')\n",
        "# plt.tight_layout()"
      ],
      "execution_count": null,
      "outputs": []
    },
    {
      "cell_type": "markdown",
      "metadata": {
        "id": "HOrXc3cQ1yzQ"
      },
      "source": [
        "#### 최종 데이터"
      ]
    },
    {
      "cell_type": "code",
      "metadata": {
        "scrolled": true,
        "id": "0L9iykwV1yzQ",
        "colab": {
          "base_uri": "https://localhost:8080/"
        },
        "outputId": "1557e7d1-8ea2-4626-eadf-1053b348da83"
      },
      "source": [
        "train.head()"
      ],
      "execution_count": null,
      "outputs": [
        {
          "output_type": "execute_result",
          "data": {
            "text/html": [
              "<div>\n",
              "<style scoped>\n",
              "    .dataframe tbody tr th:only-of-type {\n",
              "        vertical-align: middle;\n",
              "    }\n",
              "\n",
              "    .dataframe tbody tr th {\n",
              "        vertical-align: top;\n",
              "    }\n",
              "\n",
              "    .dataframe thead th {\n",
              "        text-align: right;\n",
              "    }\n",
              "</style>\n",
              "<table border=\"1\" class=\"dataframe\">\n",
              "  <thead>\n",
              "    <tr style=\"text-align: right;\">\n",
              "      <th></th>\n",
              "      <th>PassengerId</th>\n",
              "      <th>Survived</th>\n",
              "      <th>Pclass</th>\n",
              "      <th>Title</th>\n",
              "      <th>Sex</th>\n",
              "      <th>Age</th>\n",
              "      <th>SibSp</th>\n",
              "      <th>Parch</th>\n",
              "      <th>Ticket</th>\n",
              "      <th>Fare</th>\n",
              "      <th>Cabin</th>\n",
              "      <th>Embarked</th>\n",
              "      <th>S</th>\n",
              "      <th>C</th>\n",
              "      <th>Q</th>\n",
              "      <th>0</th>\n",
              "      <th>1</th>\n",
              "      <th>2</th>\n",
              "      <th>3</th>\n",
              "      <th>4</th>\n",
              "      <th>familySize</th>\n",
              "      <th>isAlone</th>\n",
              "      <th>FareBin</th>\n",
              "      <th>AgeBin</th>\n",
              "    </tr>\n",
              "  </thead>\n",
              "  <tbody>\n",
              "    <tr>\n",
              "      <th>0</th>\n",
              "      <td>1</td>\n",
              "      <td>0</td>\n",
              "      <td>3</td>\n",
              "      <td>Mr</td>\n",
              "      <td>0</td>\n",
              "      <td>22.0</td>\n",
              "      <td>1</td>\n",
              "      <td>0</td>\n",
              "      <td>A/5 21171</td>\n",
              "      <td>7.2500</td>\n",
              "      <td>9</td>\n",
              "      <td>S</td>\n",
              "      <td>0.0</td>\n",
              "      <td>0.0</td>\n",
              "      <td>1.0</td>\n",
              "      <td>0.0</td>\n",
              "      <td>0.0</td>\n",
              "      <td>1.0</td>\n",
              "      <td>0.0</td>\n",
              "      <td>0.0</td>\n",
              "      <td>2</td>\n",
              "      <td>0</td>\n",
              "      <td>0</td>\n",
              "      <td>1</td>\n",
              "    </tr>\n",
              "    <tr>\n",
              "      <th>1</th>\n",
              "      <td>2</td>\n",
              "      <td>1</td>\n",
              "      <td>1</td>\n",
              "      <td>Mrs</td>\n",
              "      <td>1</td>\n",
              "      <td>38.0</td>\n",
              "      <td>1</td>\n",
              "      <td>0</td>\n",
              "      <td>PC 17599</td>\n",
              "      <td>71.2833</td>\n",
              "      <td>3</td>\n",
              "      <td>C</td>\n",
              "      <td>1.0</td>\n",
              "      <td>0.0</td>\n",
              "      <td>0.0</td>\n",
              "      <td>0.0</td>\n",
              "      <td>0.0</td>\n",
              "      <td>0.0</td>\n",
              "      <td>1.0</td>\n",
              "      <td>0.0</td>\n",
              "      <td>2</td>\n",
              "      <td>0</td>\n",
              "      <td>3</td>\n",
              "      <td>1</td>\n",
              "    </tr>\n",
              "    <tr>\n",
              "      <th>2</th>\n",
              "      <td>3</td>\n",
              "      <td>1</td>\n",
              "      <td>3</td>\n",
              "      <td>Miss</td>\n",
              "      <td>1</td>\n",
              "      <td>26.0</td>\n",
              "      <td>0</td>\n",
              "      <td>0</td>\n",
              "      <td>STON/O2. 3101282</td>\n",
              "      <td>7.9250</td>\n",
              "      <td>9</td>\n",
              "      <td>S</td>\n",
              "      <td>0.0</td>\n",
              "      <td>0.0</td>\n",
              "      <td>1.0</td>\n",
              "      <td>0.0</td>\n",
              "      <td>1.0</td>\n",
              "      <td>0.0</td>\n",
              "      <td>0.0</td>\n",
              "      <td>0.0</td>\n",
              "      <td>1</td>\n",
              "      <td>0</td>\n",
              "      <td>1</td>\n",
              "      <td>1</td>\n",
              "    </tr>\n",
              "    <tr>\n",
              "      <th>3</th>\n",
              "      <td>4</td>\n",
              "      <td>1</td>\n",
              "      <td>1</td>\n",
              "      <td>Mrs</td>\n",
              "      <td>1</td>\n",
              "      <td>35.0</td>\n",
              "      <td>1</td>\n",
              "      <td>0</td>\n",
              "      <td>113803</td>\n",
              "      <td>53.1000</td>\n",
              "      <td>3</td>\n",
              "      <td>S</td>\n",
              "      <td>0.0</td>\n",
              "      <td>0.0</td>\n",
              "      <td>1.0</td>\n",
              "      <td>0.0</td>\n",
              "      <td>0.0</td>\n",
              "      <td>0.0</td>\n",
              "      <td>1.0</td>\n",
              "      <td>0.0</td>\n",
              "      <td>2</td>\n",
              "      <td>0</td>\n",
              "      <td>3</td>\n",
              "      <td>1</td>\n",
              "    </tr>\n",
              "    <tr>\n",
              "      <th>4</th>\n",
              "      <td>5</td>\n",
              "      <td>0</td>\n",
              "      <td>3</td>\n",
              "      <td>Mr</td>\n",
              "      <td>0</td>\n",
              "      <td>35.0</td>\n",
              "      <td>0</td>\n",
              "      <td>0</td>\n",
              "      <td>373450</td>\n",
              "      <td>8.0500</td>\n",
              "      <td>9</td>\n",
              "      <td>S</td>\n",
              "      <td>0.0</td>\n",
              "      <td>0.0</td>\n",
              "      <td>1.0</td>\n",
              "      <td>0.0</td>\n",
              "      <td>0.0</td>\n",
              "      <td>1.0</td>\n",
              "      <td>0.0</td>\n",
              "      <td>0.0</td>\n",
              "      <td>1</td>\n",
              "      <td>0</td>\n",
              "      <td>1</td>\n",
              "      <td>1</td>\n",
              "    </tr>\n",
              "  </tbody>\n",
              "</table>\n",
              "</div>"
            ],
            "text/plain": [
              "   PassengerId  Survived  Pclass Title  ...  familySize  isAlone  FareBin  AgeBin\n",
              "0            1         0       3    Mr  ...           2        0        0       1\n",
              "1            2         1       1   Mrs  ...           2        0        3       1\n",
              "2            3         1       3  Miss  ...           1        0        1       1\n",
              "3            4         1       1   Mrs  ...           2        0        3       1\n",
              "4            5         0       3    Mr  ...           1        0        1       1\n",
              "\n",
              "[5 rows x 24 columns]"
            ]
          },
          "metadata": {
            "tags": []
          },
          "execution_count": 43
        }
      ]
    },
    {
      "cell_type": "markdown",
      "metadata": {
        "id": "pnDyc6bc1yzQ"
      },
      "source": [
        "# 모델링\n",
        "- 테스트 파이프라인\n",
        "\n",
        "1. 모델 클래스 선언\n",
        "2. cross validation 세팅"
      ]
    },
    {
      "cell_type": "code",
      "metadata": {
        "id": "Bu_EDxWh1yzQ"
      },
      "source": [
        "#Common Model Algorithms\n",
        "from sklearn import svm, tree, linear_model, neighbors, naive_bayes, ensemble, discriminant_analysis, gaussian_process\n",
        "from xgboost import XGBClassifier\n",
        "\n",
        "#Common Model Helpers\n",
        "from sklearn.preprocessing import OneHotEncoder, LabelEncoder\n",
        "from sklearn import feature_selection\n",
        "from sklearn import model_selection\n",
        "from sklearn import metrics\n",
        "\n",
        "#Visualization\n",
        "import matplotlib as mpl\n",
        "import matplotlib.pyplot as plt\n",
        "import matplotlib.pylab as pylab\n",
        "import seaborn as sns\n",
        "from pandas.plotting import scatter_matrix\n",
        "\n",
        "#Configure Visualization Defaults\n",
        "#%matplotlib inline = show plots in Jupyter Notebook browser\n",
        "%matplotlib inline\n",
        "mpl.style.use('ggplot')\n",
        "sns.set_style('white')\n",
        "pylab.rcParams['figure.figsize'] = 12,8"
      ],
      "execution_count": null,
      "outputs": []
    },
    {
      "cell_type": "markdown",
      "metadata": {
        "id": "XT2ZmdsU1yzQ"
      },
      "source": [
        "#### 분류 알고리즘 클래스 선언"
      ]
    },
    {
      "cell_type": "code",
      "metadata": {
        "id": "LstSabJo1yzQ"
      },
      "source": [
        "#Machine Learning Algorithm (MLA) Selection and Initialization\n",
        "MLA = [\n",
        "    #Ensemble Methods\n",
        "    ensemble.AdaBoostClassifier(),\n",
        "    ensemble.BaggingClassifier(),\n",
        "    ensemble.ExtraTreesClassifier(),\n",
        "    ensemble.GradientBoostingClassifier(),\n",
        "    ensemble.RandomForestClassifier(),\n",
        "\n",
        "    #Gaussian Processes\n",
        "    gaussian_process.GaussianProcessClassifier(),\n",
        "    \n",
        "    #GLM\n",
        "    linear_model.LogisticRegressionCV(),\n",
        "    linear_model.PassiveAggressiveClassifier(),\n",
        "    linear_model.RidgeClassifierCV(),\n",
        "    linear_model.SGDClassifier(),\n",
        "    linear_model.Perceptron(),\n",
        "    \n",
        "    #Navies Bayes\n",
        "    naive_bayes.BernoulliNB(),\n",
        "    naive_bayes.GaussianNB(),\n",
        "    \n",
        "    #Nearest Neighbor\n",
        "    neighbors.KNeighborsClassifier(),\n",
        "    \n",
        "    #SVM\n",
        "    svm.SVC(probability=True),\n",
        "    svm.NuSVC(probability=True),\n",
        "    svm.LinearSVC(),\n",
        "    \n",
        "    #Trees    \n",
        "    tree.DecisionTreeClassifier(),\n",
        "    tree.ExtraTreeClassifier(),\n",
        "    \n",
        "    #Discriminant Analysis\n",
        "    discriminant_analysis.LinearDiscriminantAnalysis(),\n",
        "    discriminant_analysis.QuadraticDiscriminantAnalysis(),\n",
        "\n",
        "    \n",
        "    #xgboost: http://xgboost.readthedocs.io/en/latest/model.html\n",
        "    XGBClassifier()    \n",
        "    ]"
      ],
      "execution_count": null,
      "outputs": []
    },
    {
      "cell_type": "markdown",
      "metadata": {
        "id": "Sve6kIvb1yzQ"
      },
      "source": [
        "#### 테스트 1\n",
        "- 복수의 분류 알고리즘 테스트 파이프라인\n",
        "- 각 알고리즘의 train/test 결과"
      ]
    },
    {
      "cell_type": "code",
      "metadata": {
        "id": "fvkw8GNP1yzQ",
        "colab": {
          "base_uri": "https://localhost:8080/",
          "height": 698
        },
        "outputId": "ca98bcd0-531a-44d0-cfa9-a868fae0de71"
      },
      "source": [
        "Target = ['Survived']\n",
        "Input_col = ['Pclass', 'Sex', 'Age', 'SibSp', 'Parch', 'Fare', 'Cabin', 'S', 'C', 'Q', 0, 1, 2, 3, 4, 'familySize', 'FareBin', 'AgeBin', 'isAlone']\n",
        "\n",
        "data1 = train\n",
        "#split dataset in cross-validation with this splitter class: http://scikit-learn.org/stable/modules/generated/sklearn.model_selection.ShuffleSplit.html#sklearn.model_selection.ShuffleSplit\n",
        "#note: this is an alternative to train_test_split\n",
        "cv_split = model_selection.ShuffleSplit(n_splits = 10, test_size = .3, train_size = .6, random_state = 0 ) # run model 10x with 60/30 split intentionally leaving out 10%\n",
        "\n",
        "#create table to compare MLA metrics\n",
        "MLA_columns = ['MLA Name', 'MLA Parameters','MLA Train Accuracy Mean', 'MLA Test Accuracy Mean', 'MLA Test Accuracy 3*STD' ,'MLA Time']\n",
        "MLA_compare = pd.DataFrame(columns = MLA_columns)\n",
        "\n",
        "#create table to compare MLA predictions\n",
        "MLA_predict = data1[Target]\n",
        "\n",
        "#index through MLA and save performance to table\n",
        "row_index = 0\n",
        "for alg in MLA:\n",
        "\n",
        "    #set name and parameters\n",
        "    MLA_name = alg.__class__.__name__\n",
        "    MLA_compare.loc[row_index, 'MLA Name'] = MLA_name\n",
        "    MLA_compare.loc[row_index, 'MLA Parameters'] = str(alg.get_params())\n",
        "    \n",
        "    #score model with cross validation: http://scikit-learn.org/stable/modules/generated/sklearn.model_selection.cross_validate.html#sklearn.model_selection.cross_validate\n",
        "    cv_results = model_selection.cross_validate(alg, data1[Input_col], data1[Target], cv  = cv_split, return_train_score = True, n_jobs=4)\n",
        "\n",
        "    MLA_compare.loc[row_index, 'MLA Time'] = cv_results['fit_time'].mean()\n",
        "    MLA_compare.loc[row_index, 'MLA Train Accuracy Mean'] = cv_results['train_score'].mean()\n",
        "    MLA_compare.loc[row_index, 'MLA Test Accuracy Mean'] = cv_results['test_score'].mean()   \n",
        "    \n",
        "    #if this is a non-bias random sample, then +/-3 standard deviations (std) from the mean, should statistically capture 99.7% of the subsets\n",
        "    MLA_compare.loc[row_index, 'MLA Test Accuracy 3*STD'] = cv_results['test_score'].std()*3   #let's know the worst that can happen!\n",
        "    \n",
        "\n",
        "    #save MLA predictions - see section 6 for usage\n",
        "    alg.fit(data1[Input_col], data1[Target])\n",
        "    MLA_predict[MLA_name] = alg.predict(data1[Input_col])\n",
        "    \n",
        "    row_index+=1\n",
        "\n",
        "    \n",
        "#print and sort table: https://pandas.pydata.org/pandas-docs/stable/generated/pandas.DataFrame.sort_values.html\n",
        "MLA_compare.sort_values(by = ['MLA Test Accuracy Mean'], ascending = False, inplace = True)\n",
        "MLA_compare"
      ],
      "execution_count": null,
      "outputs": [
        {
          "output_type": "execute_result",
          "data": {
            "text/html": [
              "<div>\n",
              "<style scoped>\n",
              "    .dataframe tbody tr th:only-of-type {\n",
              "        vertical-align: middle;\n",
              "    }\n",
              "\n",
              "    .dataframe tbody tr th {\n",
              "        vertical-align: top;\n",
              "    }\n",
              "\n",
              "    .dataframe thead th {\n",
              "        text-align: right;\n",
              "    }\n",
              "</style>\n",
              "<table border=\"1\" class=\"dataframe\">\n",
              "  <thead>\n",
              "    <tr style=\"text-align: right;\">\n",
              "      <th></th>\n",
              "      <th>MLA Name</th>\n",
              "      <th>MLA Parameters</th>\n",
              "      <th>MLA Train Accuracy Mean</th>\n",
              "      <th>MLA Test Accuracy Mean</th>\n",
              "      <th>MLA Test Accuracy 3*STD</th>\n",
              "      <th>MLA Time</th>\n",
              "    </tr>\n",
              "  </thead>\n",
              "  <tbody>\n",
              "    <tr>\n",
              "      <th>3</th>\n",
              "      <td>GradientBoostingClassifier</td>\n",
              "      <td>{'ccp_alpha': 0.0, 'criterion': 'friedman_mse'...</td>\n",
              "      <td>0.922097</td>\n",
              "      <td>0.833955</td>\n",
              "      <td>0.0613633</td>\n",
              "      <td>0.342137</td>\n",
              "    </tr>\n",
              "    <tr>\n",
              "      <th>21</th>\n",
              "      <td>XGBClassifier</td>\n",
              "      <td>{'base_score': 0.5, 'booster': 'gbtree', 'cols...</td>\n",
              "      <td>0.897004</td>\n",
              "      <td>0.830597</td>\n",
              "      <td>0.0631645</td>\n",
              "      <td>0.21118</td>\n",
              "    </tr>\n",
              "    <tr>\n",
              "      <th>6</th>\n",
              "      <td>LogisticRegressionCV</td>\n",
              "      <td>{'Cs': 10, 'class_weight': None, 'cv': None, '...</td>\n",
              "      <td>0.834831</td>\n",
              "      <td>0.827985</td>\n",
              "      <td>0.0674342</td>\n",
              "      <td>3.96617</td>\n",
              "    </tr>\n",
              "    <tr>\n",
              "      <th>19</th>\n",
              "      <td>LinearDiscriminantAnalysis</td>\n",
              "      <td>{'n_components': None, 'priors': None, 'shrink...</td>\n",
              "      <td>0.831461</td>\n",
              "      <td>0.822761</td>\n",
              "      <td>0.0662721</td>\n",
              "      <td>0.00863214</td>\n",
              "    </tr>\n",
              "    <tr>\n",
              "      <th>0</th>\n",
              "      <td>AdaBoostClassifier</td>\n",
              "      <td>{'algorithm': 'SAMME.R', 'base_estimator': Non...</td>\n",
              "      <td>0.852622</td>\n",
              "      <td>0.817537</td>\n",
              "      <td>0.0647805</td>\n",
              "      <td>0.273806</td>\n",
              "    </tr>\n",
              "    <tr>\n",
              "      <th>8</th>\n",
              "      <td>RidgeClassifierCV</td>\n",
              "      <td>{'alphas': array([ 0.1,  1. , 10. ]), 'class_w...</td>\n",
              "      <td>0.833146</td>\n",
              "      <td>0.817537</td>\n",
              "      <td>0.0591168</td>\n",
              "      <td>0.0190806</td>\n",
              "    </tr>\n",
              "    <tr>\n",
              "      <th>4</th>\n",
              "      <td>RandomForestClassifier</td>\n",
              "      <td>{'bootstrap': True, 'ccp_alpha': 0.0, 'class_w...</td>\n",
              "      <td>0.990075</td>\n",
              "      <td>0.813433</td>\n",
              "      <td>0.0453324</td>\n",
              "      <td>0.562702</td>\n",
              "    </tr>\n",
              "    <tr>\n",
              "      <th>1</th>\n",
              "      <td>BaggingClassifier</td>\n",
              "      <td>{'base_estimator': None, 'bootstrap': True, 'b...</td>\n",
              "      <td>0.973221</td>\n",
              "      <td>0.810821</td>\n",
              "      <td>0.0872919</td>\n",
              "      <td>0.0831703</td>\n",
              "    </tr>\n",
              "    <tr>\n",
              "      <th>15</th>\n",
              "      <td>NuSVC</td>\n",
              "      <td>{'break_ties': False, 'cache_size': 200, 'clas...</td>\n",
              "      <td>0.827154</td>\n",
              "      <td>0.800373</td>\n",
              "      <td>0.0629757</td>\n",
              "      <td>0.25753</td>\n",
              "    </tr>\n",
              "    <tr>\n",
              "      <th>2</th>\n",
              "      <td>ExtraTreesClassifier</td>\n",
              "      <td>{'bootstrap': False, 'ccp_alpha': 0.0, 'class_...</td>\n",
              "      <td>0.990262</td>\n",
              "      <td>0.795522</td>\n",
              "      <td>0.0612713</td>\n",
              "      <td>0.427992</td>\n",
              "    </tr>\n",
              "    <tr>\n",
              "      <th>12</th>\n",
              "      <td>GaussianNB</td>\n",
              "      <td>{'priors': None, 'var_smoothing': 1e-09}</td>\n",
              "      <td>0.808801</td>\n",
              "      <td>0.794403</td>\n",
              "      <td>0.0744971</td>\n",
              "      <td>0.00525331</td>\n",
              "    </tr>\n",
              "    <tr>\n",
              "      <th>11</th>\n",
              "      <td>BernoulliNB</td>\n",
              "      <td>{'alpha': 1.0, 'binarize': 0.0, 'class_prior':...</td>\n",
              "      <td>0.79588</td>\n",
              "      <td>0.786567</td>\n",
              "      <td>0.0534039</td>\n",
              "      <td>0.00514092</td>\n",
              "    </tr>\n",
              "    <tr>\n",
              "      <th>17</th>\n",
              "      <td>DecisionTreeClassifier</td>\n",
              "      <td>{'ccp_alpha': 0.0, 'class_weight': None, 'crit...</td>\n",
              "      <td>0.990262</td>\n",
              "      <td>0.772388</td>\n",
              "      <td>0.0660353</td>\n",
              "      <td>0.00694885</td>\n",
              "    </tr>\n",
              "    <tr>\n",
              "      <th>18</th>\n",
              "      <td>ExtraTreeClassifier</td>\n",
              "      <td>{'ccp_alpha': 0.0, 'class_weight': None, 'crit...</td>\n",
              "      <td>0.990262</td>\n",
              "      <td>0.768657</td>\n",
              "      <td>0.0572977</td>\n",
              "      <td>0.00546803</td>\n",
              "    </tr>\n",
              "    <tr>\n",
              "      <th>16</th>\n",
              "      <td>LinearSVC</td>\n",
              "      <td>{'C': 1.0, 'class_weight': None, 'dual': True,...</td>\n",
              "      <td>0.757303</td>\n",
              "      <td>0.750746</td>\n",
              "      <td>0.232922</td>\n",
              "      <td>0.102451</td>\n",
              "    </tr>\n",
              "    <tr>\n",
              "      <th>7</th>\n",
              "      <td>PassiveAggressiveClassifier</td>\n",
              "      <td>{'C': 1.0, 'average': False, 'class_weight': N...</td>\n",
              "      <td>0.759176</td>\n",
              "      <td>0.742164</td>\n",
              "      <td>0.119252</td>\n",
              "      <td>0.0059912</td>\n",
              "    </tr>\n",
              "    <tr>\n",
              "      <th>13</th>\n",
              "      <td>KNeighborsClassifier</td>\n",
              "      <td>{'algorithm': 'auto', 'leaf_size': 30, 'metric...</td>\n",
              "      <td>0.798315</td>\n",
              "      <td>0.738806</td>\n",
              "      <td>0.0723727</td>\n",
              "      <td>0.0104395</td>\n",
              "    </tr>\n",
              "    <tr>\n",
              "      <th>5</th>\n",
              "      <td>GaussianProcessClassifier</td>\n",
              "      <td>{'copy_X_train': True, 'kernel': None, 'max_it...</td>\n",
              "      <td>0.968727</td>\n",
              "      <td>0.733582</td>\n",
              "      <td>0.054885</td>\n",
              "      <td>0.78539</td>\n",
              "    </tr>\n",
              "    <tr>\n",
              "      <th>10</th>\n",
              "      <td>Perceptron</td>\n",
              "      <td>{'alpha': 0.0001, 'class_weight': None, 'early...</td>\n",
              "      <td>0.690824</td>\n",
              "      <td>0.686567</td>\n",
              "      <td>0.337236</td>\n",
              "      <td>0.00665376</td>\n",
              "    </tr>\n",
              "    <tr>\n",
              "      <th>14</th>\n",
              "      <td>SVC</td>\n",
              "      <td>{'C': 1.0, 'break_ties': False, 'cache_size': ...</td>\n",
              "      <td>0.688951</td>\n",
              "      <td>0.685075</td>\n",
              "      <td>0.06356</td>\n",
              "      <td>0.199367</td>\n",
              "    </tr>\n",
              "    <tr>\n",
              "      <th>9</th>\n",
              "      <td>SGDClassifier</td>\n",
              "      <td>{'alpha': 0.0001, 'average': False, 'class_wei...</td>\n",
              "      <td>0.681461</td>\n",
              "      <td>0.679104</td>\n",
              "      <td>0.283145</td>\n",
              "      <td>0.00947838</td>\n",
              "    </tr>\n",
              "    <tr>\n",
              "      <th>20</th>\n",
              "      <td>QuadraticDiscriminantAnalysis</td>\n",
              "      <td>{'priors': None, 'reg_param': 0.0, 'store_cova...</td>\n",
              "      <td>0.615169</td>\n",
              "      <td>0.614925</td>\n",
              "      <td>0.0418243</td>\n",
              "      <td>0.00642898</td>\n",
              "    </tr>\n",
              "  </tbody>\n",
              "</table>\n",
              "</div>"
            ],
            "text/plain": [
              "                         MLA Name  ...    MLA Time\n",
              "3      GradientBoostingClassifier  ...    0.342137\n",
              "21                  XGBClassifier  ...     0.21118\n",
              "6            LogisticRegressionCV  ...     3.96617\n",
              "19     LinearDiscriminantAnalysis  ...  0.00863214\n",
              "0              AdaBoostClassifier  ...    0.273806\n",
              "8               RidgeClassifierCV  ...   0.0190806\n",
              "4          RandomForestClassifier  ...    0.562702\n",
              "1               BaggingClassifier  ...   0.0831703\n",
              "15                          NuSVC  ...     0.25753\n",
              "2            ExtraTreesClassifier  ...    0.427992\n",
              "12                     GaussianNB  ...  0.00525331\n",
              "11                    BernoulliNB  ...  0.00514092\n",
              "17         DecisionTreeClassifier  ...  0.00694885\n",
              "18            ExtraTreeClassifier  ...  0.00546803\n",
              "16                      LinearSVC  ...    0.102451\n",
              "7     PassiveAggressiveClassifier  ...   0.0059912\n",
              "13           KNeighborsClassifier  ...   0.0104395\n",
              "5       GaussianProcessClassifier  ...     0.78539\n",
              "10                     Perceptron  ...  0.00665376\n",
              "14                            SVC  ...    0.199367\n",
              "9                   SGDClassifier  ...  0.00947838\n",
              "20  QuadraticDiscriminantAnalysis  ...  0.00642898\n",
              "\n",
              "[22 rows x 6 columns]"
            ]
          },
          "metadata": {
            "tags": []
          },
          "execution_count": 46
        }
      ]
    },
    {
      "cell_type": "markdown",
      "metadata": {
        "id": "JgJ0165S1yzT"
      },
      "source": [
        "#### 테스트2: Voting 분류 알고리즘\n",
        "- 다양한 알고리즘의 결과를 앙상블한 결과\n",
        "    - hard voting: 다수결\n",
        "    - soft voting: 결과 분포 결합\n",
        "\n",
        "![Image](https://img1.daumcdn.net/thumb/R1280x0/?scode=mtistory2&fname=https%3A%2F%2Fblog.kakaocdn.net%2Fdn%2FbqMaUT%2FbtqznQXVLjj%2FptcExgp4hOjGKOKIEvTIbK%2Fimg.png)\n"
      ]
    },
    {
      "cell_type": "code",
      "metadata": {
        "id": "WGxA9HFM1yzT",
        "colab": {
          "base_uri": "https://localhost:8080/"
        },
        "outputId": "c071ee5a-286c-4cac-ef7d-c9998ecc4982"
      },
      "source": [
        "vote_est = [\n",
        "    #Ensemble Methods: http://scikit-learn.org/stable/modules/ensemble.html\n",
        "    ('ada', ensemble.AdaBoostClassifier()),\n",
        "    ('bc', ensemble.BaggingClassifier()),\n",
        "    ('etc',ensemble.ExtraTreesClassifier()),\n",
        "    ('gbc', ensemble.GradientBoostingClassifier()),\n",
        "    ('rfc', ensemble.RandomForestClassifier()),\n",
        "\n",
        "    #Gaussian Processes: http://scikit-learn.org/stable/modules/gaussian_process.html#gaussian-process-classification-gpc\n",
        "    ('gpc', gaussian_process.GaussianProcessClassifier()),\n",
        "    \n",
        "    #GLM: http://scikit-learn.org/stable/modules/linear_model.html#logistic-regression\n",
        "    ('lr', linear_model.LogisticRegressionCV()),\n",
        "    \n",
        "    #Navies Bayes: http://scikit-learn.org/stable/modules/naive_bayes.html\n",
        "    ('bnb', naive_bayes.BernoulliNB()),\n",
        "    ('gnb', naive_bayes.GaussianNB()),\n",
        "    \n",
        "    #Nearest Neighbor: http://scikit-learn.org/stable/modules/neighbors.html\n",
        "    ('knn', neighbors.KNeighborsClassifier()),\n",
        "    \n",
        "    #SVM: http://scikit-learn.org/stable/modules/svm.html\n",
        "    ('svc', svm.SVC(probability=True)),\n",
        "    \n",
        "    #xgboost: http://xgboost.readthedocs.io/en/latest/model.html\n",
        "   ('xgb', XGBClassifier())\n",
        "\n",
        "]\n",
        "\n",
        "\n",
        "#Hard Vote or majority rules\n",
        "vote_hard = ensemble.VotingClassifier(estimators = vote_est , voting = 'hard')\n",
        "vote_hard_cv = model_selection.cross_validate(vote_hard, data1[Input_col], data1[Target], cv  = cv_split, return_train_score = True, n_jobs=4)\n",
        "vote_hard.fit(data1[Input_col], data1[Target])\n",
        "\n",
        "print(\"Hard Voting Training w/bin score mean: {:.2f}\". format(vote_hard_cv['train_score'].mean()*100)) \n",
        "print(\"Hard Voting Test w/bin score mean: {:.2f}\". format(vote_hard_cv['test_score'].mean()*100))\n",
        "print(\"Hard Voting Test w/bin score 3*std: +/- {:.2f}\". format(vote_hard_cv['test_score'].std()*100*3))\n",
        "print('-'*10)\n",
        "\n",
        "\n",
        "#Soft Vote or weighted probabilities\n",
        "vote_soft = ensemble.VotingClassifier(estimators = vote_est , voting = 'soft')\n",
        "vote_soft_cv = model_selection.cross_validate(vote_soft, data1[Input_col], data1[Target], cv  = cv_split, return_train_score = True, n_jobs=4)\n",
        "vote_soft.fit(data1[Input_col], data1[Target])\n",
        "\n",
        "print(\"Soft Voting Training w/bin score mean: {:.2f}\". format(vote_soft_cv['train_score'].mean()*100)) \n",
        "print(\"Soft Voting Test w/bin score mean: {:.2f}\". format(vote_soft_cv['test_score'].mean()*100))\n",
        "print(\"Soft Voting Test w/bin score 3*std: +/- {:.2f}\". format(vote_soft_cv['test_score'].std()*100*3))\n",
        "print('-'*10)"
      ],
      "execution_count": null,
      "outputs": [
        {
          "output_type": "stream",
          "text": [
            "Hard Voting Training w/bin score mean: 93.24\n",
            "Hard Voting Test w/bin score mean: 83.25\n",
            "Hard Voting Test w/bin score 3*std: +/- 7.14\n",
            "----------\n",
            "Soft Voting Training w/bin score mean: 92.88\n",
            "Soft Voting Test w/bin score mean: 82.91\n",
            "Soft Voting Test w/bin score 3*std: +/- 6.50\n",
            "----------\n"
          ],
          "name": "stdout"
        }
      ]
    },
    {
      "cell_type": "markdown",
      "metadata": {
        "id": "grtxhytX1yzU"
      },
      "source": [
        "#### 테스트3: 파라미터 최적화\n",
        "- 각 모델의 파라미터 범위 설정\n",
        "- 범위 안에서 모델 성능이 가장 좋은 파리미터를 찾음\n",
        "- 범위에 따라서 탐색 시간이 증가\n",
        "\n",
        "- GridSearchCV: CV로 파라미터 Grid search\n",
        "- vote_est: 파라미터 탐색 후 파라미터가 저장된 모델 클래스를 갖고있음"
      ]
    },
    {
      "cell_type": "code",
      "metadata": {
        "id": "fxSuNzg71yzU",
        "colab": {
          "base_uri": "https://localhost:8080/"
        },
        "outputId": "c559b167-f343-4c1d-99e4-1a4ae72ca572"
      },
      "source": [
        "#WARNING: Running is very computational intensive and time expensive.\n",
        "#Code is written for experimental/developmental purposes and not production ready!\n",
        "import time\n",
        "\n",
        "#Hyperparameter Tune with GridSearchCV: http://scikit-learn.org/stable/modules/generated/sklearn.model_selection.GridSearchCV.html\n",
        "grid_n_estimator = [10, 50, 100, 300]\n",
        "grid_ratio = [.1, .25, .5, .75, 1.0]\n",
        "grid_learn = [.01, .03, .05, .1, .25]\n",
        "grid_max_depth = [2, 4, 6, 8, 10, None]\n",
        "grid_min_samples = [5, 10, .03, .05, .10]\n",
        "grid_criterion = ['gini', 'entropy']\n",
        "grid_bool = [True, False]\n",
        "grid_seed = [0]\n",
        "\n",
        "\n",
        "grid_param = [\n",
        "            [{\n",
        "            #AdaBoostClassifier - http://scikit-learn.org/stable/modules/generated/sklearn.ensemble.AdaBoostClassifier.html\n",
        "            'n_estimators': grid_n_estimator, #default=50\n",
        "            'learning_rate': grid_learn, #default=1\n",
        "            #'algorithm': ['SAMME', 'SAMME.R'], #default=’SAMME.R\n",
        "            'random_state': grid_seed\n",
        "            }],\n",
        "       \n",
        "    \n",
        "            [{\n",
        "            #BaggingClassifier - http://scikit-learn.org/stable/modules/generated/sklearn.ensemble.BaggingClassifier.html#sklearn.ensemble.BaggingClassifier\n",
        "            'n_estimators': grid_n_estimator, #default=10\n",
        "            'max_samples': grid_ratio, #default=1.0\n",
        "            'random_state': grid_seed\n",
        "             }],\n",
        "\n",
        "    \n",
        "            [{\n",
        "            #ExtraTreesClassifier - http://scikit-learn.org/stable/modules/generated/sklearn.ensemble.ExtraTreesClassifier.html#sklearn.ensemble.ExtraTreesClassifier\n",
        "            'n_estimators': grid_n_estimator, #default=10\n",
        "            'criterion': grid_criterion, #default=”gini”\n",
        "            'max_depth': grid_max_depth, #default=None\n",
        "            'random_state': grid_seed\n",
        "             }],\n",
        "\n",
        "\n",
        "            [{\n",
        "            #GradientBoostingClassifier - http://scikit-learn.org/stable/modules/generated/sklearn.ensemble.GradientBoostingClassifier.html#sklearn.ensemble.GradientBoostingClassifier\n",
        "            #'loss': ['deviance', 'exponential'], #default=’deviance’\n",
        "            'learning_rate': [.05], #default=0.1 -- 12/31/17 set to reduce runtime -- The best parameter for GradientBoostingClassifier is {'learning_rate': 0.05, 'max_depth': 2, 'n_estimators': 300, 'random_state': 0} with a runtime of 264.45 seconds.\n",
        "            'n_estimators': [300], #default=100 -- 12/31/17 set to reduce runtime -- The best parameter for GradientBoostingClassifier is {'learning_rate': 0.05, 'max_depth': 2, 'n_estimators': 300, 'random_state': 0} with a runtime of 264.45 seconds.\n",
        "            #'criterion': ['friedman_mse', 'mse', 'mae'], #default=”friedman_mse”\n",
        "            'max_depth': grid_max_depth, #default=3   \n",
        "            'random_state': grid_seed\n",
        "             }],\n",
        "\n",
        "    \n",
        "            [{\n",
        "            #RandomForestClassifier - http://scikit-learn.org/stable/modules/generated/sklearn.ensemble.RandomForestClassifier.html#sklearn.ensemble.RandomForestClassifier\n",
        "            'n_estimators': grid_n_estimator, #default=10\n",
        "            'criterion': grid_criterion, #default=”gini”\n",
        "            'max_depth': grid_max_depth, #default=None\n",
        "            'oob_score': [True], #default=False -- 12/31/17 set to reduce runtime -- The best parameter for RandomForestClassifier is {'criterion': 'entropy', 'max_depth': 6, 'n_estimators': 100, 'oob_score': True, 'random_state': 0} with a runtime of 146.35 seconds.\n",
        "            'random_state': grid_seed\n",
        "             }],\n",
        "    \n",
        "            [{    \n",
        "            #GaussianProcessClassifier\n",
        "            'max_iter_predict': grid_n_estimator, #default: 100\n",
        "            'random_state': grid_seed\n",
        "            }],\n",
        "        \n",
        "    \n",
        "            [{\n",
        "            #LogisticRegressionCV - http://scikit-learn.org/stable/modules/generated/sklearn.linear_model.LogisticRegressionCV.html#sklearn.linear_model.LogisticRegressionCV\n",
        "            'fit_intercept': grid_bool, #default: True\n",
        "            #'penalty': ['l1','l2'],\n",
        "            'solver': ['newton-cg', 'lbfgs', 'liblinear', 'sag', 'saga'], #default: lbfgs\n",
        "            'random_state': grid_seed\n",
        "             }],\n",
        "            \n",
        "    \n",
        "            [{\n",
        "            #BernoulliNB - http://scikit-learn.org/stable/modules/generated/sklearn.naive_bayes.BernoulliNB.html#sklearn.naive_bayes.BernoulliNB\n",
        "            'alpha': grid_ratio, #default: 1.0\n",
        "             }],\n",
        "    \n",
        "    \n",
        "            #GaussianNB - \n",
        "            [{}],\n",
        "    \n",
        "            [{\n",
        "            #KNeighborsClassifier - http://scikit-learn.org/stable/modules/generated/sklearn.neighbors.KNeighborsClassifier.html#sklearn.neighbors.KNeighborsClassifier\n",
        "            'n_neighbors': [1,2,3,4,5,6,7], #default: 5\n",
        "            'weights': ['uniform', 'distance'], #default = ‘uniform’\n",
        "            'algorithm': ['auto', 'ball_tree', 'kd_tree', 'brute']\n",
        "            }],\n",
        "            \n",
        "    \n",
        "            [{\n",
        "            #SVC - http://scikit-learn.org/stable/modules/generated/sklearn.svm.SVC.html#sklearn.svm.SVC\n",
        "            #http://blog.hackerearth.com/simple-tutorial-svm-parameter-tuning-python-r\n",
        "            #'kernel': ['linear', 'poly', 'rbf', 'sigmoid'],\n",
        "            'C': [1,2,3,4,5], #default=1.0\n",
        "            'gamma': grid_ratio, #edfault: auto\n",
        "            'decision_function_shape': ['ovo', 'ovr'], #default:ovr\n",
        "            'probability': [True],\n",
        "            'random_state': grid_seed\n",
        "             }],\n",
        "\n",
        "    \n",
        "            [{\n",
        "            #XGBClassifier - http://xgboost.readthedocs.io/en/latest/parameter.html\n",
        "            'learning_rate': grid_learn, #default: .3\n",
        "            'max_depth': [1,2,4,6,8,10], #default 2\n",
        "            'n_estimators': grid_n_estimator, \n",
        "            'seed': grid_seed  \n",
        "             }]   \n",
        "        ]\n",
        "\n",
        "\n",
        "\n",
        "start_total = time.perf_counter() #https://docs.python.org/3/library/time.html#time.perf_counter\n",
        "for clf, param in zip (vote_est, grid_param): #https://docs.python.org/3/library/functions.html#zip\n",
        "\n",
        "    #print(clf[1]) #vote_est is a list of tuples, index 0 is the name and index 1 is the algorithm\n",
        "    #print(param)\n",
        "    \n",
        "    \n",
        "    start = time.perf_counter()        \n",
        "    best_search = model_selection.GridSearchCV(estimator = clf[1], param_grid = param, cv = cv_split, scoring = 'roc_auc', n_jobs=8)\n",
        "    best_search.fit(data1[Input_col], data1[Target])\n",
        "    run = time.perf_counter() - start\n",
        "\n",
        "    best_param = best_search.best_params_\n",
        "    print('The best parameter for {} is {} with a runtime of {:.2f} seconds.'.format(clf[1].__class__.__name__, best_param, run))\n",
        "    clf[1].set_params(**best_param) \n",
        "\n",
        "\n",
        "run_total = time.perf_counter() - start_total\n",
        "print('Total optimization time was {:.2f} minutes.'.format(run_total/60))\n",
        "\n",
        "print('-'*10)\n"
      ],
      "execution_count": null,
      "outputs": [
        {
          "output_type": "stream",
          "text": [
            "The best parameter for AdaBoostClassifier is {'learning_rate': 0.05, 'n_estimators': 300, 'random_state': 0} with a runtime of 44.75 seconds.\n",
            "The best parameter for BaggingClassifier is {'max_samples': 0.5, 'n_estimators': 300, 'random_state': 0} with a runtime of 44.08 seconds.\n",
            "The best parameter for ExtraTreesClassifier is {'criterion': 'entropy', 'max_depth': 8, 'n_estimators': 100, 'random_state': 0} with a runtime of 70.64 seconds.\n",
            "The best parameter for GradientBoostingClassifier is {'learning_rate': 0.05, 'max_depth': 2, 'n_estimators': 300, 'random_state': 0} with a runtime of 50.28 seconds.\n",
            "The best parameter for RandomForestClassifier is {'criterion': 'entropy', 'max_depth': 8, 'n_estimators': 300, 'oob_score': True, 'random_state': 0} with a runtime of 114.62 seconds.\n",
            "The best parameter for GaussianProcessClassifier is {'max_iter_predict': 10, 'random_state': 0} with a runtime of 10.89 seconds.\n",
            "The best parameter for LogisticRegressionCV is {'fit_intercept': True, 'random_state': 0, 'solver': 'lbfgs'} with a runtime of 59.78 seconds.\n",
            "The best parameter for BernoulliNB is {'alpha': 0.25} with a runtime of 0.48 seconds.\n",
            "The best parameter for GaussianNB is {} with a runtime of 0.10 seconds.\n",
            "The best parameter for KNeighborsClassifier is {'algorithm': 'brute', 'n_neighbors': 7, 'weights': 'distance'} with a runtime of 5.77 seconds.\n",
            "The best parameter for SVC is {'C': 2, 'decision_function_shape': 'ovo', 'gamma': 0.1, 'probability': True, 'random_state': 0} with a runtime of 43.12 seconds.\n",
            "The best parameter for XGBClassifier is {'learning_rate': 0.05, 'max_depth': 2, 'n_estimators': 300, 'seed': 0} with a runtime of 89.42 seconds.\n",
            "Total optimization time was 8.90 minutes.\n",
            "----------\n"
          ],
          "name": "stdout"
        }
      ]
    },
    {
      "cell_type": "markdown",
      "metadata": {
        "id": "uZhlE5n91yzU"
      },
      "source": [
        "#### 테스트4: 최적화된 파라미터 개별 성능 측정 및 테스트 1과 비교"
      ]
    },
    {
      "cell_type": "code",
      "metadata": {
        "id": "nCFUK1QS1yzU"
      },
      "source": [
        "Target = ['Survived']\n",
        "Input_col = ['Pclass', 'Sex', 'Age', 'SibSp', 'Parch', 'Fare', 'Cabin', 'S', 'C', 'Q', 0, 1, 2, 3, 4, 'familySize', 'FareBin', 'AgeBin', 'isAlone']\n",
        "\n",
        "#create table to compare MLA metrics\n",
        "MLA_columns_opt = ['MLA Name', 'MLA Parameters opt','MLA Train Accuracy Mean opt', 'MLA Test Accuracy Mean opt', 'MLA Test Accuracy 3*STD opt' ,'MLA Time opt']\n",
        "MLA_compare_opt = pd.DataFrame(columns = MLA_columns_opt)\n",
        "\n",
        "#create table to compare MLA predictions\n",
        "MLA_predict_opt = data1[Target]\n",
        "\n",
        "#index through MLA and save performance to table\n",
        "row_index = 0\n",
        "for algs in vote_est:\n",
        "    alg = algs[1]\n",
        "    #set name and parameters\n",
        "    MLA_name = alg.__class__.__name__\n",
        "    MLA_compare_opt.loc[row_index, 'MLA Name'] = MLA_name\n",
        "    MLA_compare_opt.loc[row_index, 'MLA Parameters opt'] = str(alg.get_params())\n",
        "    \n",
        "    #score model with cross validation: http://scikit-learn.org/stable/modules/generated/sklearn.model_selection.cross_validate.html#sklearn.model_selection.cross_validate\n",
        "    cv_results = model_selection.cross_validate(alg, data1[Input_col], data1[Target], cv  = cv_split, return_train_score = True, n_jobs=8)\n",
        "\n",
        "    MLA_compare_opt.loc[row_index, 'MLA Time opt'] = cv_results['fit_time'].mean()\n",
        "    MLA_compare_opt.loc[row_index, 'MLA Train Accuracy Mean opt'] = cv_results['train_score'].mean()\n",
        "    MLA_compare_opt.loc[row_index, 'MLA Test Accuracy Mean opt'] = cv_results['test_score'].mean()   \n",
        "    \n",
        "    #if this is a non-bias random sample, then +/-3 standard deviations (std) from the mean, should statistically capture 99.7% of the subsets\n",
        "    MLA_compare_opt.loc[row_index, 'MLA Test Accuracy 3*STD opt'] = cv_results['test_score'].std()*3   #let's know the worst that can happen!\n",
        "    \n",
        "\n",
        "    #save MLA predictions - see section 6 for usage\n",
        "    alg.fit(data1[Input_col], data1[Target])\n",
        "    MLA_predict_opt[MLA_name] = alg.predict(data1[Input_col])\n",
        "    \n",
        "    row_index+=1\n",
        "\n",
        "    \n",
        "#print and sort table: https://pandas.pydata.org/pandas-docs/stable/generated/pandas.DataFrame.sort_values.html\n",
        "MLA_compare_opt.sort_values(by = ['MLA Test Accuracy Mean opt'], ascending = False, inplace = True)"
      ],
      "execution_count": null,
      "outputs": []
    },
    {
      "cell_type": "code",
      "metadata": {
        "id": "YZm7hRPp1yzU",
        "colab": {
          "base_uri": "https://localhost:8080/",
          "height": 688
        },
        "outputId": "4859cc93-0d1e-4544-cb2b-1372da8f3b39"
      },
      "source": [
        "pd.merge(MLA_compare, MLA_compare_opt, on='MLA Name')"
      ],
      "execution_count": null,
      "outputs": [
        {
          "output_type": "execute_result",
          "data": {
            "text/html": [
              "<div>\n",
              "<style scoped>\n",
              "    .dataframe tbody tr th:only-of-type {\n",
              "        vertical-align: middle;\n",
              "    }\n",
              "\n",
              "    .dataframe tbody tr th {\n",
              "        vertical-align: top;\n",
              "    }\n",
              "\n",
              "    .dataframe thead th {\n",
              "        text-align: right;\n",
              "    }\n",
              "</style>\n",
              "<table border=\"1\" class=\"dataframe\">\n",
              "  <thead>\n",
              "    <tr style=\"text-align: right;\">\n",
              "      <th></th>\n",
              "      <th>MLA Name</th>\n",
              "      <th>MLA Parameters</th>\n",
              "      <th>MLA Train Accuracy Mean</th>\n",
              "      <th>MLA Test Accuracy Mean</th>\n",
              "      <th>MLA Test Accuracy 3*STD</th>\n",
              "      <th>MLA Time</th>\n",
              "      <th>MLA Parameters opt</th>\n",
              "      <th>MLA Train Accuracy Mean opt</th>\n",
              "      <th>MLA Test Accuracy Mean opt</th>\n",
              "      <th>MLA Test Accuracy 3*STD opt</th>\n",
              "      <th>MLA Time opt</th>\n",
              "    </tr>\n",
              "  </thead>\n",
              "  <tbody>\n",
              "    <tr>\n",
              "      <th>0</th>\n",
              "      <td>GradientBoostingClassifier</td>\n",
              "      <td>{'ccp_alpha': 0.0, 'criterion': 'friedman_mse'...</td>\n",
              "      <td>0.922097</td>\n",
              "      <td>0.833955</td>\n",
              "      <td>0.0613633</td>\n",
              "      <td>0.342137</td>\n",
              "      <td>{'ccp_alpha': 0.0, 'criterion': 'friedman_mse'...</td>\n",
              "      <td>0.890075</td>\n",
              "      <td>0.829104</td>\n",
              "      <td>0.0612713</td>\n",
              "      <td>1.06132</td>\n",
              "    </tr>\n",
              "    <tr>\n",
              "      <th>1</th>\n",
              "      <td>XGBClassifier</td>\n",
              "      <td>{'base_score': 0.5, 'booster': 'gbtree', 'cols...</td>\n",
              "      <td>0.897004</td>\n",
              "      <td>0.830597</td>\n",
              "      <td>0.0631645</td>\n",
              "      <td>0.21118</td>\n",
              "      <td>{'base_score': 0.5, 'booster': 'gbtree', 'cols...</td>\n",
              "      <td>0.876404</td>\n",
              "      <td>0.826493</td>\n",
              "      <td>0.0660827</td>\n",
              "      <td>0.419976</td>\n",
              "    </tr>\n",
              "    <tr>\n",
              "      <th>2</th>\n",
              "      <td>LogisticRegressionCV</td>\n",
              "      <td>{'Cs': 10, 'class_weight': None, 'cv': None, '...</td>\n",
              "      <td>0.834831</td>\n",
              "      <td>0.827985</td>\n",
              "      <td>0.0674342</td>\n",
              "      <td>3.96617</td>\n",
              "      <td>{'Cs': 10, 'class_weight': None, 'cv': None, '...</td>\n",
              "      <td>0.834831</td>\n",
              "      <td>0.827985</td>\n",
              "      <td>0.0674342</td>\n",
              "      <td>7.62719</td>\n",
              "    </tr>\n",
              "    <tr>\n",
              "      <th>3</th>\n",
              "      <td>AdaBoostClassifier</td>\n",
              "      <td>{'algorithm': 'SAMME.R', 'base_estimator': Non...</td>\n",
              "      <td>0.852622</td>\n",
              "      <td>0.817537</td>\n",
              "      <td>0.0647805</td>\n",
              "      <td>0.273806</td>\n",
              "      <td>{'algorithm': 'SAMME.R', 'base_estimator': Non...</td>\n",
              "      <td>0.839139</td>\n",
              "      <td>0.820896</td>\n",
              "      <td>0.0652718</td>\n",
              "      <td>2.20898</td>\n",
              "    </tr>\n",
              "    <tr>\n",
              "      <th>4</th>\n",
              "      <td>RandomForestClassifier</td>\n",
              "      <td>{'bootstrap': True, 'ccp_alpha': 0.0, 'class_w...</td>\n",
              "      <td>0.990075</td>\n",
              "      <td>0.813433</td>\n",
              "      <td>0.0453324</td>\n",
              "      <td>0.562702</td>\n",
              "      <td>{'bootstrap': True, 'ccp_alpha': 0.0, 'class_w...</td>\n",
              "      <td>0.923034</td>\n",
              "      <td>0.829478</td>\n",
              "      <td>0.0607063</td>\n",
              "      <td>2.82918</td>\n",
              "    </tr>\n",
              "    <tr>\n",
              "      <th>5</th>\n",
              "      <td>BaggingClassifier</td>\n",
              "      <td>{'base_estimator': None, 'bootstrap': True, 'b...</td>\n",
              "      <td>0.973221</td>\n",
              "      <td>0.810821</td>\n",
              "      <td>0.0872919</td>\n",
              "      <td>0.0831703</td>\n",
              "      <td>{'base_estimator': None, 'bootstrap': True, 'b...</td>\n",
              "      <td>0.941011</td>\n",
              "      <td>0.830597</td>\n",
              "      <td>0.0711856</td>\n",
              "      <td>2.48312</td>\n",
              "    </tr>\n",
              "    <tr>\n",
              "      <th>6</th>\n",
              "      <td>ExtraTreesClassifier</td>\n",
              "      <td>{'bootstrap': False, 'ccp_alpha': 0.0, 'class_...</td>\n",
              "      <td>0.990262</td>\n",
              "      <td>0.795522</td>\n",
              "      <td>0.0612713</td>\n",
              "      <td>0.427992</td>\n",
              "      <td>{'bootstrap': False, 'ccp_alpha': 0.0, 'class_...</td>\n",
              "      <td>0.901124</td>\n",
              "      <td>0.826493</td>\n",
              "      <td>0.0464923</td>\n",
              "      <td>0.525825</td>\n",
              "    </tr>\n",
              "    <tr>\n",
              "      <th>7</th>\n",
              "      <td>GaussianNB</td>\n",
              "      <td>{'priors': None, 'var_smoothing': 1e-09}</td>\n",
              "      <td>0.808801</td>\n",
              "      <td>0.794403</td>\n",
              "      <td>0.0744971</td>\n",
              "      <td>0.00525331</td>\n",
              "      <td>{'priors': None, 'var_smoothing': 1e-09}</td>\n",
              "      <td>0.808801</td>\n",
              "      <td>0.794403</td>\n",
              "      <td>0.0744971</td>\n",
              "      <td>0.00476086</td>\n",
              "    </tr>\n",
              "    <tr>\n",
              "      <th>8</th>\n",
              "      <td>BernoulliNB</td>\n",
              "      <td>{'alpha': 1.0, 'binarize': 0.0, 'class_prior':...</td>\n",
              "      <td>0.79588</td>\n",
              "      <td>0.786567</td>\n",
              "      <td>0.0534039</td>\n",
              "      <td>0.00514092</td>\n",
              "      <td>{'alpha': 0.25, 'binarize': 0.0, 'class_prior'...</td>\n",
              "      <td>0.796067</td>\n",
              "      <td>0.786194</td>\n",
              "      <td>0.0534625</td>\n",
              "      <td>0.00591915</td>\n",
              "    </tr>\n",
              "    <tr>\n",
              "      <th>9</th>\n",
              "      <td>KNeighborsClassifier</td>\n",
              "      <td>{'algorithm': 'auto', 'leaf_size': 30, 'metric...</td>\n",
              "      <td>0.798315</td>\n",
              "      <td>0.738806</td>\n",
              "      <td>0.0723727</td>\n",
              "      <td>0.0104395</td>\n",
              "      <td>{'algorithm': 'brute', 'leaf_size': 30, 'metri...</td>\n",
              "      <td>0.990262</td>\n",
              "      <td>0.739925</td>\n",
              "      <td>0.0785259</td>\n",
              "      <td>0.00647662</td>\n",
              "    </tr>\n",
              "    <tr>\n",
              "      <th>10</th>\n",
              "      <td>GaussianProcessClassifier</td>\n",
              "      <td>{'copy_X_train': True, 'kernel': None, 'max_it...</td>\n",
              "      <td>0.968727</td>\n",
              "      <td>0.733582</td>\n",
              "      <td>0.054885</td>\n",
              "      <td>0.78539</td>\n",
              "      <td>{'copy_X_train': True, 'kernel': None, 'max_it...</td>\n",
              "      <td>0.968727</td>\n",
              "      <td>0.733582</td>\n",
              "      <td>0.054885</td>\n",
              "      <td>1.17012</td>\n",
              "    </tr>\n",
              "    <tr>\n",
              "      <th>11</th>\n",
              "      <td>SVC</td>\n",
              "      <td>{'C': 1.0, 'break_ties': False, 'cache_size': ...</td>\n",
              "      <td>0.688951</td>\n",
              "      <td>0.685075</td>\n",
              "      <td>0.06356</td>\n",
              "      <td>0.199367</td>\n",
              "      <td>{'C': 2, 'break_ties': False, 'cache_size': 20...</td>\n",
              "      <td>0.94382</td>\n",
              "      <td>0.727985</td>\n",
              "      <td>0.0605824</td>\n",
              "      <td>0.430172</td>\n",
              "    </tr>\n",
              "  </tbody>\n",
              "</table>\n",
              "</div>"
            ],
            "text/plain": [
              "                      MLA Name  ... MLA Time opt\n",
              "0   GradientBoostingClassifier  ...      1.06132\n",
              "1                XGBClassifier  ...     0.419976\n",
              "2         LogisticRegressionCV  ...      7.62719\n",
              "3           AdaBoostClassifier  ...      2.20898\n",
              "4       RandomForestClassifier  ...      2.82918\n",
              "5            BaggingClassifier  ...      2.48312\n",
              "6         ExtraTreesClassifier  ...     0.525825\n",
              "7                   GaussianNB  ...   0.00476086\n",
              "8                  BernoulliNB  ...   0.00591915\n",
              "9         KNeighborsClassifier  ...   0.00647662\n",
              "10   GaussianProcessClassifier  ...      1.17012\n",
              "11                         SVC  ...     0.430172\n",
              "\n",
              "[12 rows x 11 columns]"
            ]
          },
          "metadata": {
            "tags": []
          },
          "execution_count": 50
        }
      ]
    },
    {
      "cell_type": "markdown",
      "metadata": {
        "id": "bS748oXj1yzU"
      },
      "source": [
        "#### 테스트5: 파라미터 최적화 후 Voting 분류 알고리즘\n",
        "- 최적화된 파리미터 저장: vote_est\n",
        "- 최적화된 파라미터로 hard / soft vote 모델링\n",
        "- hard vote\n",
        "    - train 에러: 파라미터 최적화 전보다 감소 -> 오버피팅 감소\n",
        "    - test 에러 : 파라미터 최적화 전보다 증가 -> 오버피팅 감소로 인한 성능 향상\n",
        "- soft vote\n",
        "    - train 에러: 파라미터 최적화 전보다 감소 -> 오버피팅 감소\n",
        "    - test 에러 : 파라미터 최적화 전보다 감소 -> 오버피팅 감소가 아닌 전체적 성능 하락으로 판단/ 단 모델 분산 감소\n",
        "    "
      ]
    },
    {
      "cell_type": "code",
      "metadata": {
        "scrolled": true,
        "id": "twZnIxIv1yzU",
        "colab": {
          "base_uri": "https://localhost:8080/"
        },
        "outputId": "0513d20c-ca97-43a3-8571-8c06cbd33ecf"
      },
      "source": [
        "start_total = time.perf_counter() #https://docs.python.org/3/library/time.html#time.perf_counter\n",
        "#Hard Vote or majority rules w/Tuned Hyperparameters\n",
        "grid_hard = ensemble.VotingClassifier(estimators = vote_est , voting = 'hard')\n",
        "grid_hard_cv = model_selection.cross_validate(grid_hard, data1[Input_col], data1[Target], cv  = cv_split, return_train_score = True, n_jobs=4)\n",
        "grid_hard.fit(data1[Input_col], data1[Target])\n",
        "\n",
        "print(\"Hard Voting w/Tuned Hyperparameters Training w/bin score mean: {:.2f}\". format(grid_hard_cv['train_score'].mean()*100)) \n",
        "print(\"Hard Voting w/Tuned Hyperparameters Test w/bin score mean: {:.2f}\". format(grid_hard_cv['test_score'].mean()*100))\n",
        "print(\"Hard Voting w/Tuned Hyperparameters Test w/bin score 3*std: +/- {:.2f}\". format(grid_hard_cv['test_score'].std()*100*3))\n",
        "print('-'*10)\n",
        "\n",
        "#Soft Vote or weighted probabilities w/Tuned Hyperparameters\n",
        "grid_soft = ensemble.VotingClassifier(estimators = vote_est , voting = 'soft')\n",
        "grid_soft_cv = model_selection.cross_validate(grid_soft, data1[Input_col], data1[Target], cv  = cv_split, return_train_score = True, n_jobs=4)\n",
        "grid_soft.fit(data1[Input_col], data1[Target])\n",
        "\n",
        "print(\"Soft Voting w/Tuned Hyperparameters Training w/bin score mean: {:.2f}\". format(grid_soft_cv['train_score'].mean()*100)) \n",
        "print(\"Soft Voting w/Tuned Hyperparameters Test w/bin score mean: {:.2f}\". format(grid_soft_cv['test_score'].mean()*100))\n",
        "print(\"Soft Voting w/Tuned Hyperparameters Test w/bin score 3*std: +/- {:.2f}\". format(grid_soft_cv['test_score'].std()*100*3))\n",
        "print('-'*10)\n",
        "run_total = time.perf_counter() - start_total\n",
        "print('Total optimization time was {:.2f} minutes.'.format(run_total/60))"
      ],
      "execution_count": null,
      "outputs": [
        {
          "output_type": "stream",
          "text": [
            "Hard Voting w/Tuned Hyperparameters Training w/bin score mean: 90.62\n",
            "Hard Voting w/Tuned Hyperparameters Test w/bin score mean: 83.21\n",
            "Hard Voting w/Tuned Hyperparameters Test w/bin score 3*std: +/- 5.84\n",
            "----------\n",
            "Soft Voting w/Tuned Hyperparameters Training w/bin score mean: 90.56\n",
            "Soft Voting w/Tuned Hyperparameters Test w/bin score mean: 82.61\n",
            "Soft Voting w/Tuned Hyperparameters Test w/bin score 3*std: +/- 6.05\n",
            "----------\n",
            "Total optimization time was 1.42 minutes.\n"
          ],
          "name": "stdout"
        }
      ]
    },
    {
      "cell_type": "markdown",
      "metadata": {
        "id": "jN8MjS_K1yzU"
      },
      "source": [
        "#### 최종 모형\n",
        "1. 최적 파라미터 반영 개별 모델\n",
        "2. 최적 파라미터 반영 Voting 모델"
      ]
    },
    {
      "cell_type": "code",
      "metadata": {
        "id": "zgidIq7i1yzU"
      },
      "source": [
        "Target = ['Survived']\n",
        "Input_col = ['Pclass', 'Sex', 'Age', 'SibSp', 'Parch', 'Fare', 'Cabin', 'S', 'C', 'Q', 0, 1, 2, 3, 4, 'familySize', 'FareBin', 'AgeBin', 'isAlone']\n",
        "\n",
        "MLA_predict_sub = gender_submission\n",
        "\n",
        "for algs in vote_est:\n",
        "    alg = algs[1]    \n",
        "    MLA_name = alg.__class__.__name__\n",
        "    \n",
        "    alg.fit(train[Input_col], train[Target])\n",
        "    MLA_predict_sub[MLA_name] = alg.predict(test[Input_col])\n"
      ],
      "execution_count": null,
      "outputs": []
    },
    {
      "cell_type": "code",
      "metadata": {
        "id": "mk5UNj_D1yzU"
      },
      "source": [
        "MLA_predict_sub['vote hard'] = grid_hard.predict(test[Input_col])\n",
        "MLA_predict_sub['soft hard'] = grid_soft.predict(test[Input_col])"
      ],
      "execution_count": null,
      "outputs": []
    },
    {
      "cell_type": "code",
      "metadata": {
        "id": "X8MUnPDO1yzU"
      },
      "source": [
        "for col_nm in MLA_predict_sub.columns[2:]:\n",
        "    sub = pd.DataFrame()\n",
        "    sub['PassengerId'] = MLA_predict_sub['PassengerId']\n",
        "    sub['Survived'] = MLA_predict_sub[col_nm]\n",
        "    sub.to_csv(\"./data/Titanic/sub_\"+col_nm+\".csv\", index=None)"
      ],
      "execution_count": null,
      "outputs": []
    },
    {
      "cell_type": "markdown",
      "metadata": {
        "id": "kTUCATNb1yzU"
      },
      "source": [
        "# 제출"
      ]
    },
    {
      "cell_type": "code",
      "metadata": {
        "id": "HY6-24Vx1yzU",
        "colab": {
          "base_uri": "https://localhost:8080/",
          "height": 462
        },
        "outputId": "89bfd48b-6c4e-4180-e2ff-6067f8b62737"
      },
      "source": [
        "pd.DataFrame([[col_nm, np.mean(MLA_predict_sub['Survived'] == MLA_predict_sub[col_nm])] for col_nm in MLA_predict_sub.columns[2:]]).sort_values(by=1)"
      ],
      "execution_count": null,
      "outputs": [
        {
          "output_type": "execute_result",
          "data": {
            "text/html": [
              "<div>\n",
              "<style scoped>\n",
              "    .dataframe tbody tr th:only-of-type {\n",
              "        vertical-align: middle;\n",
              "    }\n",
              "\n",
              "    .dataframe tbody tr th {\n",
              "        vertical-align: top;\n",
              "    }\n",
              "\n",
              "    .dataframe thead th {\n",
              "        text-align: right;\n",
              "    }\n",
              "</style>\n",
              "<table border=\"1\" class=\"dataframe\">\n",
              "  <thead>\n",
              "    <tr style=\"text-align: right;\">\n",
              "      <th></th>\n",
              "      <th>0</th>\n",
              "      <th>1</th>\n",
              "    </tr>\n",
              "  </thead>\n",
              "  <tbody>\n",
              "    <tr>\n",
              "      <th>9</th>\n",
              "      <td>KNeighborsClassifier</td>\n",
              "      <td>0.650718</td>\n",
              "    </tr>\n",
              "    <tr>\n",
              "      <th>5</th>\n",
              "      <td>GaussianProcessClassifier</td>\n",
              "      <td>0.660287</td>\n",
              "    </tr>\n",
              "    <tr>\n",
              "      <th>10</th>\n",
              "      <td>SVC</td>\n",
              "      <td>0.674641</td>\n",
              "    </tr>\n",
              "    <tr>\n",
              "      <th>1</th>\n",
              "      <td>BaggingClassifier</td>\n",
              "      <td>0.851675</td>\n",
              "    </tr>\n",
              "    <tr>\n",
              "      <th>8</th>\n",
              "      <td>GaussianNB</td>\n",
              "      <td>0.887560</td>\n",
              "    </tr>\n",
              "    <tr>\n",
              "      <th>4</th>\n",
              "      <td>RandomForestClassifier</td>\n",
              "      <td>0.894737</td>\n",
              "    </tr>\n",
              "    <tr>\n",
              "      <th>11</th>\n",
              "      <td>XGBClassifier</td>\n",
              "      <td>0.901914</td>\n",
              "    </tr>\n",
              "    <tr>\n",
              "      <th>13</th>\n",
              "      <td>soft hard</td>\n",
              "      <td>0.901914</td>\n",
              "    </tr>\n",
              "    <tr>\n",
              "      <th>3</th>\n",
              "      <td>GradientBoostingClassifier</td>\n",
              "      <td>0.904306</td>\n",
              "    </tr>\n",
              "    <tr>\n",
              "      <th>12</th>\n",
              "      <td>vote hard</td>\n",
              "      <td>0.911483</td>\n",
              "    </tr>\n",
              "    <tr>\n",
              "      <th>2</th>\n",
              "      <td>ExtraTreesClassifier</td>\n",
              "      <td>0.918660</td>\n",
              "    </tr>\n",
              "    <tr>\n",
              "      <th>6</th>\n",
              "      <td>LogisticRegressionCV</td>\n",
              "      <td>0.918660</td>\n",
              "    </tr>\n",
              "    <tr>\n",
              "      <th>0</th>\n",
              "      <td>AdaBoostClassifier</td>\n",
              "      <td>0.925837</td>\n",
              "    </tr>\n",
              "    <tr>\n",
              "      <th>7</th>\n",
              "      <td>BernoulliNB</td>\n",
              "      <td>0.944976</td>\n",
              "    </tr>\n",
              "  </tbody>\n",
              "</table>\n",
              "</div>"
            ],
            "text/plain": [
              "                             0         1\n",
              "9         KNeighborsClassifier  0.650718\n",
              "5    GaussianProcessClassifier  0.660287\n",
              "10                         SVC  0.674641\n",
              "1            BaggingClassifier  0.851675\n",
              "8                   GaussianNB  0.887560\n",
              "4       RandomForestClassifier  0.894737\n",
              "11               XGBClassifier  0.901914\n",
              "13                   soft hard  0.901914\n",
              "3   GradientBoostingClassifier  0.904306\n",
              "12                   vote hard  0.911483\n",
              "2         ExtraTreesClassifier  0.918660\n",
              "6         LogisticRegressionCV  0.918660\n",
              "0           AdaBoostClassifier  0.925837\n",
              "7                  BernoulliNB  0.944976"
            ]
          },
          "metadata": {
            "tags": []
          },
          "execution_count": 55
        }
      ]
    }
  ]
}